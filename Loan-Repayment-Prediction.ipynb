{
 "cells": [
  {
   "cell_type": "markdown",
   "metadata": {},
   "source": [
    "# Predicting loan repayment using Machine Learning classification models"
   ]
  },
  {
   "cell_type": "code",
   "execution_count": 1,
   "metadata": {},
   "outputs": [],
   "source": [
    "#ignore warnings\n",
    "import warnings\n",
    "warnings.filterwarnings('ignore')"
   ]
  },
  {
   "cell_type": "markdown",
   "metadata": {},
   "source": [
    "\n",
    "## Project Description\n",
    "\n",
    "For this project we will be exploring publicly available data from [LendingClub.com](www.lendingclub.com).  \n",
    "Lending Club connects people who need money (borrowers) with people who have money (investors).   \n",
    "Hopefully, as an investor you would want to invest in people who showed a profile of having a high probability of paying you back. We will try to create a model that will help predict this.\n",
    "\n",
    "Check out more info on Lending Club on [Wikipedia](https://en.wikipedia.org/wiki/Lending_Club). Lending Club also had a [very interesting year in 2016](https://en.wikipedia.org/wiki/Lending_Club#2016).\n",
    "\n",
    "This dataset is from before they went public.\n",
    "\n",
    "We will use lending data from 2007-2010 and will try to classify and predict whether or not the borrower paid back their loan in full. You will analyze the data file provided. \n",
    "\n",
    "Here are what the columns represent:\n",
    "* credit.policy: 1 if the customer meets the credit underwriting criteria of LendingClub.com, and 0 otherwise.\n",
    "* purpose: The purpose of the loan (takes values \"credit_card\", \"debt_consolidation\", \"educational\", \"major_purchase\", \"small_business\", and \"all_other\").\n",
    "* int.rate: The interest rate of the loan, as a proportion (a rate of 11% would be stored as 0.11). Borrowers judged by LendingClub.com to be more risky are assigned higher interest rates.\n",
    "* installment: The monthly installments owed by the borrower if the loan is funded.\n",
    "* log.annual.inc: The natural log of the self-reported annual income of the borrower.\n",
    "* dti: The debt-to-income ratio of the borrower (amount of debt divided by annual income).\n",
    "* fico: The FICO credit score of the borrower.\n",
    "* days.with.cr.line: The number of days the borrower has had a credit line.\n",
    "* revol.bal: The borrower's revolving balance (amount unpaid at the end of the credit card billing cycle).\n",
    "* revol.util: The borrower's revolving line utilization rate (the amount of the credit line used relative to total credit available).\n",
    "* inq.last.6mths: The borrower's number of inquiries by creditors in the last 6 months.\n",
    "* delinq.2yrs: The number of times the borrower had been 30+ days past due on a payment in the past 2 years.\n",
    "* pub.rec: The borrower's number of derogatory public records (bankruptcy filings, tax liens, or judgments).\n",
    "* not.fully.paid: Whether the loan was paid back or not."
   ]
  },
  {
   "cell_type": "markdown",
   "metadata": {},
   "source": [
    "## Import Libraries\n",
    "\n",
    "**Import the usual libraries for pandas and plotting, and sklearn.**"
   ]
  },
  {
   "cell_type": "code",
   "execution_count": 2,
   "metadata": {},
   "outputs": [],
   "source": [
    "import pandas as pd\n",
    "import numpy as np\n",
    "import matplotlib.pyplot as plt\n",
    "import seaborn as sns"
   ]
  },
  {
   "cell_type": "code",
   "execution_count": 3,
   "metadata": {},
   "outputs": [
    {
     "data": {
      "text/plain": [
       "'0.24.1'"
      ]
     },
     "execution_count": 3,
     "metadata": {},
     "output_type": "execute_result"
    }
   ],
   "source": [
    "import sklearn\n",
    "sklearn.__version__"
   ]
  },
  {
   "cell_type": "code",
   "execution_count": 4,
   "metadata": {},
   "outputs": [],
   "source": [
    "pd.set_option('display.max_columns', 100)"
   ]
  },
  {
   "cell_type": "markdown",
   "metadata": {},
   "source": [
    "### These are the packages I used"
   ]
  },
  {
   "cell_type": "markdown",
   "metadata": {},
   "source": [
    "#### Packages are specificed below"
   ]
  },
  {
   "cell_type": "markdown",
   "metadata": {},
   "source": [
    "# Q1\n",
    "- Read in the dataset `loan_data.csv`\n",
    "- How many rows and variables are there?\n",
    "- What are the unique values of `not.fully.paid`?\n",
    "- `not.fully.paid` having a value of 1 means that the person who took the loan did not fully pay it back. What's the proportion of those people in the full dataset?"
   ]
  },
  {
   "cell_type": "markdown",
   "metadata": {},
   "source": [
    "## Get the Data\n",
    "\n",
    "**Use pandas to read loan_data.csv as a dataframe called loans.**"
   ]
  },
  {
   "cell_type": "code",
   "execution_count": 5,
   "metadata": {},
   "outputs": [
    {
     "name": "stdout",
     "output_type": "stream",
     "text": [
      "(7478, 14)\n",
      "(2100, 13)\n"
     ]
    }
   ],
   "source": [
    "loans = pd.read_csv('loans_train.csv')\n",
    "loans_outcome_not_known = pd.read_csv('loans_outcome_not_known.csv')\n",
    "print(loans.shape)\n",
    "print(loans_outcome_not_known.shape)"
   ]
  },
  {
   "cell_type": "code",
   "execution_count": 6,
   "metadata": {},
   "outputs": [
    {
     "data": {
      "text/html": [
       "<div>\n",
       "<style scoped>\n",
       "    .dataframe tbody tr th:only-of-type {\n",
       "        vertical-align: middle;\n",
       "    }\n",
       "\n",
       "    .dataframe tbody tr th {\n",
       "        vertical-align: top;\n",
       "    }\n",
       "\n",
       "    .dataframe thead th {\n",
       "        text-align: right;\n",
       "    }\n",
       "</style>\n",
       "<table border=\"1\" class=\"dataframe\">\n",
       "  <thead>\n",
       "    <tr style=\"text-align: right;\">\n",
       "      <th></th>\n",
       "      <th>credit.policy</th>\n",
       "      <th>purpose</th>\n",
       "      <th>int.rate</th>\n",
       "      <th>installment</th>\n",
       "      <th>log.annual.inc</th>\n",
       "      <th>dti</th>\n",
       "      <th>fico</th>\n",
       "      <th>days.with.cr.line</th>\n",
       "      <th>revol.bal</th>\n",
       "      <th>revol.util</th>\n",
       "      <th>inq.last.6mths</th>\n",
       "      <th>delinq.2yrs</th>\n",
       "      <th>pub.rec</th>\n",
       "      <th>not.fully.paid</th>\n",
       "    </tr>\n",
       "  </thead>\n",
       "  <tbody>\n",
       "    <tr>\n",
       "      <th>0</th>\n",
       "      <td>1</td>\n",
       "      <td>credit_card</td>\n",
       "      <td>0.0800</td>\n",
       "      <td>101.85</td>\n",
       "      <td>10.596635</td>\n",
       "      <td>10.26</td>\n",
       "      <td>747</td>\n",
       "      <td>7560.000000</td>\n",
       "      <td>18467</td>\n",
       "      <td>30.9</td>\n",
       "      <td>3</td>\n",
       "      <td>0</td>\n",
       "      <td>0</td>\n",
       "      <td>0</td>\n",
       "    </tr>\n",
       "    <tr>\n",
       "      <th>1</th>\n",
       "      <td>1</td>\n",
       "      <td>all_other</td>\n",
       "      <td>0.1114</td>\n",
       "      <td>328.04</td>\n",
       "      <td>10.530495</td>\n",
       "      <td>14.13</td>\n",
       "      <td>722</td>\n",
       "      <td>1920.000000</td>\n",
       "      <td>6811</td>\n",
       "      <td>56.8</td>\n",
       "      <td>0</td>\n",
       "      <td>0</td>\n",
       "      <td>0</td>\n",
       "      <td>0</td>\n",
       "    </tr>\n",
       "    <tr>\n",
       "      <th>2</th>\n",
       "      <td>1</td>\n",
       "      <td>debt_consolidation</td>\n",
       "      <td>0.1324</td>\n",
       "      <td>676.20</td>\n",
       "      <td>11.289782</td>\n",
       "      <td>20.73</td>\n",
       "      <td>697</td>\n",
       "      <td>4080.000000</td>\n",
       "      <td>16805</td>\n",
       "      <td>64.1</td>\n",
       "      <td>0</td>\n",
       "      <td>0</td>\n",
       "      <td>0</td>\n",
       "      <td>0</td>\n",
       "    </tr>\n",
       "    <tr>\n",
       "      <th>3</th>\n",
       "      <td>1</td>\n",
       "      <td>debt_consolidation</td>\n",
       "      <td>0.1103</td>\n",
       "      <td>671.44</td>\n",
       "      <td>10.555813</td>\n",
       "      <td>15.72</td>\n",
       "      <td>722</td>\n",
       "      <td>3580.041667</td>\n",
       "      <td>31566</td>\n",
       "      <td>32.3</td>\n",
       "      <td>1</td>\n",
       "      <td>0</td>\n",
       "      <td>0</td>\n",
       "      <td>1</td>\n",
       "    </tr>\n",
       "    <tr>\n",
       "      <th>4</th>\n",
       "      <td>0</td>\n",
       "      <td>debt_consolidation</td>\n",
       "      <td>0.1545</td>\n",
       "      <td>244.21</td>\n",
       "      <td>10.308953</td>\n",
       "      <td>18.80</td>\n",
       "      <td>647</td>\n",
       "      <td>1950.041667</td>\n",
       "      <td>4587</td>\n",
       "      <td>41.0</td>\n",
       "      <td>2</td>\n",
       "      <td>0</td>\n",
       "      <td>0</td>\n",
       "      <td>0</td>\n",
       "    </tr>\n",
       "  </tbody>\n",
       "</table>\n",
       "</div>"
      ],
      "text/plain": [
       "   credit.policy             purpose  int.rate  installment  log.annual.inc  \\\n",
       "0              1         credit_card    0.0800       101.85       10.596635   \n",
       "1              1           all_other    0.1114       328.04       10.530495   \n",
       "2              1  debt_consolidation    0.1324       676.20       11.289782   \n",
       "3              1  debt_consolidation    0.1103       671.44       10.555813   \n",
       "4              0  debt_consolidation    0.1545       244.21       10.308953   \n",
       "\n",
       "     dti  fico  days.with.cr.line  revol.bal  revol.util  inq.last.6mths  \\\n",
       "0  10.26   747        7560.000000      18467        30.9               3   \n",
       "1  14.13   722        1920.000000       6811        56.8               0   \n",
       "2  20.73   697        4080.000000      16805        64.1               0   \n",
       "3  15.72   722        3580.041667      31566        32.3               1   \n",
       "4  18.80   647        1950.041667       4587        41.0               2   \n",
       "\n",
       "   delinq.2yrs  pub.rec  not.fully.paid  \n",
       "0            0        0               0  \n",
       "1            0        0               0  \n",
       "2            0        0               0  \n",
       "3            0        0               1  \n",
       "4            0        0               0  "
      ]
     },
     "execution_count": 6,
     "metadata": {},
     "output_type": "execute_result"
    }
   ],
   "source": [
    "loans.head()"
   ]
  },
  {
   "cell_type": "code",
   "execution_count": 7,
   "metadata": {},
   "outputs": [
    {
     "data": {
      "text/html": [
       "<div>\n",
       "<style scoped>\n",
       "    .dataframe tbody tr th:only-of-type {\n",
       "        vertical-align: middle;\n",
       "    }\n",
       "\n",
       "    .dataframe tbody tr th {\n",
       "        vertical-align: top;\n",
       "    }\n",
       "\n",
       "    .dataframe thead th {\n",
       "        text-align: right;\n",
       "    }\n",
       "</style>\n",
       "<table border=\"1\" class=\"dataframe\">\n",
       "  <thead>\n",
       "    <tr style=\"text-align: right;\">\n",
       "      <th></th>\n",
       "      <th>credit.policy</th>\n",
       "      <th>purpose</th>\n",
       "      <th>int.rate</th>\n",
       "      <th>installment</th>\n",
       "      <th>log.annual.inc</th>\n",
       "      <th>dti</th>\n",
       "      <th>fico</th>\n",
       "      <th>days.with.cr.line</th>\n",
       "      <th>revol.bal</th>\n",
       "      <th>revol.util</th>\n",
       "      <th>inq.last.6mths</th>\n",
       "      <th>delinq.2yrs</th>\n",
       "      <th>pub.rec</th>\n",
       "    </tr>\n",
       "  </thead>\n",
       "  <tbody>\n",
       "    <tr>\n",
       "      <th>0</th>\n",
       "      <td>1</td>\n",
       "      <td>debt_consolidation</td>\n",
       "      <td>0.1324</td>\n",
       "      <td>540.96</td>\n",
       "      <td>10.596635</td>\n",
       "      <td>11.73</td>\n",
       "      <td>672</td>\n",
       "      <td>3210.000000</td>\n",
       "      <td>5671</td>\n",
       "      <td>55.1</td>\n",
       "      <td>0</td>\n",
       "      <td>0</td>\n",
       "      <td>0</td>\n",
       "    </tr>\n",
       "    <tr>\n",
       "      <th>1</th>\n",
       "      <td>0</td>\n",
       "      <td>educational</td>\n",
       "      <td>0.1221</td>\n",
       "      <td>333.15</td>\n",
       "      <td>11.156193</td>\n",
       "      <td>15.82</td>\n",
       "      <td>707</td>\n",
       "      <td>5314.000000</td>\n",
       "      <td>107643</td>\n",
       "      <td>81.0</td>\n",
       "      <td>3</td>\n",
       "      <td>0</td>\n",
       "      <td>0</td>\n",
       "    </tr>\n",
       "    <tr>\n",
       "      <th>2</th>\n",
       "      <td>1</td>\n",
       "      <td>debt_consolidation</td>\n",
       "      <td>0.1218</td>\n",
       "      <td>166.50</td>\n",
       "      <td>10.753836</td>\n",
       "      <td>6.38</td>\n",
       "      <td>772</td>\n",
       "      <td>1440.000000</td>\n",
       "      <td>233</td>\n",
       "      <td>6.7</td>\n",
       "      <td>0</td>\n",
       "      <td>0</td>\n",
       "      <td>0</td>\n",
       "    </tr>\n",
       "    <tr>\n",
       "      <th>3</th>\n",
       "      <td>0</td>\n",
       "      <td>major_purchase</td>\n",
       "      <td>0.1461</td>\n",
       "      <td>124.12</td>\n",
       "      <td>10.239960</td>\n",
       "      <td>0.00</td>\n",
       "      <td>692</td>\n",
       "      <td>1530.041667</td>\n",
       "      <td>0</td>\n",
       "      <td>0.0</td>\n",
       "      <td>6</td>\n",
       "      <td>0</td>\n",
       "      <td>0</td>\n",
       "    </tr>\n",
       "    <tr>\n",
       "      <th>4</th>\n",
       "      <td>1</td>\n",
       "      <td>credit_card</td>\n",
       "      <td>0.0800</td>\n",
       "      <td>156.69</td>\n",
       "      <td>10.434116</td>\n",
       "      <td>15.85</td>\n",
       "      <td>767</td>\n",
       "      <td>10170.000000</td>\n",
       "      <td>5748</td>\n",
       "      <td>12.3</td>\n",
       "      <td>0</td>\n",
       "      <td>1</td>\n",
       "      <td>0</td>\n",
       "    </tr>\n",
       "  </tbody>\n",
       "</table>\n",
       "</div>"
      ],
      "text/plain": [
       "   credit.policy             purpose  int.rate  installment  log.annual.inc  \\\n",
       "0              1  debt_consolidation    0.1324       540.96       10.596635   \n",
       "1              0         educational    0.1221       333.15       11.156193   \n",
       "2              1  debt_consolidation    0.1218       166.50       10.753836   \n",
       "3              0      major_purchase    0.1461       124.12       10.239960   \n",
       "4              1         credit_card    0.0800       156.69       10.434116   \n",
       "\n",
       "     dti  fico  days.with.cr.line  revol.bal  revol.util  inq.last.6mths  \\\n",
       "0  11.73   672        3210.000000       5671        55.1               0   \n",
       "1  15.82   707        5314.000000     107643        81.0               3   \n",
       "2   6.38   772        1440.000000        233         6.7               0   \n",
       "3   0.00   692        1530.041667          0         0.0               6   \n",
       "4  15.85   767       10170.000000       5748        12.3               0   \n",
       "\n",
       "   delinq.2yrs  pub.rec  \n",
       "0            0        0  \n",
       "1            0        0  \n",
       "2            0        0  \n",
       "3            0        0  \n",
       "4            1        0  "
      ]
     },
     "execution_count": 7,
     "metadata": {},
     "output_type": "execute_result"
    }
   ],
   "source": [
    "loans_outcome_not_known.head()"
   ]
  },
  {
   "cell_type": "markdown",
   "metadata": {},
   "source": [
    "**Check out the info(), head(), and describe() methods on loans.**"
   ]
  },
  {
   "cell_type": "code",
   "execution_count": 8,
   "metadata": {},
   "outputs": [
    {
     "name": "stdout",
     "output_type": "stream",
     "text": [
      "<class 'pandas.core.frame.DataFrame'>\n",
      "RangeIndex: 7478 entries, 0 to 7477\n",
      "Data columns (total 14 columns):\n",
      " #   Column             Non-Null Count  Dtype  \n",
      "---  ------             --------------  -----  \n",
      " 0   credit.policy      7478 non-null   int64  \n",
      " 1   purpose            7478 non-null   object \n",
      " 2   int.rate           7478 non-null   float64\n",
      " 3   installment        7478 non-null   float64\n",
      " 4   log.annual.inc     7478 non-null   float64\n",
      " 5   dti                7478 non-null   float64\n",
      " 6   fico               7478 non-null   int64  \n",
      " 7   days.with.cr.line  7478 non-null   float64\n",
      " 8   revol.bal          7478 non-null   int64  \n",
      " 9   revol.util         7478 non-null   float64\n",
      " 10  inq.last.6mths     7478 non-null   int64  \n",
      " 11  delinq.2yrs        7478 non-null   int64  \n",
      " 12  pub.rec            7478 non-null   int64  \n",
      " 13  not.fully.paid     7478 non-null   int64  \n",
      "dtypes: float64(6), int64(7), object(1)\n",
      "memory usage: 818.0+ KB\n"
     ]
    }
   ],
   "source": [
    "loans.info()"
   ]
  },
  {
   "cell_type": "code",
   "execution_count": 9,
   "metadata": {},
   "outputs": [
    {
     "data": {
      "text/html": [
       "<div>\n",
       "<style scoped>\n",
       "    .dataframe tbody tr th:only-of-type {\n",
       "        vertical-align: middle;\n",
       "    }\n",
       "\n",
       "    .dataframe tbody tr th {\n",
       "        vertical-align: top;\n",
       "    }\n",
       "\n",
       "    .dataframe thead th {\n",
       "        text-align: right;\n",
       "    }\n",
       "</style>\n",
       "<table border=\"1\" class=\"dataframe\">\n",
       "  <thead>\n",
       "    <tr style=\"text-align: right;\">\n",
       "      <th></th>\n",
       "      <th>credit.policy</th>\n",
       "      <th>int.rate</th>\n",
       "      <th>installment</th>\n",
       "      <th>log.annual.inc</th>\n",
       "      <th>dti</th>\n",
       "      <th>fico</th>\n",
       "      <th>days.with.cr.line</th>\n",
       "      <th>revol.bal</th>\n",
       "      <th>revol.util</th>\n",
       "      <th>inq.last.6mths</th>\n",
       "      <th>delinq.2yrs</th>\n",
       "      <th>pub.rec</th>\n",
       "      <th>not.fully.paid</th>\n",
       "    </tr>\n",
       "  </thead>\n",
       "  <tbody>\n",
       "    <tr>\n",
       "      <th>count</th>\n",
       "      <td>7478.000000</td>\n",
       "      <td>7478.000000</td>\n",
       "      <td>7478.000000</td>\n",
       "      <td>7478.000000</td>\n",
       "      <td>7478.000000</td>\n",
       "      <td>7478.000000</td>\n",
       "      <td>7478.000000</td>\n",
       "      <td>7.478000e+03</td>\n",
       "      <td>7478.000000</td>\n",
       "      <td>7478.000000</td>\n",
       "      <td>7478.000000</td>\n",
       "      <td>7478.000000</td>\n",
       "      <td>7478.000000</td>\n",
       "    </tr>\n",
       "    <tr>\n",
       "      <th>mean</th>\n",
       "      <td>0.800615</td>\n",
       "      <td>0.123130</td>\n",
       "      <td>322.555320</td>\n",
       "      <td>10.936374</td>\n",
       "      <td>12.624763</td>\n",
       "      <td>710.180663</td>\n",
       "      <td>4543.688470</td>\n",
       "      <td>1.729738e+04</td>\n",
       "      <td>46.917329</td>\n",
       "      <td>1.618748</td>\n",
       "      <td>0.161942</td>\n",
       "      <td>0.063921</td>\n",
       "      <td>0.191629</td>\n",
       "    </tr>\n",
       "    <tr>\n",
       "      <th>std</th>\n",
       "      <td>0.399565</td>\n",
       "      <td>0.026727</td>\n",
       "      <td>208.950622</td>\n",
       "      <td>0.621971</td>\n",
       "      <td>6.896500</td>\n",
       "      <td>37.537593</td>\n",
       "      <td>2477.818646</td>\n",
       "      <td>3.601391e+04</td>\n",
       "      <td>28.982548</td>\n",
       "      <td>2.244517</td>\n",
       "      <td>0.530832</td>\n",
       "      <td>0.263576</td>\n",
       "      <td>0.393609</td>\n",
       "    </tr>\n",
       "    <tr>\n",
       "      <th>min</th>\n",
       "      <td>0.000000</td>\n",
       "      <td>0.060000</td>\n",
       "      <td>15.670000</td>\n",
       "      <td>7.547502</td>\n",
       "      <td>0.000000</td>\n",
       "      <td>612.000000</td>\n",
       "      <td>180.041667</td>\n",
       "      <td>0.000000e+00</td>\n",
       "      <td>0.000000</td>\n",
       "      <td>0.000000</td>\n",
       "      <td>0.000000</td>\n",
       "      <td>0.000000</td>\n",
       "      <td>0.000000</td>\n",
       "    </tr>\n",
       "    <tr>\n",
       "      <th>25%</th>\n",
       "      <td>1.000000</td>\n",
       "      <td>0.105100</td>\n",
       "      <td>165.425000</td>\n",
       "      <td>10.555813</td>\n",
       "      <td>7.200000</td>\n",
       "      <td>682.000000</td>\n",
       "      <td>2820.000000</td>\n",
       "      <td>3.109000e+03</td>\n",
       "      <td>23.000000</td>\n",
       "      <td>0.000000</td>\n",
       "      <td>0.000000</td>\n",
       "      <td>0.000000</td>\n",
       "      <td>0.000000</td>\n",
       "    </tr>\n",
       "    <tr>\n",
       "      <th>50%</th>\n",
       "      <td>1.000000</td>\n",
       "      <td>0.122900</td>\n",
       "      <td>271.110000</td>\n",
       "      <td>10.933107</td>\n",
       "      <td>12.680000</td>\n",
       "      <td>707.000000</td>\n",
       "      <td>4110.041667</td>\n",
       "      <td>8.654000e+03</td>\n",
       "      <td>46.600000</td>\n",
       "      <td>1.000000</td>\n",
       "      <td>0.000000</td>\n",
       "      <td>0.000000</td>\n",
       "      <td>0.000000</td>\n",
       "    </tr>\n",
       "    <tr>\n",
       "      <th>75%</th>\n",
       "      <td>1.000000</td>\n",
       "      <td>0.141100</td>\n",
       "      <td>441.600000</td>\n",
       "      <td>11.302204</td>\n",
       "      <td>17.992500</td>\n",
       "      <td>737.000000</td>\n",
       "      <td>5700.958333</td>\n",
       "      <td>1.827000e+04</td>\n",
       "      <td>70.775000</td>\n",
       "      <td>2.000000</td>\n",
       "      <td>0.000000</td>\n",
       "      <td>0.000000</td>\n",
       "      <td>0.000000</td>\n",
       "    </tr>\n",
       "    <tr>\n",
       "      <th>max</th>\n",
       "      <td>1.000000</td>\n",
       "      <td>0.216400</td>\n",
       "      <td>940.140000</td>\n",
       "      <td>14.180154</td>\n",
       "      <td>29.960000</td>\n",
       "      <td>822.000000</td>\n",
       "      <td>17639.958330</td>\n",
       "      <td>1.207359e+06</td>\n",
       "      <td>119.000000</td>\n",
       "      <td>33.000000</td>\n",
       "      <td>13.000000</td>\n",
       "      <td>5.000000</td>\n",
       "      <td>1.000000</td>\n",
       "    </tr>\n",
       "  </tbody>\n",
       "</table>\n",
       "</div>"
      ],
      "text/plain": [
       "       credit.policy     int.rate  installment  log.annual.inc          dti  \\\n",
       "count    7478.000000  7478.000000  7478.000000     7478.000000  7478.000000   \n",
       "mean        0.800615     0.123130   322.555320       10.936374    12.624763   \n",
       "std         0.399565     0.026727   208.950622        0.621971     6.896500   \n",
       "min         0.000000     0.060000    15.670000        7.547502     0.000000   \n",
       "25%         1.000000     0.105100   165.425000       10.555813     7.200000   \n",
       "50%         1.000000     0.122900   271.110000       10.933107    12.680000   \n",
       "75%         1.000000     0.141100   441.600000       11.302204    17.992500   \n",
       "max         1.000000     0.216400   940.140000       14.180154    29.960000   \n",
       "\n",
       "              fico  days.with.cr.line     revol.bal   revol.util  \\\n",
       "count  7478.000000        7478.000000  7.478000e+03  7478.000000   \n",
       "mean    710.180663        4543.688470  1.729738e+04    46.917329   \n",
       "std      37.537593        2477.818646  3.601391e+04    28.982548   \n",
       "min     612.000000         180.041667  0.000000e+00     0.000000   \n",
       "25%     682.000000        2820.000000  3.109000e+03    23.000000   \n",
       "50%     707.000000        4110.041667  8.654000e+03    46.600000   \n",
       "75%     737.000000        5700.958333  1.827000e+04    70.775000   \n",
       "max     822.000000       17639.958330  1.207359e+06   119.000000   \n",
       "\n",
       "       inq.last.6mths  delinq.2yrs      pub.rec  not.fully.paid  \n",
       "count     7478.000000  7478.000000  7478.000000     7478.000000  \n",
       "mean         1.618748     0.161942     0.063921        0.191629  \n",
       "std          2.244517     0.530832     0.263576        0.393609  \n",
       "min          0.000000     0.000000     0.000000        0.000000  \n",
       "25%          0.000000     0.000000     0.000000        0.000000  \n",
       "50%          1.000000     0.000000     0.000000        0.000000  \n",
       "75%          2.000000     0.000000     0.000000        0.000000  \n",
       "max         33.000000    13.000000     5.000000        1.000000  "
      ]
     },
     "execution_count": 9,
     "metadata": {},
     "output_type": "execute_result"
    }
   ],
   "source": [
    "loans.describe()"
   ]
  },
  {
   "cell_type": "code",
   "execution_count": 10,
   "metadata": {},
   "outputs": [
    {
     "name": "stdout",
     "output_type": "stream",
     "text": [
      "The unique value are:  [0 1]\n",
      "-------------------------------------------------------------\n",
      "Below is the number of people who paid back and not paid back\n",
      "0    6045\n",
      "1    1433\n",
      "Name: not.fully.paid, dtype: int64\n",
      "-------------------------------------------------------------\n",
      "Proportion of not fully paid: 80.84 %\n",
      "Proportion of the rest: 19.16 %\n",
      "-------------------------------------------------------------\n",
      "1 means the person who took the loan did not fully pay it back\n",
      "0 is otherwise\n",
      "-------------------------------------------------------------\n"
     ]
    }
   ],
   "source": [
    "print(\"The unique value are: \", loans['not.fully.paid'].unique())\n",
    "print(\"-------------------------------------------------------------\")\n",
    "print(\"Below is the number of people who paid back and not paid back\")\n",
    "print(loans['not.fully.paid'].value_counts())\n",
    "print(\"-------------------------------------------------------------\")\n",
    "notFullPaid = loans['not.fully.paid'].value_counts()[0]\n",
    "sum_ = loans['not.fully.paid'].value_counts().sum()\n",
    "ratio = (notFullPaid/sum_)*100\n",
    "print(\"Proportion of not fully paid: {} %\".format(round(ratio, 2)))\n",
    "print(\"Proportion of the rest: {} %\".format(round(100 - ratio, 2)))\n",
    "print(\"-------------------------------------------------------------\")\n",
    "print(\"1 means the person who took the loan did not fully pay it back\")\n",
    "print(\"0 is otherwise\")\n",
    "print(\"-------------------------------------------------------------\")"
   ]
  },
  {
   "cell_type": "markdown",
   "metadata": {},
   "source": [
    "### Q&A\n",
    "\n",
    "##### How many rows and variables are there?\n",
    "As per loans.info(), it displayed 14 columns with 7,478 rows in full dataset of loans_train.\n",
    "\n",
    "##### What are the unique values of not.fully.paid?\n",
    "It consists of 2 unique values '1' implying person with loan did not fully pay back and '0' for the otherwise. \n",
    "\n",
    "\n",
    "#### What's the proportion of those people in the full dataset?\n",
    "The percentage of people who took the loan did not fully pay it back is 80.84 while the rest is 19.16.\n"
   ]
  },
  {
   "cell_type": "markdown",
   "metadata": {},
   "source": [
    "# Q2\n",
    "- Visual and Exploratory Analysis\n",
    "- Carry out the tasks given below"
   ]
  },
  {
   "cell_type": "markdown",
   "metadata": {},
   "source": [
    "## Exploratory Data Analysis\n",
    "\n",
    "- Let's do some data visualization! \n",
    "- You can use many different visualization libraries inclusing matplotlib, seaborn, pandasand many more. Feel free to use whatever library you want. Don't worry about the colors matching, just worry about getting the main idea of the plot.\n",
    "\n",
    "**Create a histogram of two FICO distributions on top of each other, one for each credit.policy outcome.**\n",
    "\n",
    "*Note: You'll probably need one line of code for each histogram, I also recommend just using pandas built in .hist()*"
   ]
  },
  {
   "cell_type": "code",
   "execution_count": 11,
   "metadata": {},
   "outputs": [],
   "source": [
    "credit_1 = loans['fico'].loc[(loans['credit.policy'] == 1)]\n",
    "credit_0 = loans['fico'].loc[(loans['credit.policy'] == 0)]"
   ]
  },
  {
   "cell_type": "code",
   "execution_count": 12,
   "metadata": {},
   "outputs": [
    {
     "data": {
      "text/plain": [
       "<matplotlib.legend.Legend at 0x7f9c650e7a90>"
      ]
     },
     "execution_count": 12,
     "metadata": {},
     "output_type": "execute_result"
    },
    {
     "data": {
      "image/png": "[encoded data removed]",
      "text/plain": [
       "<Figure size 720x432 with 1 Axes>"
      ]
     },
     "metadata": {
      "needs_background": "light"
     },
     "output_type": "display_data"
    }
   ],
   "source": [
    "plt.figure(figsize=(10,6))\n",
    "plt.hist(credit_1, bins=30, alpha=0.6,label=\"Credit policy 1\")\n",
    "plt.hist(credit_0, bins=30, alpha=0.6, label=\"Credit policy 0\")\n",
    "plt.xlabel(\"FICO Score\", size=14)\n",
    "plt.ylabel(\"Count\", size=14)\n",
    "plt.title(\"FICO Distribution by Credit Policy\", size=18)\n",
    "plt.legend(loc='upper right')"
   ]
  },
  {
   "cell_type": "markdown",
   "metadata": {},
   "source": [
    "**Create a similar figure, except this time select by the not.fully.paid column.**"
   ]
  },
  {
   "cell_type": "code",
   "execution_count": 13,
   "metadata": {},
   "outputs": [],
   "source": [
    "paid_1 = loans['fico'].loc[(loans['not.fully.paid'] == 1)]\n",
    "paid_0 = loans['fico'].loc[(loans['not.fully.paid'] == 0)]"
   ]
  },
  {
   "cell_type": "code",
   "execution_count": 14,
   "metadata": {},
   "outputs": [
    {
     "data": {
      "text/plain": [
       "<matplotlib.legend.Legend at 0x7f9c65099910>"
      ]
     },
     "execution_count": 14,
     "metadata": {},
     "output_type": "execute_result"
    },
    {
     "data": {
      "image/png": "[encoded data removed]",
      "text/plain": [
       "<Figure size 720x432 with 1 Axes>"
      ]
     },
     "metadata": {
      "needs_background": "light"
     },
     "output_type": "display_data"
    }
   ],
   "source": [
    "plt.figure(figsize=(10,6))\n",
    "plt.hist(paid_1, bins=30, alpha=0.5,label=\"Not Fully Paid 1\")\n",
    "plt.hist(paid_0, bins=30, alpha=0.5, label=\"Not Fully Paid 0\")\n",
    "plt.xlabel(\"FICO Score\", size=14)\n",
    "plt.ylabel(\"Count\", size=14)\n",
    "plt.title(\"FICO Distribution by Credit Policy\", size=18)\n",
    "plt.legend(loc='upper right')"
   ]
  },
  {
   "cell_type": "markdown",
   "metadata": {},
   "source": [
    "**Create a countplot (bar plot showing counts using seaborn) that shows the counts of loans by purpose, with the color hue defined by `not.fully.paid`**"
   ]
  },
  {
   "cell_type": "code",
   "execution_count": 15,
   "metadata": {},
   "outputs": [
    {
     "data": {
      "text/plain": [
       "debt_consolidation    3075\n",
       "all_other             1782\n",
       "credit_card            972\n",
       "home_improvement       514\n",
       "small_business         508\n",
       "major_purchase         347\n",
       "educational            280\n",
       "Name: purpose, dtype: int64"
      ]
     },
     "execution_count": 15,
     "metadata": {},
     "output_type": "execute_result"
    }
   ],
   "source": [
    "purpose = loans['purpose']\n",
    "purpose.value_counts() "
   ]
  },
  {
   "cell_type": "code",
   "execution_count": 16,
   "metadata": {},
   "outputs": [
    {
     "data": {
      "text/plain": [
       "Text(0.5, 1.0, 'The count of loans by purpose')"
      ]
     },
     "execution_count": 16,
     "metadata": {},
     "output_type": "execute_result"
    },
    {
     "data": {
      "image/png": "[encoded data removed]",
      "text/plain": [
       "<Figure size 720x432 with 1 Axes>"
      ]
     },
     "metadata": {
      "needs_background": "light"
     },
     "output_type": "display_data"
    }
   ],
   "source": [
    "plt.figure(figsize=(10, 6))\n",
    "sns.countplot(data = loans, x = 'purpose', hue = 'not.fully.paid')\n",
    "plt.ylabel(\"count\", size=14)\n",
    "plt.xlabel(\"purpose\", size=14)\n",
    "plt.title(\"The count of loans by purpose\", size=18)"
   ]
  },
  {
   "cell_type": "markdown",
   "metadata": {},
   "source": [
    "**Let's see the trend between FICO score and interest rate. Recreate the following jointplot.**"
   ]
  },
  {
   "cell_type": "code",
   "execution_count": 17,
   "metadata": {},
   "outputs": [
    {
     "data": {
      "text/plain": [
       "<seaborn.axisgrid.JointGrid at 0x7f9c64b900d0>"
      ]
     },
     "execution_count": 17,
     "metadata": {},
     "output_type": "execute_result"
    },
    {
     "data": {
      "image/png": "[encoded data removed]",
      "text/plain": [
       "<Figure size 432x432 with 3 Axes>"
      ]
     },
     "metadata": {
      "needs_background": "light"
     },
     "output_type": "display_data"
    }
   ],
   "source": [
    "sns.jointplot(data = loans, x = 'fico', y = 'int.rate')"
   ]
  },
  {
   "cell_type": "markdown",
   "metadata": {},
   "source": [
    "**Create the following lmplots to see if the trend differed between `not.fully.paid` and `credit.policy`. Check the documentation for seaborn `lmplot()` if you can't figure out how to separate it into columns.**"
   ]
  },
  {
   "cell_type": "code",
   "execution_count": 18,
   "metadata": {},
   "outputs": [
    {
     "data": {
      "text/plain": [
       "<seaborn.axisgrid.FacetGrid at 0x7f9c64a666d0>"
      ]
     },
     "execution_count": 18,
     "metadata": {},
     "output_type": "execute_result"
    },
    {
     "data": {
      "image/png": "[encoded data removed]",
      "text/plain": [
       "<Figure size 1106.05x432 with 2 Axes>"
      ]
     },
     "metadata": {
      "needs_background": "light"
     },
     "output_type": "display_data"
    }
   ],
   "source": [
    "sns.lmplot(data=loans, x=\"fico\", y=\"int.rate\", col=\"not.fully.paid\", \n",
    "           hue=\"credit.policy\", height=6, aspect=1.2)"
   ]
  },
  {
   "cell_type": "markdown",
   "metadata": {},
   "source": [
    "# Q3"
   ]
  },
  {
   "cell_type": "markdown",
   "metadata": {},
   "source": [
    "## Setting up the Data\n",
    "\n",
    "Let's get ready to set up our data for our models!\n",
    "\n",
    "**Check loans.info() again.**"
   ]
  },
  {
   "cell_type": "code",
   "execution_count": 19,
   "metadata": {},
   "outputs": [
    {
     "name": "stdout",
     "output_type": "stream",
     "text": [
      "<class 'pandas.core.frame.DataFrame'>\n",
      "RangeIndex: 7478 entries, 0 to 7477\n",
      "Data columns (total 14 columns):\n",
      " #   Column             Non-Null Count  Dtype  \n",
      "---  ------             --------------  -----  \n",
      " 0   credit.policy      7478 non-null   int64  \n",
      " 1   purpose            7478 non-null   object \n",
      " 2   int.rate           7478 non-null   float64\n",
      " 3   installment        7478 non-null   float64\n",
      " 4   log.annual.inc     7478 non-null   float64\n",
      " 5   dti                7478 non-null   float64\n",
      " 6   fico               7478 non-null   int64  \n",
      " 7   days.with.cr.line  7478 non-null   float64\n",
      " 8   revol.bal          7478 non-null   int64  \n",
      " 9   revol.util         7478 non-null   float64\n",
      " 10  inq.last.6mths     7478 non-null   int64  \n",
      " 11  delinq.2yrs        7478 non-null   int64  \n",
      " 12  pub.rec            7478 non-null   int64  \n",
      " 13  not.fully.paid     7478 non-null   int64  \n",
      "dtypes: float64(6), int64(7), object(1)\n",
      "memory usage: 818.0+ KB\n"
     ]
    }
   ],
   "source": [
    "loans.info()"
   ]
  },
  {
   "cell_type": "markdown",
   "metadata": {},
   "source": [
    "## Categorical Features\n",
    "\n",
    "Notice that the **purpose** column is of categorical type.\n",
    "\n",
    "That means we need to transform them using dummy variables so sklearn will be able to understand them. Let's do this in one clean step using pd.get_dummies().\n",
    "\n",
    "Let's show you a way of dealing with these columns that can be expanded to multiple categorical features if necessary.\n",
    "\n",
    "**Create a list of 1 element containing the string 'purpose'. Call this list cat_feats.**"
   ]
  },
  {
   "cell_type": "markdown",
   "metadata": {},
   "source": [
    "> The same transformation needs to be aplied on every dataset. The easiest way would be to merge train and test (loans_outcome_not_known) sets, and to split after the transformation."
   ]
  },
  {
   "cell_type": "code",
   "execution_count": 20,
   "metadata": {
    "scrolled": true
   },
   "outputs": [
    {
     "data": {
      "text/html": [
       "<div>\n",
       "<style scoped>\n",
       "    .dataframe tbody tr th:only-of-type {\n",
       "        vertical-align: middle;\n",
       "    }\n",
       "\n",
       "    .dataframe tbody tr th {\n",
       "        vertical-align: top;\n",
       "    }\n",
       "\n",
       "    .dataframe thead th {\n",
       "        text-align: right;\n",
       "    }\n",
       "</style>\n",
       "<table border=\"1\" class=\"dataframe\">\n",
       "  <thead>\n",
       "    <tr style=\"text-align: right;\">\n",
       "      <th></th>\n",
       "      <th>credit.policy</th>\n",
       "      <th>purpose</th>\n",
       "      <th>int.rate</th>\n",
       "      <th>installment</th>\n",
       "      <th>log.annual.inc</th>\n",
       "      <th>dti</th>\n",
       "      <th>fico</th>\n",
       "      <th>days.with.cr.line</th>\n",
       "      <th>revol.bal</th>\n",
       "      <th>revol.util</th>\n",
       "      <th>inq.last.6mths</th>\n",
       "      <th>delinq.2yrs</th>\n",
       "      <th>pub.rec</th>\n",
       "      <th>not.fully.paid</th>\n",
       "    </tr>\n",
       "  </thead>\n",
       "  <tbody>\n",
       "    <tr>\n",
       "      <th>0</th>\n",
       "      <td>1</td>\n",
       "      <td>credit_card</td>\n",
       "      <td>0.0800</td>\n",
       "      <td>101.85</td>\n",
       "      <td>10.596635</td>\n",
       "      <td>10.26</td>\n",
       "      <td>747</td>\n",
       "      <td>7560.000000</td>\n",
       "      <td>18467</td>\n",
       "      <td>30.9</td>\n",
       "      <td>3</td>\n",
       "      <td>0</td>\n",
       "      <td>0</td>\n",
       "      <td>0</td>\n",
       "    </tr>\n",
       "    <tr>\n",
       "      <th>1</th>\n",
       "      <td>1</td>\n",
       "      <td>all_other</td>\n",
       "      <td>0.1114</td>\n",
       "      <td>328.04</td>\n",
       "      <td>10.530495</td>\n",
       "      <td>14.13</td>\n",
       "      <td>722</td>\n",
       "      <td>1920.000000</td>\n",
       "      <td>6811</td>\n",
       "      <td>56.8</td>\n",
       "      <td>0</td>\n",
       "      <td>0</td>\n",
       "      <td>0</td>\n",
       "      <td>0</td>\n",
       "    </tr>\n",
       "    <tr>\n",
       "      <th>2</th>\n",
       "      <td>1</td>\n",
       "      <td>debt_consolidation</td>\n",
       "      <td>0.1324</td>\n",
       "      <td>676.20</td>\n",
       "      <td>11.289782</td>\n",
       "      <td>20.73</td>\n",
       "      <td>697</td>\n",
       "      <td>4080.000000</td>\n",
       "      <td>16805</td>\n",
       "      <td>64.1</td>\n",
       "      <td>0</td>\n",
       "      <td>0</td>\n",
       "      <td>0</td>\n",
       "      <td>0</td>\n",
       "    </tr>\n",
       "    <tr>\n",
       "      <th>3</th>\n",
       "      <td>1</td>\n",
       "      <td>debt_consolidation</td>\n",
       "      <td>0.1103</td>\n",
       "      <td>671.44</td>\n",
       "      <td>10.555813</td>\n",
       "      <td>15.72</td>\n",
       "      <td>722</td>\n",
       "      <td>3580.041667</td>\n",
       "      <td>31566</td>\n",
       "      <td>32.3</td>\n",
       "      <td>1</td>\n",
       "      <td>0</td>\n",
       "      <td>0</td>\n",
       "      <td>1</td>\n",
       "    </tr>\n",
       "    <tr>\n",
       "      <th>4</th>\n",
       "      <td>0</td>\n",
       "      <td>debt_consolidation</td>\n",
       "      <td>0.1545</td>\n",
       "      <td>244.21</td>\n",
       "      <td>10.308953</td>\n",
       "      <td>18.80</td>\n",
       "      <td>647</td>\n",
       "      <td>1950.041667</td>\n",
       "      <td>4587</td>\n",
       "      <td>41.0</td>\n",
       "      <td>2</td>\n",
       "      <td>0</td>\n",
       "      <td>0</td>\n",
       "      <td>0</td>\n",
       "    </tr>\n",
       "  </tbody>\n",
       "</table>\n",
       "</div>"
      ],
      "text/plain": [
       "   credit.policy             purpose  int.rate  installment  log.annual.inc  \\\n",
       "0              1         credit_card    0.0800       101.85       10.596635   \n",
       "1              1           all_other    0.1114       328.04       10.530495   \n",
       "2              1  debt_consolidation    0.1324       676.20       11.289782   \n",
       "3              1  debt_consolidation    0.1103       671.44       10.555813   \n",
       "4              0  debt_consolidation    0.1545       244.21       10.308953   \n",
       "\n",
       "     dti  fico  days.with.cr.line  revol.bal  revol.util  inq.last.6mths  \\\n",
       "0  10.26   747        7560.000000      18467        30.9               3   \n",
       "1  14.13   722        1920.000000       6811        56.8               0   \n",
       "2  20.73   697        4080.000000      16805        64.1               0   \n",
       "3  15.72   722        3580.041667      31566        32.3               1   \n",
       "4  18.80   647        1950.041667       4587        41.0               2   \n",
       "\n",
       "   delinq.2yrs  pub.rec  not.fully.paid  \n",
       "0            0        0               0  \n",
       "1            0        0               0  \n",
       "2            0        0               0  \n",
       "3            0        0               1  \n",
       "4            0        0               0  "
      ]
     },
     "execution_count": 20,
     "metadata": {},
     "output_type": "execute_result"
    }
   ],
   "source": [
    "loans.head()"
   ]
  },
  {
   "cell_type": "markdown",
   "metadata": {},
   "source": [
    "**Now you can use `pd.get_dummies(loans,columns=cat_feats)` to create a fixed larger dataframe that has new feature columns with dummy variables.**"
   ]
  },
  {
   "cell_type": "code",
   "execution_count": 21,
   "metadata": {},
   "outputs": [
    {
     "data": {
      "text/plain": [
       "array(['credit_card', 'all_other', 'debt_consolidation',\n",
       "       'home_improvement', 'major_purchase', 'small_business',\n",
       "       'educational'], dtype=object)"
      ]
     },
     "execution_count": 21,
     "metadata": {},
     "output_type": "execute_result"
    }
   ],
   "source": [
    "loans['purpose'].unique()"
   ]
  },
  {
   "cell_type": "code",
   "execution_count": 22,
   "metadata": {},
   "outputs": [],
   "source": [
    "cat_feats = ['purpose']\n",
    "loans = pd.get_dummies(loans, columns=cat_feats)"
   ]
  },
  {
   "cell_type": "code",
   "execution_count": 23,
   "metadata": {},
   "outputs": [],
   "source": [
    "loans_outcome_not_known = pd.get_dummies(loans_outcome_not_known, columns=cat_feats)"
   ]
  },
  {
   "cell_type": "code",
   "execution_count": 24,
   "metadata": {},
   "outputs": [
    {
     "data": {
      "text/html": [
       "<div>\n",
       "<style scoped>\n",
       "    .dataframe tbody tr th:only-of-type {\n",
       "        vertical-align: middle;\n",
       "    }\n",
       "\n",
       "    .dataframe tbody tr th {\n",
       "        vertical-align: top;\n",
       "    }\n",
       "\n",
       "    .dataframe thead th {\n",
       "        text-align: right;\n",
       "    }\n",
       "</style>\n",
       "<table border=\"1\" class=\"dataframe\">\n",
       "  <thead>\n",
       "    <tr style=\"text-align: right;\">\n",
       "      <th></th>\n",
       "      <th>credit.policy</th>\n",
       "      <th>int.rate</th>\n",
       "      <th>installment</th>\n",
       "      <th>log.annual.inc</th>\n",
       "      <th>dti</th>\n",
       "      <th>fico</th>\n",
       "      <th>days.with.cr.line</th>\n",
       "      <th>revol.bal</th>\n",
       "      <th>revol.util</th>\n",
       "      <th>inq.last.6mths</th>\n",
       "      <th>delinq.2yrs</th>\n",
       "      <th>pub.rec</th>\n",
       "      <th>not.fully.paid</th>\n",
       "      <th>purpose_all_other</th>\n",
       "      <th>purpose_credit_card</th>\n",
       "      <th>purpose_debt_consolidation</th>\n",
       "      <th>purpose_educational</th>\n",
       "      <th>purpose_home_improvement</th>\n",
       "      <th>purpose_major_purchase</th>\n",
       "      <th>purpose_small_business</th>\n",
       "    </tr>\n",
       "  </thead>\n",
       "  <tbody>\n",
       "    <tr>\n",
       "      <th>0</th>\n",
       "      <td>1</td>\n",
       "      <td>0.0800</td>\n",
       "      <td>101.85</td>\n",
       "      <td>10.596635</td>\n",
       "      <td>10.26</td>\n",
       "      <td>747</td>\n",
       "      <td>7560.000000</td>\n",
       "      <td>18467</td>\n",
       "      <td>30.9</td>\n",
       "      <td>3</td>\n",
       "      <td>0</td>\n",
       "      <td>0</td>\n",
       "      <td>0</td>\n",
       "      <td>0</td>\n",
       "      <td>1</td>\n",
       "      <td>0</td>\n",
       "      <td>0</td>\n",
       "      <td>0</td>\n",
       "      <td>0</td>\n",
       "      <td>0</td>\n",
       "    </tr>\n",
       "    <tr>\n",
       "      <th>1</th>\n",
       "      <td>1</td>\n",
       "      <td>0.1114</td>\n",
       "      <td>328.04</td>\n",
       "      <td>10.530495</td>\n",
       "      <td>14.13</td>\n",
       "      <td>722</td>\n",
       "      <td>1920.000000</td>\n",
       "      <td>6811</td>\n",
       "      <td>56.8</td>\n",
       "      <td>0</td>\n",
       "      <td>0</td>\n",
       "      <td>0</td>\n",
       "      <td>0</td>\n",
       "      <td>1</td>\n",
       "      <td>0</td>\n",
       "      <td>0</td>\n",
       "      <td>0</td>\n",
       "      <td>0</td>\n",
       "      <td>0</td>\n",
       "      <td>0</td>\n",
       "    </tr>\n",
       "    <tr>\n",
       "      <th>2</th>\n",
       "      <td>1</td>\n",
       "      <td>0.1324</td>\n",
       "      <td>676.20</td>\n",
       "      <td>11.289782</td>\n",
       "      <td>20.73</td>\n",
       "      <td>697</td>\n",
       "      <td>4080.000000</td>\n",
       "      <td>16805</td>\n",
       "      <td>64.1</td>\n",
       "      <td>0</td>\n",
       "      <td>0</td>\n",
       "      <td>0</td>\n",
       "      <td>0</td>\n",
       "      <td>0</td>\n",
       "      <td>0</td>\n",
       "      <td>1</td>\n",
       "      <td>0</td>\n",
       "      <td>0</td>\n",
       "      <td>0</td>\n",
       "      <td>0</td>\n",
       "    </tr>\n",
       "    <tr>\n",
       "      <th>3</th>\n",
       "      <td>1</td>\n",
       "      <td>0.1103</td>\n",
       "      <td>671.44</td>\n",
       "      <td>10.555813</td>\n",
       "      <td>15.72</td>\n",
       "      <td>722</td>\n",
       "      <td>3580.041667</td>\n",
       "      <td>31566</td>\n",
       "      <td>32.3</td>\n",
       "      <td>1</td>\n",
       "      <td>0</td>\n",
       "      <td>0</td>\n",
       "      <td>1</td>\n",
       "      <td>0</td>\n",
       "      <td>0</td>\n",
       "      <td>1</td>\n",
       "      <td>0</td>\n",
       "      <td>0</td>\n",
       "      <td>0</td>\n",
       "      <td>0</td>\n",
       "    </tr>\n",
       "    <tr>\n",
       "      <th>4</th>\n",
       "      <td>0</td>\n",
       "      <td>0.1545</td>\n",
       "      <td>244.21</td>\n",
       "      <td>10.308953</td>\n",
       "      <td>18.80</td>\n",
       "      <td>647</td>\n",
       "      <td>1950.041667</td>\n",
       "      <td>4587</td>\n",
       "      <td>41.0</td>\n",
       "      <td>2</td>\n",
       "      <td>0</td>\n",
       "      <td>0</td>\n",
       "      <td>0</td>\n",
       "      <td>0</td>\n",
       "      <td>0</td>\n",
       "      <td>1</td>\n",
       "      <td>0</td>\n",
       "      <td>0</td>\n",
       "      <td>0</td>\n",
       "      <td>0</td>\n",
       "    </tr>\n",
       "  </tbody>\n",
       "</table>\n",
       "</div>"
      ],
      "text/plain": [
       "   credit.policy  int.rate  installment  log.annual.inc    dti  fico  \\\n",
       "0              1    0.0800       101.85       10.596635  10.26   747   \n",
       "1              1    0.1114       328.04       10.530495  14.13   722   \n",
       "2              1    0.1324       676.20       11.289782  20.73   697   \n",
       "3              1    0.1103       671.44       10.555813  15.72   722   \n",
       "4              0    0.1545       244.21       10.308953  18.80   647   \n",
       "\n",
       "   days.with.cr.line  revol.bal  revol.util  inq.last.6mths  delinq.2yrs  \\\n",
       "0        7560.000000      18467        30.9               3            0   \n",
       "1        1920.000000       6811        56.8               0            0   \n",
       "2        4080.000000      16805        64.1               0            0   \n",
       "3        3580.041667      31566        32.3               1            0   \n",
       "4        1950.041667       4587        41.0               2            0   \n",
       "\n",
       "   pub.rec  not.fully.paid  purpose_all_other  purpose_credit_card  \\\n",
       "0        0               0                  0                    1   \n",
       "1        0               0                  1                    0   \n",
       "2        0               0                  0                    0   \n",
       "3        0               1                  0                    0   \n",
       "4        0               0                  0                    0   \n",
       "\n",
       "   purpose_debt_consolidation  purpose_educational  purpose_home_improvement  \\\n",
       "0                           0                    0                         0   \n",
       "1                           0                    0                         0   \n",
       "2                           1                    0                         0   \n",
       "3                           1                    0                         0   \n",
       "4                           1                    0                         0   \n",
       "\n",
       "   purpose_major_purchase  purpose_small_business  \n",
       "0                       0                       0  \n",
       "1                       0                       0  \n",
       "2                       0                       0  \n",
       "3                       0                       0  \n",
       "4                       0                       0  "
      ]
     },
     "execution_count": 24,
     "metadata": {},
     "output_type": "execute_result"
    }
   ],
   "source": [
    "loans.head()"
   ]
  },
  {
   "cell_type": "code",
   "execution_count": 25,
   "metadata": {},
   "outputs": [
    {
     "data": {
      "text/html": [
       "<div>\n",
       "<style scoped>\n",
       "    .dataframe tbody tr th:only-of-type {\n",
       "        vertical-align: middle;\n",
       "    }\n",
       "\n",
       "    .dataframe tbody tr th {\n",
       "        vertical-align: top;\n",
       "    }\n",
       "\n",
       "    .dataframe thead th {\n",
       "        text-align: right;\n",
       "    }\n",
       "</style>\n",
       "<table border=\"1\" class=\"dataframe\">\n",
       "  <thead>\n",
       "    <tr style=\"text-align: right;\">\n",
       "      <th></th>\n",
       "      <th>credit.policy</th>\n",
       "      <th>int.rate</th>\n",
       "      <th>installment</th>\n",
       "      <th>log.annual.inc</th>\n",
       "      <th>dti</th>\n",
       "      <th>fico</th>\n",
       "      <th>days.with.cr.line</th>\n",
       "      <th>revol.bal</th>\n",
       "      <th>revol.util</th>\n",
       "      <th>inq.last.6mths</th>\n",
       "      <th>delinq.2yrs</th>\n",
       "      <th>pub.rec</th>\n",
       "      <th>purpose_all_other</th>\n",
       "      <th>purpose_credit_card</th>\n",
       "      <th>purpose_debt_consolidation</th>\n",
       "      <th>purpose_educational</th>\n",
       "      <th>purpose_home_improvement</th>\n",
       "      <th>purpose_major_purchase</th>\n",
       "      <th>purpose_small_business</th>\n",
       "    </tr>\n",
       "  </thead>\n",
       "  <tbody>\n",
       "    <tr>\n",
       "      <th>0</th>\n",
       "      <td>1</td>\n",
       "      <td>0.1324</td>\n",
       "      <td>540.96</td>\n",
       "      <td>10.596635</td>\n",
       "      <td>11.73</td>\n",
       "      <td>672</td>\n",
       "      <td>3210.000000</td>\n",
       "      <td>5671</td>\n",
       "      <td>55.1</td>\n",
       "      <td>0</td>\n",
       "      <td>0</td>\n",
       "      <td>0</td>\n",
       "      <td>0</td>\n",
       "      <td>0</td>\n",
       "      <td>1</td>\n",
       "      <td>0</td>\n",
       "      <td>0</td>\n",
       "      <td>0</td>\n",
       "      <td>0</td>\n",
       "    </tr>\n",
       "    <tr>\n",
       "      <th>1</th>\n",
       "      <td>0</td>\n",
       "      <td>0.1221</td>\n",
       "      <td>333.15</td>\n",
       "      <td>11.156193</td>\n",
       "      <td>15.82</td>\n",
       "      <td>707</td>\n",
       "      <td>5314.000000</td>\n",
       "      <td>107643</td>\n",
       "      <td>81.0</td>\n",
       "      <td>3</td>\n",
       "      <td>0</td>\n",
       "      <td>0</td>\n",
       "      <td>0</td>\n",
       "      <td>0</td>\n",
       "      <td>0</td>\n",
       "      <td>1</td>\n",
       "      <td>0</td>\n",
       "      <td>0</td>\n",
       "      <td>0</td>\n",
       "    </tr>\n",
       "    <tr>\n",
       "      <th>2</th>\n",
       "      <td>1</td>\n",
       "      <td>0.1218</td>\n",
       "      <td>166.50</td>\n",
       "      <td>10.753836</td>\n",
       "      <td>6.38</td>\n",
       "      <td>772</td>\n",
       "      <td>1440.000000</td>\n",
       "      <td>233</td>\n",
       "      <td>6.7</td>\n",
       "      <td>0</td>\n",
       "      <td>0</td>\n",
       "      <td>0</td>\n",
       "      <td>0</td>\n",
       "      <td>0</td>\n",
       "      <td>1</td>\n",
       "      <td>0</td>\n",
       "      <td>0</td>\n",
       "      <td>0</td>\n",
       "      <td>0</td>\n",
       "    </tr>\n",
       "    <tr>\n",
       "      <th>3</th>\n",
       "      <td>0</td>\n",
       "      <td>0.1461</td>\n",
       "      <td>124.12</td>\n",
       "      <td>10.239960</td>\n",
       "      <td>0.00</td>\n",
       "      <td>692</td>\n",
       "      <td>1530.041667</td>\n",
       "      <td>0</td>\n",
       "      <td>0.0</td>\n",
       "      <td>6</td>\n",
       "      <td>0</td>\n",
       "      <td>0</td>\n",
       "      <td>0</td>\n",
       "      <td>0</td>\n",
       "      <td>0</td>\n",
       "      <td>0</td>\n",
       "      <td>0</td>\n",
       "      <td>1</td>\n",
       "      <td>0</td>\n",
       "    </tr>\n",
       "    <tr>\n",
       "      <th>4</th>\n",
       "      <td>1</td>\n",
       "      <td>0.0800</td>\n",
       "      <td>156.69</td>\n",
       "      <td>10.434116</td>\n",
       "      <td>15.85</td>\n",
       "      <td>767</td>\n",
       "      <td>10170.000000</td>\n",
       "      <td>5748</td>\n",
       "      <td>12.3</td>\n",
       "      <td>0</td>\n",
       "      <td>1</td>\n",
       "      <td>0</td>\n",
       "      <td>0</td>\n",
       "      <td>1</td>\n",
       "      <td>0</td>\n",
       "      <td>0</td>\n",
       "      <td>0</td>\n",
       "      <td>0</td>\n",
       "      <td>0</td>\n",
       "    </tr>\n",
       "  </tbody>\n",
       "</table>\n",
       "</div>"
      ],
      "text/plain": [
       "   credit.policy  int.rate  installment  log.annual.inc    dti  fico  \\\n",
       "0              1    0.1324       540.96       10.596635  11.73   672   \n",
       "1              0    0.1221       333.15       11.156193  15.82   707   \n",
       "2              1    0.1218       166.50       10.753836   6.38   772   \n",
       "3              0    0.1461       124.12       10.239960   0.00   692   \n",
       "4              1    0.0800       156.69       10.434116  15.85   767   \n",
       "\n",
       "   days.with.cr.line  revol.bal  revol.util  inq.last.6mths  delinq.2yrs  \\\n",
       "0        3210.000000       5671        55.1               0            0   \n",
       "1        5314.000000     107643        81.0               3            0   \n",
       "2        1440.000000        233         6.7               0            0   \n",
       "3        1530.041667          0         0.0               6            0   \n",
       "4       10170.000000       5748        12.3               0            1   \n",
       "\n",
       "   pub.rec  purpose_all_other  purpose_credit_card  \\\n",
       "0        0                  0                    0   \n",
       "1        0                  0                    0   \n",
       "2        0                  0                    0   \n",
       "3        0                  0                    0   \n",
       "4        0                  0                    1   \n",
       "\n",
       "   purpose_debt_consolidation  purpose_educational  purpose_home_improvement  \\\n",
       "0                           1                    0                         0   \n",
       "1                           0                    1                         0   \n",
       "2                           1                    0                         0   \n",
       "3                           0                    0                         0   \n",
       "4                           0                    0                         0   \n",
       "\n",
       "   purpose_major_purchase  purpose_small_business  \n",
       "0                       0                       0  \n",
       "1                       0                       0  \n",
       "2                       0                       0  \n",
       "3                       1                       0  \n",
       "4                       0                       0  "
      ]
     },
     "execution_count": 25,
     "metadata": {},
     "output_type": "execute_result"
    }
   ],
   "source": [
    "loans_outcome_not_known.head()"
   ]
  },
  {
   "cell_type": "markdown",
   "metadata": {},
   "source": [
    "## Train Test Split\n",
    "\n",
    "Now its time to split our data into a training set and a validation set!  \n",
    "\n",
    "The `not.fully.paid` variable is the one that we will try to predict.\n",
    "\n",
    "**Use sklearn to split your data into a training set and a testing set as we've done in the past.**"
   ]
  },
  {
   "cell_type": "code",
   "execution_count": 26,
   "metadata": {},
   "outputs": [],
   "source": [
    "from sklearn.model_selection import train_test_split"
   ]
  },
  {
   "cell_type": "code",
   "execution_count": 27,
   "metadata": {},
   "outputs": [],
   "source": [
    "X = loans.drop('not.fully.paid',axis=1)\n",
    "y = loans['not.fully.paid']\n",
    "X_train, X_val, y_train, y_val = train_test_split(X, y, test_size=0.30, random_state=2020)"
   ]
  },
  {
   "cell_type": "markdown",
   "metadata": {},
   "source": [
    "# Q4"
   ]
  },
  {
   "cell_type": "markdown",
   "metadata": {},
   "source": [
    "## Decision Tree Model\n",
    "\n",
    "Let's start by training a single decision tree first!\n"
   ]
  },
  {
   "cell_type": "markdown",
   "metadata": {},
   "source": [
    "- Initiate the Decision Tree classifier from the sklearn library. Keep all parameters with their default values. (No need to specify anything)\n",
    "- Fit the model\n",
    "- Make predictions\n",
    "- Calculate accuracy score. What are the **training** and **testing** accuracies of the model?\n",
    "- Create confusion matrix\n",
    "- Either using the confusion matrix or the methods in `sklearn.metrics` get the following metrics on the testing set:\n",
    "     - Recall (Sensitivity)\n",
    "     - Specificity\n",
    "     - Precision\n",
    "     - Balanced Accuracy\n",
    "     - F1 Score\n",
    "- Using all the training data perform cross-validation:\n",
    "    - Select the `min_samples_split` hyper-parameter and apply cross validation to find the best value.  \n",
    "    - Select the `max_depth` hyper-parameter and apply cross validation to find the best value. \n",
    "    - Perform grid search where you check for combinations of these hyper-parameters.\n",
    "        - https://scikit-learn.org/stable/modules/generated/sklearn.model_selection.GridSearchCV.html\n",
    "- For the best model:\n",
    "    - Plot the decision tree of the best model\n",
    "    - Either using the confusion matrix or the methods in `sklearn.metrics` get the following metrics on the testing set:\n",
    "         - Recall (Sensitivity)\n",
    "         - Specificity\n",
    "         - Precision\n",
    "         - Balanced Accuracy\n",
    "         - F1 Score\n",
    "    - Compare the results to the model with default paramters. Any change?"
   ]
  },
  {
   "cell_type": "code",
   "execution_count": 28,
   "metadata": {},
   "outputs": [],
   "source": [
    "# Import DecisionTreeClassifier and its metrics\n",
    "from sklearn.tree import DecisionTreeClassifier, plot_tree\n",
    "from sklearn import metrics, tree\n",
    "from sklearn.metrics import recall_score, balanced_accuracy_score, f1_score, precision_score, accuracy_score\n",
    "from sklearn.model_selection import cross_val_score"
   ]
  },
  {
   "cell_type": "code",
   "execution_count": 29,
   "metadata": {},
   "outputs": [],
   "source": [
    "# Initiate Decision Tree classifer object\n",
    "clf = DecisionTreeClassifier(random_state=2020)\n",
    "# Train Decision Tree Classifer\n",
    "clf = clf.fit(X_train, y_train)"
   ]
  },
  {
   "cell_type": "code",
   "execution_count": 30,
   "metadata": {},
   "outputs": [
    {
     "name": "stdout",
     "output_type": "stream",
     "text": [
      "Train Accuracy: 1.0\n",
      "Train Balanced Accuracy:  1.0\n"
     ]
    }
   ],
   "source": [
    "#Predict the response for train dataset\n",
    "y_pred1 = clf.predict(X_train)\n",
    "# Model Accuracy, how often is the classifier correct?\n",
    "print(\"Train Accuracy:\",round(metrics.accuracy_score(y_train, y_pred1), 4))\n",
    "print(\"Train Balanced Accuracy: \", round(balanced_accuracy_score(y_train, y_pred1), 4))"
   ]
  },
  {
   "cell_type": "code",
   "execution_count": 31,
   "metadata": {},
   "outputs": [
    {
     "name": "stdout",
     "output_type": "stream",
     "text": [
      "Validation Accuracy: 0.7139\n",
      "Validation Balanced Accuracy:  0.5396\n"
     ]
    }
   ],
   "source": [
    "#Predict the response for validation dataset\n",
    "y_pred2 = clf.predict(X_val)\n",
    "# Model Accuracy, how often is the classifier correct?\n",
    "print(\"Validation Accuracy:\",round(metrics.accuracy_score(y_val, y_pred2), 4))\n",
    "print(\"Validation Balanced Accuracy: \", round(balanced_accuracy_score(y_val, y_pred2), 4))"
   ]
  },
  {
   "cell_type": "code",
   "execution_count": 32,
   "metadata": {},
   "outputs": [
    {
     "data": {
      "image/png": "[encoded data removed]",
      "text/plain": [
       "<Figure size 432x288 with 1 Axes>"
      ]
     },
     "metadata": {
      "needs_background": "light"
     },
     "output_type": "display_data"
    }
   ],
   "source": [
    "# Creating confusion matrix\n",
    "confusion_matrix =  pd.crosstab(index=y_val, columns=y_pred2, rownames=['Actual'], colnames=['Predicted'])\n",
    "sns.heatmap(confusion_matrix, annot=True, square=False, fmt='', cbar=False)\n",
    "plt.title(\"Confusion Matrix\", fontsize = 15)\n",
    "plt.show()"
   ]
  },
  {
   "cell_type": "code",
   "execution_count": 33,
   "metadata": {},
   "outputs": [
    {
     "name": "stdout",
     "output_type": "stream",
     "text": [
      "              precision    recall  f1-score   support\n",
      "\n",
      "           0       0.82      0.83      0.82      1807\n",
      "           1       0.26      0.25      0.26       437\n",
      "\n",
      "    accuracy                           0.71      2244\n",
      "   macro avg       0.54      0.54      0.54      2244\n",
      "weighted avg       0.71      0.71      0.71      2244\n",
      "\n"
     ]
    }
   ],
   "source": [
    "print(metrics.classification_report(y_val, y_pred2))"
   ]
  },
  {
   "cell_type": "code",
   "execution_count": 34,
   "metadata": {},
   "outputs": [
    {
     "name": "stdout",
     "output_type": "stream",
     "text": [
      "Recall:  0.254\n",
      "Specificity:  0.8251\n",
      "Precision Score:  0.26\n",
      "Balanced Accuracy:  0.5396\n",
      "F1 Score:  0.2569\n"
     ]
    }
   ],
   "source": [
    "print(\"Recall: \", round(recall_score(y_val, y_pred2), 4))\n",
    "print(\"Specificity: \", round(1491/(1491+316), 4))\n",
    "print(\"Precision Score: \", round(precision_score(y_val, y_pred2), 4))\n",
    "print(\"Balanced Accuracy: \", round(balanced_accuracy_score(y_val, y_pred2), 4))\n",
    "print(\"F1 Score: \", round(f1_score(y_val, y_pred2), 4))"
   ]
  },
  {
   "cell_type": "markdown",
   "metadata": {},
   "source": [
    "From above report, it could be seen that the classes are imbalanced!! as it showed that class 0 is more than triple from class 1. This would lead to inaccurate interpretation if evaluation metric of accuracy is solely used in this case. Accuracy can be used when the class distribution is similar while Balanced Accuracy and F1-score would be better options when there are imbalanced classes as in the above case."
   ]
  },
  {
   "cell_type": "markdown",
   "metadata": {},
   "source": [
    "#### Using all the training data perform cross-validation"
   ]
  },
  {
   "cell_type": "code",
   "execution_count": 35,
   "metadata": {},
   "outputs": [
    {
     "name": "stdout",
     "output_type": "stream",
     "text": [
      "Min_samples_split:  18\n",
      "Balanced Accuracy:  0.5488394543589245\n"
     ]
    }
   ],
   "source": [
    "# Select the min_samples_split hyper-parameter and apply cross validation to find the best value\n",
    "min_samples_split = list(range(2, 50, 2))\n",
    "cvScore = []\n",
    "for sn in min_samples_split:\n",
    "    # Initiate Decision Tree classifer object\n",
    "    clf = DecisionTreeClassifier(min_samples_split = sn, random_state=2020)\n",
    "    # Evaluation of Classifer\n",
    "    cvScore.append(np.mean(cross_val_score(clf, X_train, y_train, cv=10, scoring='balanced_accuracy', n_jobs=-1)))\n",
    "\n",
    "index = cvScore.index(max(cvScore))\n",
    "print(\"Min_samples_split: \", min_samples_split[index])\n",
    "print(\"Balanced Accuracy: \", max(cvScore))"
   ]
  },
  {
   "cell_type": "code",
   "execution_count": 36,
   "metadata": {},
   "outputs": [
    {
     "name": "stdout",
     "output_type": "stream",
     "text": [
      "Max_Depth:  16\n",
      "Balanced Accuracy:  0.5442718483510334\n"
     ]
    }
   ],
   "source": [
    "# Select the max_depth hyper-parameter and apply cross validation to find the best value\n",
    "max_depth = list(range(2, 50, 2))\n",
    "cvScore = []\n",
    "for md in max_depth:\n",
    "    # Initiate Decision Tree classifer object\n",
    "    clf = DecisionTreeClassifier(max_depth = md, random_state=2020)\n",
    "    # Evaluation of Classifer\n",
    "    cvScore.append(np.mean(cross_val_score(clf, X_train, y_train, cv=10, scoring='balanced_accuracy', n_jobs=-1)))\n",
    "\n",
    "index = cvScore.index(max(cvScore))\n",
    "print(\"Max_Depth: \", max_depth[index])\n",
    "print(\"Balanced Accuracy: \", max(cvScore))"
   ]
  },
  {
   "cell_type": "markdown",
   "metadata": {},
   "source": [
    "#### Perform grid search where you check for combinations of these hyper-parameters"
   ]
  },
  {
   "cell_type": "code",
   "execution_count": 37,
   "metadata": {},
   "outputs": [],
   "source": [
    "# import GridSearchCV\n",
    "from sklearn.model_selection import GridSearchCV"
   ]
  },
  {
   "cell_type": "code",
   "execution_count": 38,
   "metadata": {},
   "outputs": [
    {
     "data": {
      "text/plain": [
       "GridSearchCV(cv=10, estimator=DecisionTreeClassifier(random_state=2020),\n",
       "             n_jobs=-1,\n",
       "             param_grid={'max_depth': [2, 4, 6, 8, 10, 12, 14, 16, 18, 20, 22,\n",
       "                                       24, 26, 28, 30, 32, 34, 36, 38, 40, 42,\n",
       "                                       44, 46, 48],\n",
       "                         'min_samples_split': [2, 4, 6, 8, 10, 12, 14, 16, 18,\n",
       "                                               20, 22, 24, 26, 28, 30, 32, 34,\n",
       "                                               36, 38, 40, 42, 44, 46, 48]},\n",
       "             scoring='balanced_accuracy')"
      ]
     },
     "execution_count": 38,
     "metadata": {},
     "output_type": "execute_result"
    }
   ],
   "source": [
    "# Create the parameter grid based on the results of random search \n",
    "param_grid = {\n",
    "    'max_depth': list(range(2, 50, 2)),\n",
    "    'min_samples_split': list(range(2, 50, 2))\n",
    "}\n",
    "\n",
    "# Create a based model\n",
    "clf = DecisionTreeClassifier(random_state=2020)\n",
    "\n",
    "# Instantiate the grid search model\n",
    "grid_search = GridSearchCV(clf, param_grid, cv=10, scoring='balanced_accuracy', n_jobs=-1)\n",
    "\n",
    "# fit the grid with data\n",
    "grid_search.fit(X_train, y_train)"
   ]
  },
  {
   "cell_type": "markdown",
   "metadata": {},
   "source": [
    "### The best model"
   ]
  },
  {
   "cell_type": "code",
   "execution_count": 39,
   "metadata": {},
   "outputs": [
    {
     "name": "stdout",
     "output_type": "stream",
     "text": [
      "Best balanced_accuracy:  0.5510184482318164\n",
      "Best Combined Parameters:  {'max_depth': 16, 'min_samples_split': 20}\n"
     ]
    }
   ],
   "source": [
    "# examine the best model\n",
    "# Single best score achieved across all params\n",
    "print(\"Best balanced_accuracy: \", grid_search.best_score_)\n",
    "\n",
    "# Dictionary containing the parameters used to generate that score\n",
    "print(\"Best Combined Parameters: \", grid_search.best_params_)"
   ]
  },
  {
   "cell_type": "code",
   "execution_count": 40,
   "metadata": {},
   "outputs": [
    {
     "name": "stdout",
     "output_type": "stream",
     "text": [
      "['credit.policy', 'int.rate', 'installment', 'log.annual.inc', 'dti', 'fico', 'days.with.cr.line', 'revol.bal', 'revol.util', 'inq.last.6mths', 'delinq.2yrs', 'pub.rec', 'purpose_all_other', 'purpose_credit_card', 'purpose_debt_consolidation', 'purpose_educational', 'purpose_home_improvement', 'purpose_major_purchase', 'purpose_small_business']\n",
      "['0', '1']\n"
     ]
    }
   ],
   "source": [
    "# list of feature names\n",
    "fn = X.columns\n",
    "fnList = []\n",
    "for i in fn:\n",
    "    fnList.append(i)\n",
    "print(fnList) \n",
    "\n",
    "# string list of classes\n",
    "cn = y.unique()\n",
    "cnList = []\n",
    "for j in cn:\n",
    "    cnList.append(str(j))\n",
    "print(cnList)"
   ]
  },
  {
   "cell_type": "code",
   "execution_count": 41,
   "metadata": {},
   "outputs": [],
   "source": [
    "# Train with best hyperparameters\n",
    "clf_best = DecisionTreeClassifier(min_samples_split=20, max_depth=16, random_state=2020)\n",
    "clf_best = clf_best.fit(X_train, y_train)"
   ]
  },
  {
   "cell_type": "markdown",
   "metadata": {},
   "source": [
    "### Visualize tree"
   ]
  },
  {
   "cell_type": "code",
   "execution_count": 42,
   "metadata": {},
   "outputs": [
    {
     "name": "stdout",
     "output_type": "stream",
     "text": [
      "|--- credit.policy <= 0.50\n",
      "|   |--- installment <= 282.20\n",
      "|   |   |--- dti <= 14.44\n",
      "|   |   |   |--- log.annual.inc <= 9.80\n",
      "|   |   |   |   |--- log.annual.inc <= 9.56\n",
      "|   |   |   |   |   |--- days.with.cr.line <= 346.50\n",
      "|   |   |   |   |   |   |--- class: 1\n",
      "|   |   |   |   |   |--- days.with.cr.line >  346.50\n",
      "|   |   |   |   |   |   |--- days.with.cr.line <= 1058.50\n",
      "|   |   |   |   |   |   |   |--- class: 0\n",
      "|   |   |   |   |   |   |--- days.with.cr.line >  1058.50\n",
      "|   |   |   |   |   |   |   |--- class: 0\n",
      "|   |   |   |   |--- log.annual.inc >  9.56\n",
      "|   |   |   |   |   |--- days.with.cr.line <= 1935.00\n",
      "|   |   |   |   |   |   |--- class: 0\n",
      "|   |   |   |   |   |--- days.with.cr.line >  1935.00\n",
      "|   |   |   |   |   |   |--- class: 1\n",
      "|   |   |   |--- log.annual.inc >  9.80\n",
      "|   |   |   |   |--- revol.util <= 1.25\n",
      "|   |   |   |   |   |--- int.rate <= 0.12\n",
      "|   |   |   |   |   |   |--- class: 0\n",
      "|   |   |   |   |   |--- int.rate >  0.12\n",
      "|   |   |   |   |   |   |--- class: 1\n",
      "|   |   |   |   |--- revol.util >  1.25\n",
      "|   |   |   |   |   |--- revol.util <= 65.25\n",
      "|   |   |   |   |   |   |--- inq.last.6mths <= 6.50\n",
      "|   |   |   |   |   |   |   |--- int.rate <= 0.08\n",
      "|   |   |   |   |   |   |   |   |--- class: 0\n",
      "|   |   |   |   |   |   |   |--- int.rate >  0.08\n",
      "|   |   |   |   |   |   |   |   |--- log.annual.inc <= 9.94\n",
      "|   |   |   |   |   |   |   |   |   |--- class: 0\n",
      "|   |   |   |   |   |   |   |   |--- log.annual.inc >  9.94\n",
      "|   |   |   |   |   |   |   |   |   |--- int.rate <= 0.14\n",
      "|   |   |   |   |   |   |   |   |   |   |--- revol.bal <= 33311.00\n",
      "|   |   |   |   |   |   |   |   |   |   |   |--- truncated branch of depth 3\n",
      "|   |   |   |   |   |   |   |   |   |   |--- revol.bal >  33311.00\n",
      "|   |   |   |   |   |   |   |   |   |   |   |--- class: 0\n",
      "|   |   |   |   |   |   |   |   |   |--- int.rate >  0.14\n",
      "|   |   |   |   |   |   |   |   |   |   |--- days.with.cr.line <= 705.02\n",
      "|   |   |   |   |   |   |   |   |   |   |   |--- class: 1\n",
      "|   |   |   |   |   |   |   |   |   |   |--- days.with.cr.line >  705.02\n",
      "|   |   |   |   |   |   |   |   |   |   |   |--- truncated branch of depth 2\n",
      "|   |   |   |   |   |   |--- inq.last.6mths >  6.50\n",
      "|   |   |   |   |   |   |   |--- int.rate <= 0.13\n",
      "|   |   |   |   |   |   |   |   |--- class: 0\n",
      "|   |   |   |   |   |   |   |--- int.rate >  0.13\n",
      "|   |   |   |   |   |   |   |   |--- class: 0\n",
      "|   |   |   |   |   |--- revol.util >  65.25\n",
      "|   |   |   |   |   |   |--- days.with.cr.line <= 450.02\n",
      "|   |   |   |   |   |   |   |--- class: 1\n",
      "|   |   |   |   |   |   |--- days.with.cr.line >  450.02\n",
      "|   |   |   |   |   |   |   |--- installment <= 88.16\n",
      "|   |   |   |   |   |   |   |   |--- class: 1\n",
      "|   |   |   |   |   |   |   |--- installment >  88.16\n",
      "|   |   |   |   |   |   |   |   |--- inq.last.6mths <= 6.50\n",
      "|   |   |   |   |   |   |   |   |   |--- fico <= 649.50\n",
      "|   |   |   |   |   |   |   |   |   |   |--- class: 0\n",
      "|   |   |   |   |   |   |   |   |   |--- fico >  649.50\n",
      "|   |   |   |   |   |   |   |   |   |   |--- dti <= 0.87\n",
      "|   |   |   |   |   |   |   |   |   |   |   |--- class: 1\n",
      "|   |   |   |   |   |   |   |   |   |   |--- dti >  0.87\n",
      "|   |   |   |   |   |   |   |   |   |   |   |--- truncated branch of depth 4\n",
      "|   |   |   |   |   |   |   |   |--- inq.last.6mths >  6.50\n",
      "|   |   |   |   |   |   |   |   |   |--- class: 1\n",
      "|   |   |--- dti >  14.44\n",
      "|   |   |   |--- dti <= 24.60\n",
      "|   |   |   |   |--- inq.last.6mths <= 11.50\n",
      "|   |   |   |   |   |--- days.with.cr.line <= 5460.00\n",
      "|   |   |   |   |   |   |--- revol.util <= 99.35\n",
      "|   |   |   |   |   |   |   |--- revol.bal <= 1217.00\n",
      "|   |   |   |   |   |   |   |   |--- int.rate <= 0.13\n",
      "|   |   |   |   |   |   |   |   |   |--- class: 1\n",
      "|   |   |   |   |   |   |   |   |--- int.rate >  0.13\n",
      "|   |   |   |   |   |   |   |   |   |--- log.annual.inc <= 10.08\n",
      "|   |   |   |   |   |   |   |   |   |   |--- class: 1\n",
      "|   |   |   |   |   |   |   |   |   |--- log.annual.inc >  10.08\n",
      "|   |   |   |   |   |   |   |   |   |   |--- class: 0\n",
      "|   |   |   |   |   |   |   |--- revol.bal >  1217.00\n",
      "|   |   |   |   |   |   |   |   |--- delinq.2yrs <= 0.50\n",
      "|   |   |   |   |   |   |   |   |   |--- revol.util <= 76.90\n",
      "|   |   |   |   |   |   |   |   |   |   |--- log.annual.inc <= 11.54\n",
      "|   |   |   |   |   |   |   |   |   |   |   |--- truncated branch of depth 6\n",
      "|   |   |   |   |   |   |   |   |   |   |--- log.annual.inc >  11.54\n",
      "|   |   |   |   |   |   |   |   |   |   |   |--- class: 1\n",
      "|   |   |   |   |   |   |   |   |   |--- revol.util >  76.90\n",
      "|   |   |   |   |   |   |   |   |   |   |--- revol.bal <= 7657.00\n",
      "|   |   |   |   |   |   |   |   |   |   |   |--- class: 0\n",
      "|   |   |   |   |   |   |   |   |   |   |--- revol.bal >  7657.00\n",
      "|   |   |   |   |   |   |   |   |   |   |   |--- class: 0\n",
      "|   |   |   |   |   |   |   |   |--- delinq.2yrs >  0.50\n",
      "|   |   |   |   |   |   |   |   |   |--- log.annual.inc <= 10.80\n",
      "|   |   |   |   |   |   |   |   |   |   |--- class: 1\n",
      "|   |   |   |   |   |   |   |   |   |--- log.annual.inc >  10.80\n",
      "|   |   |   |   |   |   |   |   |   |   |--- class: 0\n",
      "|   |   |   |   |   |   |--- revol.util >  99.35\n",
      "|   |   |   |   |   |   |   |--- class: 1\n",
      "|   |   |   |   |   |--- days.with.cr.line >  5460.00\n",
      "|   |   |   |   |   |   |--- fico <= 719.50\n",
      "|   |   |   |   |   |   |   |--- log.annual.inc <= 10.99\n",
      "|   |   |   |   |   |   |   |   |--- class: 1\n",
      "|   |   |   |   |   |   |   |--- log.annual.inc >  10.99\n",
      "|   |   |   |   |   |   |   |   |--- log.annual.inc <= 11.17\n",
      "|   |   |   |   |   |   |   |   |   |--- class: 0\n",
      "|   |   |   |   |   |   |   |   |--- log.annual.inc >  11.17\n",
      "|   |   |   |   |   |   |   |   |   |--- class: 1\n",
      "|   |   |   |   |   |   |--- fico >  719.50\n",
      "|   |   |   |   |   |   |   |--- class: 0\n",
      "|   |   |   |   |--- inq.last.6mths >  11.50\n",
      "|   |   |   |   |   |--- class: 1\n",
      "|   |   |   |--- dti >  24.60\n",
      "|   |   |   |   |--- revol.util <= 85.15\n",
      "|   |   |   |   |   |--- days.with.cr.line <= 3225.02\n",
      "|   |   |   |   |   |   |--- class: 0\n",
      "|   |   |   |   |   |--- days.with.cr.line >  3225.02\n",
      "|   |   |   |   |   |   |--- class: 0\n",
      "|   |   |   |   |--- revol.util >  85.15\n",
      "|   |   |   |   |   |--- class: 0\n",
      "|   |--- installment >  282.20\n",
      "|   |   |--- fico <= 679.50\n",
      "|   |   |   |--- purpose_debt_consolidation <= 0.50\n",
      "|   |   |   |   |--- days.with.cr.line <= 7499.52\n",
      "|   |   |   |   |   |--- days.with.cr.line <= 374.48\n",
      "|   |   |   |   |   |   |--- class: 0\n",
      "|   |   |   |   |   |--- days.with.cr.line >  374.48\n",
      "|   |   |   |   |   |   |--- installment <= 346.72\n",
      "|   |   |   |   |   |   |   |--- dti <= 8.07\n",
      "|   |   |   |   |   |   |   |   |--- class: 0\n",
      "|   |   |   |   |   |   |   |--- dti >  8.07\n",
      "|   |   |   |   |   |   |   |   |--- class: 1\n",
      "|   |   |   |   |   |   |--- installment >  346.72\n",
      "|   |   |   |   |   |   |   |--- dti <= 10.36\n",
      "|   |   |   |   |   |   |   |   |--- log.annual.inc <= 9.85\n",
      "|   |   |   |   |   |   |   |   |   |--- class: 0\n",
      "|   |   |   |   |   |   |   |   |--- log.annual.inc >  9.85\n",
      "|   |   |   |   |   |   |   |   |   |--- purpose_credit_card <= 0.50\n",
      "|   |   |   |   |   |   |   |   |   |   |--- class: 1\n",
      "|   |   |   |   |   |   |   |   |   |--- purpose_credit_card >  0.50\n",
      "|   |   |   |   |   |   |   |   |   |   |--- class: 1\n",
      "|   |   |   |   |   |   |   |--- dti >  10.36\n",
      "|   |   |   |   |   |   |   |   |--- days.with.cr.line <= 2356.50\n",
      "|   |   |   |   |   |   |   |   |   |--- class: 1\n",
      "|   |   |   |   |   |   |   |   |--- days.with.cr.line >  2356.50\n",
      "|   |   |   |   |   |   |   |   |   |--- class: 0\n",
      "|   |   |   |   |--- days.with.cr.line >  7499.52\n",
      "|   |   |   |   |   |--- class: 0\n",
      "|   |   |   |--- purpose_debt_consolidation >  0.50\n",
      "|   |   |   |   |--- fico <= 659.50\n",
      "|   |   |   |   |   |--- installment <= 533.38\n",
      "|   |   |   |   |   |   |--- days.with.cr.line <= 2414.52\n",
      "|   |   |   |   |   |   |   |--- class: 1\n",
      "|   |   |   |   |   |   |--- days.with.cr.line >  2414.52\n",
      "|   |   |   |   |   |   |   |--- pub.rec <= 0.50\n",
      "|   |   |   |   |   |   |   |   |--- dti <= 21.69\n",
      "|   |   |   |   |   |   |   |   |   |--- class: 0\n",
      "|   |   |   |   |   |   |   |   |--- dti >  21.69\n",
      "|   |   |   |   |   |   |   |   |   |--- class: 0\n",
      "|   |   |   |   |   |   |   |--- pub.rec >  0.50\n",
      "|   |   |   |   |   |   |   |   |--- class: 0\n",
      "|   |   |   |   |   |--- installment >  533.38\n",
      "|   |   |   |   |   |   |--- class: 1\n",
      "|   |   |   |   |--- fico >  659.50\n",
      "|   |   |   |   |   |--- fico <= 669.50\n",
      "|   |   |   |   |   |   |--- revol.util <= 46.05\n",
      "|   |   |   |   |   |   |   |--- class: 0\n",
      "|   |   |   |   |   |   |--- revol.util >  46.05\n",
      "|   |   |   |   |   |   |   |--- days.with.cr.line <= 2926.48\n",
      "|   |   |   |   |   |   |   |   |--- class: 0\n",
      "|   |   |   |   |   |   |   |--- days.with.cr.line >  2926.48\n",
      "|   |   |   |   |   |   |   |   |--- class: 1\n",
      "|   |   |   |   |   |--- fico >  669.50\n",
      "|   |   |   |   |   |   |--- class: 0\n",
      "|   |   |--- fico >  679.50\n",
      "|   |   |   |--- purpose_small_business <= 0.50\n",
      "|   |   |   |   |--- revol.util <= 75.25\n",
      "|   |   |   |   |   |--- log.annual.inc <= 10.83\n",
      "|   |   |   |   |   |   |--- inq.last.6mths <= 4.50\n",
      "|   |   |   |   |   |   |   |--- revol.bal <= 60.50\n",
      "|   |   |   |   |   |   |   |   |--- class: 1\n",
      "|   |   |   |   |   |   |   |--- revol.bal >  60.50\n",
      "|   |   |   |   |   |   |   |   |--- fico <= 694.50\n",
      "|   |   |   |   |   |   |   |   |   |--- class: 0\n",
      "|   |   |   |   |   |   |   |   |--- fico >  694.50\n",
      "|   |   |   |   |   |   |   |   |   |--- class: 0\n",
      "|   |   |   |   |   |   |--- inq.last.6mths >  4.50\n",
      "|   |   |   |   |   |   |   |--- class: 1\n",
      "|   |   |   |   |   |--- log.annual.inc >  10.83\n",
      "|   |   |   |   |   |   |--- dti <= 21.17\n",
      "|   |   |   |   |   |   |   |--- purpose_debt_consolidation <= 0.50\n",
      "|   |   |   |   |   |   |   |   |--- int.rate <= 0.19\n",
      "|   |   |   |   |   |   |   |   |   |--- revol.bal <= 217634.50\n",
      "|   |   |   |   |   |   |   |   |   |   |--- class: 0\n",
      "|   |   |   |   |   |   |   |   |   |--- revol.bal >  217634.50\n",
      "|   |   |   |   |   |   |   |   |   |   |--- class: 0\n",
      "|   |   |   |   |   |   |   |   |--- int.rate >  0.19\n",
      "|   |   |   |   |   |   |   |   |   |--- class: 0\n",
      "|   |   |   |   |   |   |   |--- purpose_debt_consolidation >  0.50\n",
      "|   |   |   |   |   |   |   |   |--- log.annual.inc <= 12.18\n",
      "|   |   |   |   |   |   |   |   |   |--- int.rate <= 0.10\n",
      "|   |   |   |   |   |   |   |   |   |   |--- class: 1\n",
      "|   |   |   |   |   |   |   |   |   |--- int.rate >  0.10\n",
      "|   |   |   |   |   |   |   |   |   |   |--- int.rate <= 0.17\n",
      "|   |   |   |   |   |   |   |   |   |   |   |--- truncated branch of depth 4\n",
      "|   |   |   |   |   |   |   |   |   |   |--- int.rate >  0.17\n",
      "|   |   |   |   |   |   |   |   |   |   |   |--- class: 1\n",
      "|   |   |   |   |   |   |   |   |--- log.annual.inc >  12.18\n",
      "|   |   |   |   |   |   |   |   |   |--- class: 1\n",
      "|   |   |   |   |   |   |--- dti >  21.17\n",
      "|   |   |   |   |   |   |   |--- class: 0\n",
      "|   |   |   |   |--- revol.util >  75.25\n",
      "|   |   |   |   |   |--- int.rate <= 0.13\n",
      "|   |   |   |   |   |   |--- class: 1\n",
      "|   |   |   |   |   |--- int.rate >  0.13\n",
      "|   |   |   |   |   |   |--- fico <= 694.50\n",
      "|   |   |   |   |   |   |   |--- days.with.cr.line <= 6420.02\n",
      "|   |   |   |   |   |   |   |   |--- class: 0\n",
      "|   |   |   |   |   |   |   |--- days.with.cr.line >  6420.02\n",
      "|   |   |   |   |   |   |   |   |--- class: 1\n",
      "|   |   |   |   |   |   |--- fico >  694.50\n",
      "|   |   |   |   |   |   |   |--- fico <= 724.50\n",
      "|   |   |   |   |   |   |   |   |--- days.with.cr.line <= 5325.04\n",
      "|   |   |   |   |   |   |   |   |   |--- class: 0\n",
      "|   |   |   |   |   |   |   |   |--- days.with.cr.line >  5325.04\n",
      "|   |   |   |   |   |   |   |   |   |--- class: 1\n",
      "|   |   |   |   |   |   |   |--- fico >  724.50\n",
      "|   |   |   |   |   |   |   |   |--- class: 0\n",
      "|   |   |   |--- purpose_small_business >  0.50\n",
      "|   |   |   |   |--- installment <= 511.13\n",
      "|   |   |   |   |   |--- class: 1\n",
      "|   |   |   |   |--- installment >  511.13\n",
      "|   |   |   |   |   |--- inq.last.6mths <= 4.50\n",
      "|   |   |   |   |   |   |--- class: 1\n",
      "|   |   |   |   |   |--- inq.last.6mths >  4.50\n",
      "|   |   |   |   |   |   |--- class: 0\n",
      "|--- credit.policy >  0.50\n",
      "|   |--- int.rate <= 0.12\n",
      "|   |   |--- int.rate <= 0.09\n",
      "|   |   |   |--- log.annual.inc <= 9.47\n",
      "|   |   |   |   |--- class: 0\n",
      "|   |   |   |--- log.annual.inc >  9.47\n",
      "|   |   |   |   |--- revol.util <= 75.70\n",
      "|   |   |   |   |   |--- installment <= 557.60\n",
      "|   |   |   |   |   |   |--- revol.util <= 31.95\n",
      "|   |   |   |   |   |   |   |--- delinq.2yrs <= 0.50\n",
      "|   |   |   |   |   |   |   |   |--- log.annual.inc <= 10.65\n",
      "|   |   |   |   |   |   |   |   |   |--- revol.bal <= 20629.00\n",
      "|   |   |   |   |   |   |   |   |   |   |--- log.annual.inc <= 10.62\n",
      "|   |   |   |   |   |   |   |   |   |   |   |--- truncated branch of depth 6\n",
      "|   |   |   |   |   |   |   |   |   |   |--- log.annual.inc >  10.62\n",
      "|   |   |   |   |   |   |   |   |   |   |   |--- class: 0\n",
      "|   |   |   |   |   |   |   |   |   |--- revol.bal >  20629.00\n",
      "|   |   |   |   |   |   |   |   |   |   |--- class: 1\n",
      "|   |   |   |   |   |   |   |   |--- log.annual.inc >  10.65\n",
      "|   |   |   |   |   |   |   |   |   |--- revol.bal <= 17779.00\n",
      "|   |   |   |   |   |   |   |   |   |   |--- dti <= 9.59\n",
      "|   |   |   |   |   |   |   |   |   |   |   |--- class: 0\n",
      "|   |   |   |   |   |   |   |   |   |   |--- dti >  9.59\n",
      "|   |   |   |   |   |   |   |   |   |   |   |--- truncated branch of depth 5\n",
      "|   |   |   |   |   |   |   |   |   |--- revol.bal >  17779.00\n",
      "|   |   |   |   |   |   |   |   |   |   |--- revol.bal <= 18248.50\n",
      "|   |   |   |   |   |   |   |   |   |   |   |--- class: 1\n",
      "|   |   |   |   |   |   |   |   |   |   |--- revol.bal >  18248.50\n",
      "|   |   |   |   |   |   |   |   |   |   |   |--- truncated branch of depth 3\n",
      "|   |   |   |   |   |   |   |--- delinq.2yrs >  0.50\n",
      "|   |   |   |   |   |   |   |   |--- class: 0\n",
      "|   |   |   |   |   |   |--- revol.util >  31.95\n",
      "|   |   |   |   |   |   |   |--- revol.util <= 32.05\n",
      "|   |   |   |   |   |   |   |   |--- class: 1\n",
      "|   |   |   |   |   |   |   |--- revol.util >  32.05\n",
      "|   |   |   |   |   |   |   |   |--- log.annual.inc <= 9.64\n",
      "|   |   |   |   |   |   |   |   |   |--- class: 1\n",
      "|   |   |   |   |   |   |   |   |--- log.annual.inc >  9.64\n",
      "|   |   |   |   |   |   |   |   |   |--- installment <= 34.78\n",
      "|   |   |   |   |   |   |   |   |   |   |--- class: 0\n",
      "|   |   |   |   |   |   |   |   |   |--- installment >  34.78\n",
      "|   |   |   |   |   |   |   |   |   |   |--- days.with.cr.line <= 3104.98\n",
      "|   |   |   |   |   |   |   |   |   |   |   |--- truncated branch of depth 2\n",
      "|   |   |   |   |   |   |   |   |   |   |--- days.with.cr.line >  3104.98\n",
      "|   |   |   |   |   |   |   |   |   |   |   |--- truncated branch of depth 6\n",
      "|   |   |   |   |   |--- installment >  557.60\n",
      "|   |   |   |   |   |   |--- class: 0\n",
      "|   |   |   |   |--- revol.util >  75.70\n",
      "|   |   |   |   |   |--- class: 0\n",
      "|   |   |--- int.rate >  0.09\n",
      "|   |   |   |--- inq.last.6mths <= 2.50\n",
      "|   |   |   |   |--- revol.util <= 90.35\n",
      "|   |   |   |   |   |--- fico <= 704.50\n",
      "|   |   |   |   |   |   |--- log.annual.inc <= 10.14\n",
      "|   |   |   |   |   |   |   |--- installment <= 166.54\n",
      "|   |   |   |   |   |   |   |   |--- installment <= 95.19\n",
      "|   |   |   |   |   |   |   |   |   |--- class: 0\n",
      "|   |   |   |   |   |   |   |   |--- installment >  95.19\n",
      "|   |   |   |   |   |   |   |   |   |--- class: 0\n",
      "|   |   |   |   |   |   |   |--- installment >  166.54\n",
      "|   |   |   |   |   |   |   |   |--- class: 1\n",
      "|   |   |   |   |   |   |--- log.annual.inc >  10.14\n",
      "|   |   |   |   |   |   |   |--- revol.bal <= 15756.00\n",
      "|   |   |   |   |   |   |   |   |--- installment <= 32.86\n",
      "|   |   |   |   |   |   |   |   |   |--- class: 1\n",
      "|   |   |   |   |   |   |   |   |--- installment >  32.86\n",
      "|   |   |   |   |   |   |   |   |   |--- inq.last.6mths <= 0.50\n",
      "|   |   |   |   |   |   |   |   |   |   |--- fico <= 669.50\n",
      "|   |   |   |   |   |   |   |   |   |   |   |--- class: 0\n",
      "|   |   |   |   |   |   |   |   |   |   |--- fico >  669.50\n",
      "|   |   |   |   |   |   |   |   |   |   |   |--- truncated branch of depth 3\n",
      "|   |   |   |   |   |   |   |   |   |--- inq.last.6mths >  0.50\n",
      "|   |   |   |   |   |   |   |   |   |   |--- purpose_home_improvement <= 0.50\n",
      "|   |   |   |   |   |   |   |   |   |   |   |--- truncated branch of depth 6\n",
      "|   |   |   |   |   |   |   |   |   |   |--- purpose_home_improvement >  0.50\n",
      "|   |   |   |   |   |   |   |   |   |   |   |--- class: 1\n",
      "|   |   |   |   |   |   |   |--- revol.bal >  15756.00\n",
      "|   |   |   |   |   |   |   |   |--- int.rate <= 0.12\n",
      "|   |   |   |   |   |   |   |   |   |--- revol.util <= 39.10\n",
      "|   |   |   |   |   |   |   |   |   |   |--- class: 1\n",
      "|   |   |   |   |   |   |   |   |   |--- revol.util >  39.10\n",
      "|   |   |   |   |   |   |   |   |   |   |--- fico <= 689.50\n",
      "|   |   |   |   |   |   |   |   |   |   |   |--- class: 0\n",
      "|   |   |   |   |   |   |   |   |   |   |--- fico >  689.50\n",
      "|   |   |   |   |   |   |   |   |   |   |   |--- truncated branch of depth 2\n",
      "|   |   |   |   |   |   |   |   |--- int.rate >  0.12\n",
      "|   |   |   |   |   |   |   |   |   |--- log.annual.inc <= 11.19\n",
      "|   |   |   |   |   |   |   |   |   |   |--- class: 0\n",
      "|   |   |   |   |   |   |   |   |   |--- log.annual.inc >  11.19\n",
      "|   |   |   |   |   |   |   |   |   |   |--- class: 0\n",
      "|   |   |   |   |   |--- fico >  704.50\n",
      "|   |   |   |   |   |   |--- int.rate <= 0.12\n",
      "|   |   |   |   |   |   |   |--- revol.bal <= 123730.50\n",
      "|   |   |   |   |   |   |   |   |--- dti <= 13.12\n",
      "|   |   |   |   |   |   |   |   |   |--- revol.bal <= 43963.50\n",
      "|   |   |   |   |   |   |   |   |   |   |--- log.annual.inc <= 11.29\n",
      "|   |   |   |   |   |   |   |   |   |   |   |--- truncated branch of depth 6\n",
      "|   |   |   |   |   |   |   |   |   |   |--- log.annual.inc >  11.29\n",
      "|   |   |   |   |   |   |   |   |   |   |   |--- truncated branch of depth 6\n",
      "|   |   |   |   |   |   |   |   |   |--- revol.bal >  43963.50\n",
      "|   |   |   |   |   |   |   |   |   |   |--- class: 0\n",
      "|   |   |   |   |   |   |   |   |--- dti >  13.12\n",
      "|   |   |   |   |   |   |   |   |   |--- dti <= 14.95\n",
      "|   |   |   |   |   |   |   |   |   |   |--- installment <= 817.60\n",
      "|   |   |   |   |   |   |   |   |   |   |   |--- truncated branch of depth 2\n",
      "|   |   |   |   |   |   |   |   |   |   |--- installment >  817.60\n",
      "|   |   |   |   |   |   |   |   |   |   |   |--- class: 0\n",
      "|   |   |   |   |   |   |   |   |   |--- dti >  14.95\n",
      "|   |   |   |   |   |   |   |   |   |   |--- dti <= 14.98\n",
      "|   |   |   |   |   |   |   |   |   |   |   |--- class: 1\n",
      "|   |   |   |   |   |   |   |   |   |   |--- dti >  14.98\n",
      "|   |   |   |   |   |   |   |   |   |   |   |--- truncated branch of depth 6\n",
      "|   |   |   |   |   |   |   |--- revol.bal >  123730.50\n",
      "|   |   |   |   |   |   |   |   |--- class: 0\n",
      "|   |   |   |   |   |   |--- int.rate >  0.12\n",
      "|   |   |   |   |   |   |   |--- class: 0\n",
      "|   |   |   |   |--- revol.util >  90.35\n",
      "|   |   |   |   |   |--- fico <= 709.50\n",
      "|   |   |   |   |   |   |--- int.rate <= 0.12\n",
      "|   |   |   |   |   |   |   |--- installment <= 255.08\n",
      "|   |   |   |   |   |   |   |   |--- class: 0\n",
      "|   |   |   |   |   |   |   |--- installment >  255.08\n",
      "|   |   |   |   |   |   |   |   |--- class: 0\n",
      "|   |   |   |   |   |   |--- int.rate >  0.12\n",
      "|   |   |   |   |   |   |   |--- class: 1\n",
      "|   |   |   |   |   |--- fico >  709.50\n",
      "|   |   |   |   |   |   |--- class: 1\n",
      "|   |   |   |--- inq.last.6mths >  2.50\n",
      "|   |   |   |   |--- log.annual.inc <= 10.10\n",
      "|   |   |   |   |   |--- class: 1\n",
      "|   |   |   |   |--- log.annual.inc >  10.10\n",
      "|   |   |   |   |   |--- installment <= 94.45\n",
      "|   |   |   |   |   |   |--- class: 0\n",
      "|   |   |   |   |   |--- installment >  94.45\n",
      "|   |   |   |   |   |   |--- pub.rec <= 0.50\n",
      "|   |   |   |   |   |   |   |--- dti <= 23.98\n",
      "|   |   |   |   |   |   |   |   |--- int.rate <= 0.12\n",
      "|   |   |   |   |   |   |   |   |   |--- log.annual.inc <= 10.49\n",
      "|   |   |   |   |   |   |   |   |   |   |--- revol.bal <= 8560.50\n",
      "|   |   |   |   |   |   |   |   |   |   |   |--- class: 0\n",
      "|   |   |   |   |   |   |   |   |   |   |--- revol.bal >  8560.50\n",
      "|   |   |   |   |   |   |   |   |   |   |   |--- class: 1\n",
      "|   |   |   |   |   |   |   |   |   |--- log.annual.inc >  10.49\n",
      "|   |   |   |   |   |   |   |   |   |   |--- fico <= 714.50\n",
      "|   |   |   |   |   |   |   |   |   |   |   |--- class: 0\n",
      "|   |   |   |   |   |   |   |   |   |   |--- fico >  714.50\n",
      "|   |   |   |   |   |   |   |   |   |   |   |--- truncated branch of depth 5\n",
      "|   |   |   |   |   |   |   |   |--- int.rate >  0.12\n",
      "|   |   |   |   |   |   |   |   |   |--- dti <= 0.16\n",
      "|   |   |   |   |   |   |   |   |   |   |--- class: 1\n",
      "|   |   |   |   |   |   |   |   |   |--- dti >  0.16\n",
      "|   |   |   |   |   |   |   |   |   |   |--- inq.last.6mths <= 6.50\n",
      "|   |   |   |   |   |   |   |   |   |   |   |--- truncated branch of depth 2\n",
      "|   |   |   |   |   |   |   |   |   |   |--- inq.last.6mths >  6.50\n",
      "|   |   |   |   |   |   |   |   |   |   |   |--- class: 1\n",
      "|   |   |   |   |   |   |   |--- dti >  23.98\n",
      "|   |   |   |   |   |   |   |   |--- class: 1\n",
      "|   |   |   |   |   |   |--- pub.rec >  0.50\n",
      "|   |   |   |   |   |   |   |--- class: 0\n",
      "|   |--- int.rate >  0.12\n",
      "|   |   |--- purpose_small_business <= 0.50\n",
      "|   |   |   |--- revol.bal <= 2396.00\n",
      "|   |   |   |   |--- revol.util <= 84.50\n",
      "|   |   |   |   |   |--- installment <= 848.46\n",
      "|   |   |   |   |   |   |--- inq.last.6mths <= 2.50\n",
      "|   |   |   |   |   |   |   |--- dti <= 16.28\n",
      "|   |   |   |   |   |   |   |   |--- revol.bal <= 2366.00\n",
      "|   |   |   |   |   |   |   |   |   |--- installment <= 41.31\n",
      "|   |   |   |   |   |   |   |   |   |   |--- class: 1\n",
      "|   |   |   |   |   |   |   |   |   |--- installment >  41.31\n",
      "|   |   |   |   |   |   |   |   |   |   |--- log.annual.inc <= 10.60\n",
      "|   |   |   |   |   |   |   |   |   |   |   |--- truncated branch of depth 4\n",
      "|   |   |   |   |   |   |   |   |   |   |--- log.annual.inc >  10.60\n",
      "|   |   |   |   |   |   |   |   |   |   |   |--- truncated branch of depth 6\n",
      "|   |   |   |   |   |   |   |   |--- revol.bal >  2366.00\n",
      "|   |   |   |   |   |   |   |   |   |--- class: 1\n",
      "|   |   |   |   |   |   |   |--- dti >  16.28\n",
      "|   |   |   |   |   |   |   |   |--- fico <= 699.50\n",
      "|   |   |   |   |   |   |   |   |   |--- dti <= 21.70\n",
      "|   |   |   |   |   |   |   |   |   |   |--- class: 1\n",
      "|   |   |   |   |   |   |   |   |   |--- dti >  21.70\n",
      "|   |   |   |   |   |   |   |   |   |   |--- class: 0\n",
      "|   |   |   |   |   |   |   |   |--- fico >  699.50\n",
      "|   |   |   |   |   |   |   |   |   |--- class: 0\n",
      "|   |   |   |   |   |   |--- inq.last.6mths >  2.50\n",
      "|   |   |   |   |   |   |   |--- days.with.cr.line <= 3044.98\n",
      "|   |   |   |   |   |   |   |   |--- class: 1\n",
      "|   |   |   |   |   |   |   |--- days.with.cr.line >  3044.98\n",
      "|   |   |   |   |   |   |   |   |--- int.rate <= 0.18\n",
      "|   |   |   |   |   |   |   |   |   |--- revol.bal <= 1520.50\n",
      "|   |   |   |   |   |   |   |   |   |   |--- fico <= 799.50\n",
      "|   |   |   |   |   |   |   |   |   |   |   |--- truncated branch of depth 2\n",
      "|   |   |   |   |   |   |   |   |   |   |--- fico >  799.50\n",
      "|   |   |   |   |   |   |   |   |   |   |   |--- class: 1\n",
      "|   |   |   |   |   |   |   |   |   |--- revol.bal >  1520.50\n",
      "|   |   |   |   |   |   |   |   |   |   |--- class: 1\n",
      "|   |   |   |   |   |   |   |   |--- int.rate >  0.18\n",
      "|   |   |   |   |   |   |   |   |   |--- class: 1\n",
      "|   |   |   |   |   |--- installment >  848.46\n",
      "|   |   |   |   |   |   |--- class: 1\n",
      "|   |   |   |   |--- revol.util >  84.50\n",
      "|   |   |   |   |   |--- int.rate <= 0.16\n",
      "|   |   |   |   |   |   |--- class: 0\n",
      "|   |   |   |   |   |--- int.rate >  0.16\n",
      "|   |   |   |   |   |   |--- class: 1\n",
      "|   |   |   |--- revol.bal >  2396.00\n",
      "|   |   |   |   |--- installment <= 879.86\n",
      "|   |   |   |   |   |--- log.annual.inc <= 10.51\n",
      "|   |   |   |   |   |   |--- days.with.cr.line <= 2939.98\n",
      "|   |   |   |   |   |   |   |--- revol.bal <= 8055.00\n",
      "|   |   |   |   |   |   |   |   |--- fico <= 674.50\n",
      "|   |   |   |   |   |   |   |   |   |--- int.rate <= 0.13\n",
      "|   |   |   |   |   |   |   |   |   |   |--- class: 1\n",
      "|   |   |   |   |   |   |   |   |   |--- int.rate >  0.13\n",
      "|   |   |   |   |   |   |   |   |   |   |--- installment <= 155.26\n",
      "|   |   |   |   |   |   |   |   |   |   |   |--- class: 0\n",
      "|   |   |   |   |   |   |   |   |   |   |--- installment >  155.26\n",
      "|   |   |   |   |   |   |   |   |   |   |   |--- truncated branch of depth 2\n",
      "|   |   |   |   |   |   |   |   |--- fico >  674.50\n",
      "|   |   |   |   |   |   |   |   |   |--- purpose_major_purchase <= 0.50\n",
      "|   |   |   |   |   |   |   |   |   |   |--- log.annual.inc <= 10.48\n",
      "|   |   |   |   |   |   |   |   |   |   |   |--- class: 0\n",
      "|   |   |   |   |   |   |   |   |   |   |--- log.annual.inc >  10.48\n",
      "|   |   |   |   |   |   |   |   |   |   |   |--- class: 0\n",
      "|   |   |   |   |   |   |   |   |   |--- purpose_major_purchase >  0.50\n",
      "|   |   |   |   |   |   |   |   |   |   |--- class: 0\n",
      "|   |   |   |   |   |   |   |--- revol.bal >  8055.00\n",
      "|   |   |   |   |   |   |   |   |--- purpose_educational <= 0.50\n",
      "|   |   |   |   |   |   |   |   |   |--- fico <= 714.50\n",
      "|   |   |   |   |   |   |   |   |   |   |--- fico <= 694.50\n",
      "|   |   |   |   |   |   |   |   |   |   |   |--- truncated branch of depth 5\n",
      "|   |   |   |   |   |   |   |   |   |   |--- fico >  694.50\n",
      "|   |   |   |   |   |   |   |   |   |   |   |--- class: 0\n",
      "|   |   |   |   |   |   |   |   |   |--- fico >  714.50\n",
      "|   |   |   |   |   |   |   |   |   |   |--- class: 1\n",
      "|   |   |   |   |   |   |   |   |--- purpose_educational >  0.50\n",
      "|   |   |   |   |   |   |   |   |   |--- class: 1\n",
      "|   |   |   |   |   |   |--- days.with.cr.line >  2939.98\n",
      "|   |   |   |   |   |   |   |--- int.rate <= 0.15\n",
      "|   |   |   |   |   |   |   |   |--- revol.util <= 35.00\n",
      "|   |   |   |   |   |   |   |   |   |--- class: 0\n",
      "|   |   |   |   |   |   |   |   |--- revol.util >  35.00\n",
      "|   |   |   |   |   |   |   |   |   |--- dti <= 21.53\n",
      "|   |   |   |   |   |   |   |   |   |   |--- revol.bal <= 19191.00\n",
      "|   |   |   |   |   |   |   |   |   |   |   |--- truncated branch of depth 6\n",
      "|   |   |   |   |   |   |   |   |   |   |--- revol.bal >  19191.00\n",
      "|   |   |   |   |   |   |   |   |   |   |   |--- class: 0\n",
      "|   |   |   |   |   |   |   |   |   |--- dti >  21.53\n",
      "|   |   |   |   |   |   |   |   |   |   |--- class: 1\n",
      "|   |   |   |   |   |   |   |--- int.rate >  0.15\n",
      "|   |   |   |   |   |   |   |   |--- log.annual.inc <= 10.48\n",
      "|   |   |   |   |   |   |   |   |   |--- installment <= 472.44\n",
      "|   |   |   |   |   |   |   |   |   |   |--- purpose_major_purchase <= 0.50\n",
      "|   |   |   |   |   |   |   |   |   |   |   |--- class: 0\n",
      "|   |   |   |   |   |   |   |   |   |   |--- purpose_major_purchase >  0.50\n",
      "|   |   |   |   |   |   |   |   |   |   |   |--- class: 1\n",
      "|   |   |   |   |   |   |   |   |   |--- installment >  472.44\n",
      "|   |   |   |   |   |   |   |   |   |   |--- class: 1\n",
      "|   |   |   |   |   |   |   |   |--- log.annual.inc >  10.48\n",
      "|   |   |   |   |   |   |   |   |   |--- class: 1\n",
      "|   |   |   |   |   |--- log.annual.inc >  10.51\n",
      "|   |   |   |   |   |   |--- pub.rec <= 0.50\n",
      "|   |   |   |   |   |   |   |--- installment <= 835.56\n",
      "|   |   |   |   |   |   |   |   |--- revol.util <= 0.05\n",
      "|   |   |   |   |   |   |   |   |   |--- class: 1\n",
      "|   |   |   |   |   |   |   |   |--- revol.util >  0.05\n",
      "|   |   |   |   |   |   |   |   |   |--- days.with.cr.line <= 8249.98\n",
      "|   |   |   |   |   |   |   |   |   |   |--- dti <= 1.05\n",
      "|   |   |   |   |   |   |   |   |   |   |   |--- class: 1\n",
      "|   |   |   |   |   |   |   |   |   |   |--- dti >  1.05\n",
      "|   |   |   |   |   |   |   |   |   |   |   |--- truncated branch of depth 6\n",
      "|   |   |   |   |   |   |   |   |   |--- days.with.cr.line >  8249.98\n",
      "|   |   |   |   |   |   |   |   |   |   |--- inq.last.6mths <= 2.50\n",
      "|   |   |   |   |   |   |   |   |   |   |   |--- truncated branch of depth 4\n",
      "|   |   |   |   |   |   |   |   |   |   |--- inq.last.6mths >  2.50\n",
      "|   |   |   |   |   |   |   |   |   |   |   |--- class: 1\n",
      "|   |   |   |   |   |   |   |--- installment >  835.56\n",
      "|   |   |   |   |   |   |   |   |--- revol.util <= 52.65\n",
      "|   |   |   |   |   |   |   |   |   |--- revol.util <= 48.60\n",
      "|   |   |   |   |   |   |   |   |   |   |--- class: 0\n",
      "|   |   |   |   |   |   |   |   |   |--- revol.util >  48.60\n",
      "|   |   |   |   |   |   |   |   |   |   |--- class: 1\n",
      "|   |   |   |   |   |   |   |   |--- revol.util >  52.65\n",
      "|   |   |   |   |   |   |   |   |   |--- revol.bal <= 9050.00\n",
      "|   |   |   |   |   |   |   |   |   |   |--- class: 1\n",
      "|   |   |   |   |   |   |   |   |   |--- revol.bal >  9050.00\n",
      "|   |   |   |   |   |   |   |   |   |   |--- dti <= 24.57\n",
      "|   |   |   |   |   |   |   |   |   |   |   |--- truncated branch of depth 4\n",
      "|   |   |   |   |   |   |   |   |   |   |--- dti >  24.57\n",
      "|   |   |   |   |   |   |   |   |   |   |   |--- class: 1\n",
      "|   |   |   |   |   |   |--- pub.rec >  0.50\n",
      "|   |   |   |   |   |   |   |--- dti <= 20.74\n",
      "|   |   |   |   |   |   |   |   |--- revol.bal <= 3666.50\n",
      "|   |   |   |   |   |   |   |   |   |--- class: 1\n",
      "|   |   |   |   |   |   |   |   |--- revol.bal >  3666.50\n",
      "|   |   |   |   |   |   |   |   |   |--- revol.bal <= 26070.50\n",
      "|   |   |   |   |   |   |   |   |   |   |--- int.rate <= 0.12\n",
      "|   |   |   |   |   |   |   |   |   |   |   |--- class: 1\n",
      "|   |   |   |   |   |   |   |   |   |   |--- int.rate >  0.12\n",
      "|   |   |   |   |   |   |   |   |   |   |   |--- truncated branch of depth 5\n",
      "|   |   |   |   |   |   |   |   |   |--- revol.bal >  26070.50\n",
      "|   |   |   |   |   |   |   |   |   |   |--- class: 0\n",
      "|   |   |   |   |   |   |   |--- dti >  20.74\n",
      "|   |   |   |   |   |   |   |   |--- class: 1\n",
      "|   |   |   |   |--- installment >  879.86\n",
      "|   |   |   |   |   |--- class: 1\n",
      "|   |   |--- purpose_small_business >  0.50\n",
      "|   |   |   |--- installment <= 166.44\n",
      "|   |   |   |   |--- revol.bal <= 354.00\n",
      "|   |   |   |   |   |--- class: 0\n",
      "|   |   |   |   |--- revol.bal >  354.00\n",
      "|   |   |   |   |   |--- class: 0\n",
      "|   |   |   |--- installment >  166.44\n",
      "|   |   |   |   |--- installment <= 254.43\n",
      "|   |   |   |   |   |--- inq.last.6mths <= 2.50\n",
      "|   |   |   |   |   |   |--- days.with.cr.line <= 2549.96\n",
      "|   |   |   |   |   |   |   |--- class: 0\n",
      "|   |   |   |   |   |   |--- days.with.cr.line >  2549.96\n",
      "|   |   |   |   |   |   |   |--- class: 1\n",
      "|   |   |   |   |   |--- inq.last.6mths >  2.50\n",
      "|   |   |   |   |   |   |--- class: 0\n",
      "|   |   |   |   |--- installment >  254.43\n",
      "|   |   |   |   |   |--- log.annual.inc <= 11.20\n",
      "|   |   |   |   |   |   |--- installment <= 270.82\n",
      "|   |   |   |   |   |   |   |--- class: 0\n",
      "|   |   |   |   |   |   |--- installment >  270.82\n",
      "|   |   |   |   |   |   |   |--- revol.bal <= 31298.00\n",
      "|   |   |   |   |   |   |   |   |--- revol.util <= 80.05\n",
      "|   |   |   |   |   |   |   |   |   |--- installment <= 558.93\n",
      "|   |   |   |   |   |   |   |   |   |   |--- revol.bal <= 717.50\n",
      "|   |   |   |   |   |   |   |   |   |   |   |--- class: 0\n",
      "|   |   |   |   |   |   |   |   |   |   |--- revol.bal >  717.50\n",
      "|   |   |   |   |   |   |   |   |   |   |   |--- truncated branch of depth 2\n",
      "|   |   |   |   |   |   |   |   |   |--- installment >  558.93\n",
      "|   |   |   |   |   |   |   |   |   |   |--- class: 0\n",
      "|   |   |   |   |   |   |   |   |--- revol.util >  80.05\n",
      "|   |   |   |   |   |   |   |   |   |--- class: 0\n",
      "|   |   |   |   |   |   |   |--- revol.bal >  31298.00\n",
      "|   |   |   |   |   |   |   |   |--- class: 1\n",
      "|   |   |   |   |   |--- log.annual.inc >  11.20\n",
      "|   |   |   |   |   |   |--- days.with.cr.line <= 3061.54\n",
      "|   |   |   |   |   |   |   |--- class: 1\n",
      "|   |   |   |   |   |   |--- days.with.cr.line >  3061.54\n",
      "|   |   |   |   |   |   |   |--- fico <= 739.50\n",
      "|   |   |   |   |   |   |   |   |--- installment <= 536.43\n",
      "|   |   |   |   |   |   |   |   |   |--- revol.bal <= 29693.00\n",
      "|   |   |   |   |   |   |   |   |   |   |--- class: 0\n",
      "|   |   |   |   |   |   |   |   |   |--- revol.bal >  29693.00\n",
      "|   |   |   |   |   |   |   |   |   |   |--- class: 0\n",
      "|   |   |   |   |   |   |   |   |--- installment >  536.43\n",
      "|   |   |   |   |   |   |   |   |   |--- dti <= 6.31\n",
      "|   |   |   |   |   |   |   |   |   |   |--- class: 1\n",
      "|   |   |   |   |   |   |   |   |   |--- dti >  6.31\n",
      "|   |   |   |   |   |   |   |   |   |   |--- class: 0\n",
      "|   |   |   |   |   |   |   |--- fico >  739.50\n",
      "|   |   |   |   |   |   |   |   |--- class: 0\n",
      "\n"
     ]
    }
   ],
   "source": [
    "# text representation\n",
    "text_representation = tree.export_text(clf_best, feature_names = fnList)\n",
    "print(text_representation)"
   ]
  },
  {
   "cell_type": "code",
   "execution_count": 43,
   "metadata": {},
   "outputs": [
    {
     "data": {
      "image/png": "[encoded data removed]",
      "text/plain": [
       "<Figure size 1200x600 with 1 Axes>"
      ]
     },
     "metadata": {
      "needs_background": "light"
     },
     "output_type": "display_data"
    }
   ],
   "source": [
    "fig, axes = plt.subplots(figsize = (6,3), dpi=200)\n",
    "tree.plot_tree(clf_best, filled = True)\n",
    "plt.show()"
   ]
  },
  {
   "cell_type": "markdown",
   "metadata": {},
   "source": [
    "### On the testing set"
   ]
  },
  {
   "cell_type": "code",
   "execution_count": 44,
   "metadata": {},
   "outputs": [
    {
     "name": "stdout",
     "output_type": "stream",
     "text": [
      "Train balanced accuracy score:  0.736\n"
     ]
    }
   ],
   "source": [
    "#Predict the response for training dataset\n",
    "y_pred_best_train = clf_best.predict(X_train)\n",
    "print(\"Train balanced accuracy score: \", round(metrics.balanced_accuracy_score(y_train, y_pred_best_train), 4))"
   ]
  },
  {
   "cell_type": "code",
   "execution_count": 45,
   "metadata": {},
   "outputs": [
    {
     "name": "stdout",
     "output_type": "stream",
     "text": [
      "Validation balanced accuracy score:  0.5264\n"
     ]
    }
   ],
   "source": [
    "#Predict the response for validation dataset\n",
    "y_pred_best = clf_best.predict(X_val)\n",
    "print(\"Validation balanced accuracy score: \", round(metrics.balanced_accuracy_score(y_val, y_pred_best), 4))"
   ]
  },
  {
   "cell_type": "code",
   "execution_count": 46,
   "metadata": {},
   "outputs": [
    {
     "data": {
      "image/png": "[encoded data removed]",
      "text/plain": [
       "<Figure size 432x288 with 1 Axes>"
      ]
     },
     "metadata": {
      "needs_background": "light"
     },
     "output_type": "display_data"
    }
   ],
   "source": [
    "# Creating confusion matrix\n",
    "confusion_matrix =  pd.crosstab(index=y_val, columns=y_pred_best, rownames=['Actual'], colnames=['Predicted'])\n",
    "sns.heatmap(confusion_matrix, annot=True, square=False, fmt='', cbar=False)\n",
    "plt.title(\"Confusion Matrix\", fontsize = 15)\n",
    "plt.show()"
   ]
  },
  {
   "cell_type": "code",
   "execution_count": 47,
   "metadata": {},
   "outputs": [
    {
     "name": "stdout",
     "output_type": "stream",
     "text": [
      "              precision    recall  f1-score   support\n",
      "\n",
      "           0       0.81      0.89      0.85      1807\n",
      "           1       0.26      0.16      0.20       437\n",
      "\n",
      "    accuracy                           0.75      2244\n",
      "   macro avg       0.54      0.53      0.53      2244\n",
      "weighted avg       0.71      0.75      0.72      2244\n",
      "\n"
     ]
    }
   ],
   "source": [
    "print(metrics.classification_report(y_val, y_pred_best))"
   ]
  },
  {
   "cell_type": "code",
   "execution_count": 48,
   "metadata": {},
   "outputs": [
    {
     "name": "stdout",
     "output_type": "stream",
     "text": [
      "Recall:  0.1625\n",
      "Specificity:  0.8904\n",
      "Precision Score:  0.2639\n",
      "Balanced Accuracy:  0.5264\n",
      "F1 Score:  0.2011\n"
     ]
    }
   ],
   "source": [
    "print(\"Recall: \", round(recall_score(y_val, y_pred_best), 4))\n",
    "print(\"Specificity: \", round(1609/(1609+198), 4))\n",
    "print(\"Precision Score: \", round(precision_score(y_val, y_pred_best), 4))\n",
    "print(\"Balanced Accuracy: \", round(balanced_accuracy_score(y_val, y_pred_best), 4))\n",
    "print(\"F1 Score: \", round(f1_score(y_val, y_pred_best), 4))"
   ]
  },
  {
   "cell_type": "markdown",
   "metadata": {},
   "source": [
    "Due to the imbalanced data as the number of observations per class is not equally distributed and that applies to this case, this might introduce significant inaccuracy if accuracy matric is used for evaluation. Therefore, balanced accuracy and F1 score would be utilized here instead. When compared with the default model, these modified metrics appear to have similar figures of scores. I would assume that this is due to a very small grid and there is not much choice anyways, which may explain why scores give me the similar combinations and hence the minimal betterment of scoring tables. This model exibits overfitting by comparison of training and testing scores.\n",
    "\n",
    "In addition, the decision tree algorithm is effective for balanced classification, although it does not perform well on this imbalanced datasets.The tree points of separation are chosen to split into different groups with minimum mixing. When both types are dominated by samples from one class, the criteria employed to select a separation point will see good split, when in fact, the example from the minority class are being ignored here."
   ]
  },
  {
   "cell_type": "markdown",
   "metadata": {},
   "source": [
    "# Q5"
   ]
  },
  {
   "cell_type": "markdown",
   "metadata": {},
   "source": [
    "## Random Forest model"
   ]
  },
  {
   "cell_type": "markdown",
   "metadata": {},
   "source": [
    "- Initiate the Random Forest classifier from the sklearn library. Keep all parameters with their default values. (No need to specify anything)\n",
    "- Fit the model\n",
    "- Make predictions\n",
    "- Calculate accuracy score. What are the **training** and **testing** accuracies of the model?\n",
    "- Create confusion matrix\n",
    "- Either using the confusion matrix or the methods in `sklearn.metrics` get the following metrics on the testing set:\n",
    "     - Recall (Sensitivity)\n",
    "     - Specificity\n",
    "     - Precision\n",
    "     - Balanced Accuracy\n",
    "     - F1 Score\n",
    "- Using all the training data perform cross-validation:\n",
    "    - Select the `min_samples_split` hyper-parameter and apply cross validation to find the best value.  \n",
    "    - Select the `max_depth` hyper-parameter and apply cross validation to find the best value. \n",
    "    - Select the `n_estimators` hyper-parameter and apply cross validation to find the best value. \n",
    "    - Perform grid search where you check for combinations of these hyper-parameters.\n",
    "        - https://scikit-learn.org/stable/modules/generated/sklearn.model_selection.GridSearchCV.html\n",
    "- For the best model:\n",
    "    - Either using the confusion matrix or the methods in `sklearn.metrics` get the following metrics on the testing set:\n",
    "         - Recall (Sensitivity)\n",
    "         - Specificity\n",
    "         - Precision\n",
    "         - Balanced Accuracy\n",
    "         - F1 Score\n",
    "    - Compare the results to the model with default paramters. Any change?"
   ]
  },
  {
   "cell_type": "code",
   "execution_count": 49,
   "metadata": {},
   "outputs": [],
   "source": [
    "from sklearn.ensemble import RandomForestClassifier"
   ]
  },
  {
   "cell_type": "code",
   "execution_count": 50,
   "metadata": {},
   "outputs": [
    {
     "name": "stdout",
     "output_type": "stream",
     "text": [
      "Train Accuracy: 1.0\n",
      "Train Balanced Accuracy:  1.0\n",
      "-------------------------------------\n",
      "Validation Accuracy: 0.8061\n",
      "Validation Balanced Accuracy:  0.5144\n",
      "-------------------------------------\n"
     ]
    }
   ],
   "source": [
    "# Initiate Random Forest classifer object\n",
    "rf = RandomForestClassifier(random_state=2020)\n",
    "# Random Forest classifer\n",
    "rf = rf.fit(X_train, y_train)\n",
    "\n",
    "#Predict the response for train dataset\n",
    "y_pred_rf1 = rf.predict(X_train)\n",
    "print(\"Train Accuracy:\",round(metrics.accuracy_score(y_train, y_pred_rf1), 4))\n",
    "print(\"Train Balanced Accuracy: \", round(balanced_accuracy_score(y_train, y_pred_rf1), 4))\n",
    "print(\"-------------------------------------\")\n",
    "\n",
    "#Predict the response for validation dataset\n",
    "y_pred_rf2 = rf.predict(X_val)\n",
    "print(\"Validation Accuracy:\",round(metrics.accuracy_score(y_val, y_pred_rf2), 4))\n",
    "print(\"Validation Balanced Accuracy: \", round(balanced_accuracy_score(y_val, y_pred_rf2), 4))\n",
    "print(\"-------------------------------------\")"
   ]
  },
  {
   "cell_type": "code",
   "execution_count": 51,
   "metadata": {},
   "outputs": [
    {
     "data": {
      "image/png": "[encoded data removed]",
      "text/plain": [
       "<Figure size 432x288 with 2 Axes>"
      ]
     },
     "metadata": {
      "needs_background": "light"
     },
     "output_type": "display_data"
    }
   ],
   "source": [
    "# Creating confusion matrix\n",
    "confusion_matrix =  pd.crosstab(index=y_val, columns=y_pred_rf2, rownames=['Actual'], colnames=['Predicted'])\n",
    "sns.heatmap(confusion_matrix, annot=True, square=False, fmt='', cbar=True)\n",
    "plt.title(\"Confusion Matrix\", fontsize = 15)\n",
    "plt.show()"
   ]
  },
  {
   "cell_type": "code",
   "execution_count": 52,
   "metadata": {},
   "outputs": [
    {
     "name": "stdout",
     "output_type": "stream",
     "text": [
      "              precision    recall  f1-score   support\n",
      "\n",
      "           0       0.81      0.99      0.89      1807\n",
      "           1       0.53      0.04      0.07       437\n",
      "\n",
      "    accuracy                           0.81      2244\n",
      "   macro avg       0.67      0.51      0.48      2244\n",
      "weighted avg       0.76      0.81      0.73      2244\n",
      "\n"
     ]
    }
   ],
   "source": [
    "print(metrics.classification_report(y_val, y_pred_rf2))"
   ]
  },
  {
   "cell_type": "code",
   "execution_count": 53,
   "metadata": {},
   "outputs": [
    {
     "name": "stdout",
     "output_type": "stream",
     "text": [
      "Recall:  0.0366\n",
      "Specificity:  0.9923\n",
      "Precision Score:  0.5333\n",
      "Balanced Accuracy:  0.5144\n",
      "F1 Score:  0.0685\n"
     ]
    }
   ],
   "source": [
    "print(\"Recall: \", round(recall_score(y_val, y_pred_rf2), 4))\n",
    "print(\"Specificity: \", round(1793/(1793+14), 4))\n",
    "print(\"Precision Score: \", round(precision_score(y_val, y_pred_rf2), 4))\n",
    "print(\"Balanced Accuracy: \", round(balanced_accuracy_score(y_val, y_pred_rf2), 4))\n",
    "print(\"F1 Score: \", round(f1_score(y_val, y_pred_rf2), 4))"
   ]
  },
  {
   "cell_type": "markdown",
   "metadata": {},
   "source": [
    "#### Using all the training data perform cross-validation:"
   ]
  },
  {
   "cell_type": "code",
   "execution_count": 54,
   "metadata": {},
   "outputs": [
    {
     "name": "stdout",
     "output_type": "stream",
     "text": [
      "Min_samples_split:  2\n",
      "Balanced Accuracy:  0.5119598767684876\n"
     ]
    }
   ],
   "source": [
    "# Select the min_samples_split hyper-parameter and apply cross validation to find the best value\n",
    "min_samples_split = list(range(2, 50, 2))\n",
    "cvScore = []\n",
    "for sn in min_samples_split:\n",
    "    ## Initiate random forest classifer object\n",
    "    rf = RandomForestClassifier(min_samples_split = sn, random_state=2020)\n",
    "    # Evaluation of Classifer\n",
    "    cvScore.append(np.mean(cross_val_score(rf, X_train, y_train, cv=10, scoring='balanced_accuracy', n_jobs=-1)))\n",
    "\n",
    "index = cvScore.index(max(cvScore))\n",
    "print(\"Min_samples_split: \", min_samples_split[index])\n",
    "print(\"Balanced Accuracy: \", max(cvScore))"
   ]
  },
  {
   "cell_type": "code",
   "execution_count": 55,
   "metadata": {},
   "outputs": [
    {
     "name": "stdout",
     "output_type": "stream",
     "text": [
      "Max_Depth:  24\n",
      "Balanced Accuracy:  0.5132231913677117\n"
     ]
    }
   ],
   "source": [
    "# Select the max_depth hyper-parameter and apply cross validation to find the best value\n",
    "max_depth = list(range(2, 50, 2))\n",
    "cvScore = []\n",
    "for md in max_depth:\n",
    "    # Initiate random forest classifer object\n",
    "    rf = RandomForestClassifier(max_depth = md, random_state=2020)\n",
    "    # Evaluation of Classifer\n",
    "    cvScore.append(np.mean(cross_val_score(rf, X_train, y_train, cv=10, scoring='balanced_accuracy', n_jobs=-1)))\n",
    "\n",
    "index = cvScore.index(max(cvScore))\n",
    "print(\"Max_Depth: \", max_depth[index])\n",
    "print(\"Balanced Accuracy: \", max(cvScore))"
   ]
  },
  {
   "cell_type": "code",
   "execution_count": 56,
   "metadata": {},
   "outputs": [
    {
     "name": "stdout",
     "output_type": "stream",
     "text": [
      "n_estimators:  200\n",
      "Balanced Accuracy:  0.5128083210669521\n"
     ]
    }
   ],
   "source": [
    "# Select the n_estimators hyper-parameter and apply cross validation to find the best value\n",
    "n_estimators = list(range(100, 500, 50))\n",
    "cvScore = []\n",
    "for ne in n_estimators:\n",
    "    # Initiate random forest classifer object\n",
    "    rf = RandomForestClassifier(n_estimators = ne, random_state=2020)\n",
    "    # Evaluation of Classifer\n",
    "    cvScore.append(np.mean(cross_val_score(rf, X_train, y_train, cv=10, scoring='balanced_accuracy', n_jobs=-1)))\n",
    "\n",
    "index = cvScore.index(max(cvScore))\n",
    "print(\"n_estimators: \", n_estimators[index])\n",
    "print(\"Balanced Accuracy: \", max(cvScore))"
   ]
  },
  {
   "cell_type": "markdown",
   "metadata": {},
   "source": [
    "#### Perform grid search where you check for combinations of these hyper-parameters"
   ]
  },
  {
   "cell_type": "code",
   "execution_count": 57,
   "metadata": {},
   "outputs": [
    {
     "data": {
      "text/plain": [
       "GridSearchCV(cv=10, estimator=RandomForestClassifier(random_state=2020),\n",
       "             n_jobs=-1,\n",
       "             param_grid={'max_depth': [10, 12, 14, 16, 18],\n",
       "                         'min_samples_split': [10, 12, 14, 16, 18],\n",
       "                         'n_estimators': [100, 200, 300]},\n",
       "             scoring='balanced_accuracy')"
      ]
     },
     "execution_count": 57,
     "metadata": {},
     "output_type": "execute_result"
    }
   ],
   "source": [
    "# Create the parameter grid based on the results of random search \n",
    "param_grid = {\n",
    "    'max_depth': list(range(10, 20, 2)),\n",
    "    'min_samples_split': list(range(10, 20, 2)),\n",
    "    'n_estimators': list(range(100, 400, 100))\n",
    "}\n",
    "\n",
    "# Create a based model\n",
    "rf = RandomForestClassifier(random_state=2020)\n",
    "\n",
    "# Instantiate the grid search model\n",
    "grid_search = GridSearchCV(rf, param_grid, cv=10, scoring='balanced_accuracy', n_jobs=-1)\n",
    "\n",
    "# fit the grid with data\n",
    "grid_search.fit(X_train, y_train)"
   ]
  },
  {
   "cell_type": "markdown",
   "metadata": {},
   "source": [
    "Since the ranges in the previous steps made this search longer to complete running. Therefore, I  reduced the ranges to smaller number."
   ]
  },
  {
   "cell_type": "markdown",
   "metadata": {},
   "source": [
    "### The best Model"
   ]
  },
  {
   "cell_type": "code",
   "execution_count": 58,
   "metadata": {},
   "outputs": [
    {
     "name": "stdout",
     "output_type": "stream",
     "text": [
      "Best Balanced Accuracy Score:  0.5087051648561083\n",
      "Best Combined Parameters:  {'max_depth': 16, 'min_samples_split': 10, 'n_estimators': 200}\n"
     ]
    }
   ],
   "source": [
    "# examine the best model\n",
    "# Single best score achieved across all params\n",
    "print(\"Best Balanced Accuracy Score: \", grid_search.best_score_)\n",
    "\n",
    "# Dictionary containing the parameters used to generate that score\n",
    "print(\"Best Combined Parameters: \", grid_search.best_params_)"
   ]
  },
  {
   "cell_type": "markdown",
   "metadata": {},
   "source": [
    "#### Train with best model"
   ]
  },
  {
   "cell_type": "code",
   "execution_count": 59,
   "metadata": {},
   "outputs": [],
   "source": [
    "# Train with best hyperparameters\n",
    "rf_best = RandomForestClassifier(min_samples_split=10, max_depth=16, n_estimators=200, random_state=2020)\n",
    "rf_best = rf_best.fit(X_train, y_train)"
   ]
  },
  {
   "cell_type": "code",
   "execution_count": 60,
   "metadata": {},
   "outputs": [
    {
     "name": "stdout",
     "output_type": "stream",
     "text": [
      "Train balanced accuracy score:  0.7048\n",
      "-------------------------------------------\n",
      "Validation balanced accuracy score:  0.5146\n",
      "-------------------------------------------\n"
     ]
    }
   ],
   "source": [
    "#Predict the response for training dataset\n",
    "y_pred_best_train = rf_best.predict(X_train)\n",
    "print(\"Train balanced accuracy score: \", round(metrics.balanced_accuracy_score(y_train, y_pred_best_train), 4))\n",
    "print(\"-------------------------------------------\")\n",
    "\n",
    "#Predict the response for validation dataset\n",
    "y_pred_best_val = rf_best.predict(X_val)\n",
    "print(\"Validation balanced accuracy score: \", round(metrics.balanced_accuracy_score(y_val, y_pred_best_val), 4))\n",
    "print(\"-------------------------------------------\")"
   ]
  },
  {
   "cell_type": "code",
   "execution_count": 61,
   "metadata": {},
   "outputs": [
    {
     "data": {
      "image/png": "[encoded data removed]",
      "text/plain": [
       "<Figure size 432x288 with 1 Axes>"
      ]
     },
     "metadata": {
      "needs_background": "light"
     },
     "output_type": "display_data"
    }
   ],
   "source": [
    "# Creating confusion matrix\n",
    "confusion_matrix =  pd.crosstab(index=y_val, columns=y_pred_best_val, rownames=['Actual'], colnames=['Predicted'])\n",
    "sns.heatmap(confusion_matrix, annot=True, square=False, fmt='', cbar=False)\n",
    "plt.title(\"Confusion Matrix\", fontsize = 15)\n",
    "plt.show()"
   ]
  },
  {
   "cell_type": "code",
   "execution_count": 62,
   "metadata": {},
   "outputs": [
    {
     "name": "stdout",
     "output_type": "stream",
     "text": [
      "              precision    recall  f1-score   support\n",
      "\n",
      "           0       0.81      1.00      0.89      1807\n",
      "           1       0.93      0.03      0.06       437\n",
      "\n",
      "    accuracy                           0.81      2244\n",
      "   macro avg       0.87      0.51      0.48      2244\n",
      "weighted avg       0.83      0.81      0.73      2244\n",
      "\n"
     ]
    }
   ],
   "source": [
    "print(metrics.classification_report(y_val, y_pred_best_val))"
   ]
  },
  {
   "cell_type": "code",
   "execution_count": 63,
   "metadata": {},
   "outputs": [
    {
     "name": "stdout",
     "output_type": "stream",
     "text": [
      "Recall:  0.0297\n",
      "Specificity:  0.9994\n",
      "Precision Score:  0.9286\n",
      "Balanced Accuracy:  0.5146\n",
      "F1 Score:  0.0576\n"
     ]
    }
   ],
   "source": [
    "print(\"Recall: \", round(recall_score(y_val, y_pred_best_val), 4))\n",
    "print(\"Specificity: \", round(1806/(1806+1), 4))\n",
    "print(\"Precision Score: \", round(precision_score(y_val, y_pred_best_val), 4))\n",
    "print(\"Balanced Accuracy: \", round(balanced_accuracy_score(y_val, y_pred_best_val), 4))\n",
    "print(\"F1 Score: \", round(f1_score(y_val, y_pred_best_val), 4))"
   ]
  },
  {
   "cell_type": "markdown",
   "metadata": {},
   "source": [
    "Since the Random forests are built on decision trees, and decision trees are sensitive to class imbalance as the results showed in the previous question. Each tree is built on a bag, and each bag is a uniform random sample from the data with replacement. Generally speaking, it could be said that each tree in this Random Forest model get impacted in the same biased direction and magitude by the imbalance of major class.\n",
    "\n",
    "With comparison to the default model, the balanced accuracy in the model with grid search get minimal improvement. The model seems to be unsuitable in this type of data unless the imbalanced issue is resolved before the classifier would be executed again."
   ]
  },
  {
   "cell_type": "markdown",
   "metadata": {},
   "source": [
    "# Q6"
   ]
  },
  {
   "cell_type": "markdown",
   "metadata": {},
   "source": [
    "## Adaboost model"
   ]
  },
  {
   "cell_type": "markdown",
   "metadata": {},
   "source": [
    "- Initiate the Random Forest classifier from the sklearn library. Keep all parameters with their default values. (No need to specify anything)\n",
    "- Fit the model\n",
    "- Make predictions\n",
    "- Calculate accuracy score. What are the **training** and **testing** accuracies of the model?\n",
    "- Create confusion matrix\n",
    "- Either using the confusion matrix or the methods in `sklearn.metrics` get the following metrics on the testing set:\n",
    "     - Recall (Sensitivity)\n",
    "     - Specificity\n",
    "     - Precision\n",
    "     - Balanced Accuracy\n",
    "     - F1 Score\n",
    "- Using all the training data perform cross-validation:\n",
    "    - Select the `learning_rate` hyper-parameter and apply cross validation to find the best value.  \n",
    "    - Select the `n_estimators` hyper-parameter and apply cross validation to find the best value. \n",
    "    - Perform grid search where you check for combinations of these hyper-parameters.\n",
    "        - https://scikit-learn.org/stable/modules/generated/sklearn.model_selection.GridSearchCV.html\n",
    "- For the best model:\n",
    "    - Either using the confusion matrix or the methods in `sklearn.metrics` get the following metrics on the testing set:\n",
    "         - Recall (Sensitivity)\n",
    "         - Specificity\n",
    "         - Precision\n",
    "         - Balanced Accuracy\n",
    "         - F1 Score\n",
    "    - Compare the results to the model with default paramters. Any change?"
   ]
  },
  {
   "cell_type": "code",
   "execution_count": 64,
   "metadata": {},
   "outputs": [],
   "source": [
    "from sklearn.ensemble import AdaBoostClassifier"
   ]
  },
  {
   "cell_type": "code",
   "execution_count": 65,
   "metadata": {},
   "outputs": [],
   "source": [
    "# Initiate Random Forest classifer object\n",
    "adaboost = AdaBoostClassifier(random_state=2222)\n",
    "# Random Forest classifer\n",
    "adaboost = adaboost.fit(X_train, y_train)"
   ]
  },
  {
   "cell_type": "code",
   "execution_count": 66,
   "metadata": {},
   "outputs": [
    {
     "name": "stdout",
     "output_type": "stream",
     "text": [
      "Train Accuracy: 0.8152\n",
      "Train Balanced Accuracy:  0.5334\n",
      "-------------------------------------\n",
      "Validation Accuracy: 0.8035\n",
      "Validation Balanced Accuracy:  0.5136\n",
      "-------------------------------------\n"
     ]
    }
   ],
   "source": [
    "#Predict the response for train dataset\n",
    "y_pred_ada1 = adaboost.predict(X_train)\n",
    "# Model Accuracy, how often is the classifier correct?\n",
    "print(\"Train Accuracy:\",round(metrics.accuracy_score(y_train, y_pred_ada1), 4))\n",
    "print(\"Train Balanced Accuracy: \", round(balanced_accuracy_score(y_train, y_pred_ada1), 4))\n",
    "print(\"-------------------------------------\")\n",
    "\n",
    "#Predict the response for validation dataset\n",
    "y_pred_ada2 = adaboost.predict(X_val)\n",
    "# Model Accuracy, how often is the classifier correct?\n",
    "print(\"Validation Accuracy:\",round(metrics.accuracy_score(y_val, y_pred_ada2), 4))\n",
    "print(\"Validation Balanced Accuracy: \", round(balanced_accuracy_score(y_val, y_pred_ada2), 4))\n",
    "print(\"-------------------------------------\")"
   ]
  },
  {
   "cell_type": "code",
   "execution_count": 67,
   "metadata": {},
   "outputs": [
    {
     "data": {
      "image/png": "[encoded data removed]",
      "text/plain": [
       "<Figure size 432x288 with 2 Axes>"
      ]
     },
     "metadata": {
      "needs_background": "light"
     },
     "output_type": "display_data"
    }
   ],
   "source": [
    "# Creating confusion matrix\n",
    "confusion_matrix =  pd.crosstab(index=y_val, columns=y_pred_ada2, rownames=['Actual'], colnames=['Predicted'])\n",
    "sns.heatmap(confusion_matrix, annot=True, square=False, fmt='', cbar=True)\n",
    "plt.title(\"Confusion Matrix\", fontsize = 15)\n",
    "plt.show()"
   ]
  },
  {
   "cell_type": "code",
   "execution_count": 68,
   "metadata": {},
   "outputs": [
    {
     "name": "stdout",
     "output_type": "stream",
     "text": [
      "              precision    recall  f1-score   support\n",
      "\n",
      "           0       0.81      0.99      0.89      1807\n",
      "           1       0.45      0.04      0.07       437\n",
      "\n",
      "    accuracy                           0.80      2244\n",
      "   macro avg       0.63      0.51      0.48      2244\n",
      "weighted avg       0.74      0.80      0.73      2244\n",
      "\n"
     ]
    }
   ],
   "source": [
    "print(metrics.classification_report(y_val, y_pred_ada2))"
   ]
  },
  {
   "cell_type": "code",
   "execution_count": 69,
   "metadata": {},
   "outputs": [
    {
     "name": "stdout",
     "output_type": "stream",
     "text": [
      "Recall:  0.0389\n",
      "Specificity:  0.9884\n",
      "Precision Score:  0.4474\n",
      "Balanced Accuracy:  0.5136\n",
      "F1 Score:  0.0716\n"
     ]
    }
   ],
   "source": [
    "print(\"Recall: \", round(recall_score(y_val, y_pred_ada2), 4))\n",
    "print(\"Specificity: \", round(1786/(1786+21), 4))\n",
    "print(\"Precision Score: \", round(precision_score(y_val, y_pred_ada2), 4))\n",
    "print(\"Balanced Accuracy: \", round(balanced_accuracy_score(y_val, y_pred_ada2), 4))\n",
    "print(\"F1 Score: \", round(f1_score(y_val, y_pred_ada2), 4))"
   ]
  },
  {
   "cell_type": "markdown",
   "metadata": {},
   "source": [
    "#### Using all the training data perform cross-validation:"
   ]
  },
  {
   "cell_type": "code",
   "execution_count": 70,
   "metadata": {},
   "outputs": [
    {
     "name": "stdout",
     "output_type": "stream",
     "text": [
      "learning_rate:  1\n",
      "Balanced Accuracy:  0.515133170322251\n"
     ]
    }
   ],
   "source": [
    "# Select the learning_rate hyper-parameter and apply cross validation to find the best value\n",
    "learning_rate = list(range(1, 10, 2))\n",
    "cvScore = []\n",
    "for lr in learning_rate:\n",
    "    # Initiate adaboost classifer object\n",
    "    adaboost = AdaBoostClassifier(learning_rate = lr, random_state=2222)\n",
    "    # Evaluation of Classifer\n",
    "    cvScore.append(np.mean(cross_val_score(adaboost, X_train, y_train, cv=10, scoring='balanced_accuracy', n_jobs=-1)))\n",
    "\n",
    "index = cvScore.index(max(cvScore))\n",
    "print(\"learning_rate: \", learning_rate[index])\n",
    "print(\"Balanced Accuracy: \", max(cvScore))"
   ]
  },
  {
   "cell_type": "code",
   "execution_count": 71,
   "metadata": {},
   "outputs": [
    {
     "name": "stdout",
     "output_type": "stream",
     "text": [
      "n_estimators:  350\n",
      "Balanced Accuracy:  0.5267174160310452\n"
     ]
    }
   ],
   "source": [
    "# Select the n_estimators hyper-parameter and apply cross validation to find the best value\n",
    "n_estimators = list(range(100, 500, 50))\n",
    "cvScore = []\n",
    "for ne in n_estimators:\n",
    "    ## Initiate adaboost classifer object\n",
    "    adaboost = AdaBoostClassifier(n_estimators = ne,random_state=2222)\n",
    "    # Evaluation of Classifer\n",
    "    cvScore.append(np.mean(cross_val_score(adaboost, X_train, y_train, cv=10, scoring='balanced_accuracy', n_jobs=-1)))\n",
    "    \n",
    "index = cvScore.index(max(cvScore))\n",
    "print(\"n_estimators: \", n_estimators[index])\n",
    "print(\"Balanced Accuracy: \", max(cvScore))"
   ]
  },
  {
   "cell_type": "markdown",
   "metadata": {},
   "source": [
    "#### Perform grid search where you check for combinations of these hyper-parameters"
   ]
  },
  {
   "cell_type": "code",
   "execution_count": 72,
   "metadata": {},
   "outputs": [
    {
     "data": {
      "text/plain": [
       "GridSearchCV(cv=10, estimator=AdaBoostClassifier(random_state=2222), n_jobs=-1,\n",
       "             param_grid={'learning_rate': [1, 3, 5, 7, 9],\n",
       "                         'n_estimators': [100, 150, 200, 250, 300, 350, 400,\n",
       "                                          450]},\n",
       "             scoring='balanced_accuracy')"
      ]
     },
     "execution_count": 72,
     "metadata": {},
     "output_type": "execute_result"
    }
   ],
   "source": [
    "# Create the parameter grid based on the results of random search \n",
    "param_grid = {\n",
    "    'learning_rate': list(range(1, 10, 2)),\n",
    "    'n_estimators': list(range(100, 500, 50))\n",
    "}\n",
    "\n",
    "# Create a based model\n",
    "adaboost = AdaBoostClassifier(random_state=2222)\n",
    "\n",
    "# Instantiate the grid search model\n",
    "grid_search = GridSearchCV(adaboost, param_grid, cv=10, scoring='balanced_accuracy', n_jobs=-1)\n",
    "\n",
    "# fit the grid with data\n",
    "grid_search.fit(X_train, y_train)"
   ]
  },
  {
   "cell_type": "code",
   "execution_count": 73,
   "metadata": {},
   "outputs": [
    {
     "name": "stdout",
     "output_type": "stream",
     "text": [
      "Best balanced accuracy Score:  0.5267174160310452\n",
      "Best Combined Parameters:  {'learning_rate': 1, 'n_estimators': 350}\n"
     ]
    }
   ],
   "source": [
    "# examine the best model\n",
    "# Single best score achieved across all params\n",
    "print(\"Best balanced accuracy Score: \", grid_search.best_score_)\n",
    "\n",
    "# Dictionary containing the parameters used to generate that score\n",
    "print(\"Best Combined Parameters: \", grid_search.best_params_)"
   ]
  },
  {
   "cell_type": "markdown",
   "metadata": {},
   "source": [
    "#### Train with best model"
   ]
  },
  {
   "cell_type": "code",
   "execution_count": 74,
   "metadata": {},
   "outputs": [],
   "source": [
    "# Train with best hyperparameters\n",
    "ada_best = AdaBoostClassifier(learning_rate=1, n_estimators=350, random_state=2222)\n",
    "ada_best = ada_best.fit(X_train, y_train)"
   ]
  },
  {
   "cell_type": "code",
   "execution_count": 75,
   "metadata": {},
   "outputs": [
    {
     "name": "stdout",
     "output_type": "stream",
     "text": [
      "Train balanced accuracy score:  0.561\n",
      "-------------------------------------------\n",
      "Validation balanced accuracy score:  0.5201\n",
      "-------------------------------------------\n"
     ]
    }
   ],
   "source": [
    "#Predict the response for training dataset\n",
    "y_pred_best_train = ada_best.predict(X_train)\n",
    "print(\"Train balanced accuracy score: \", round(metrics.balanced_accuracy_score(y_train, y_pred_best_train), 4))\n",
    "print(\"-------------------------------------------\")\n",
    "\n",
    "#Predict the response for validation dataset\n",
    "y_pred_best_val = ada_best.predict(X_val)\n",
    "print(\"Validation balanced accuracy score: \", round(metrics.balanced_accuracy_score(y_val, y_pred_best_val), 4))\n",
    "print(\"-------------------------------------------\")"
   ]
  },
  {
   "cell_type": "code",
   "execution_count": 76,
   "metadata": {},
   "outputs": [
    {
     "data": {
      "image/png": "[encoded data removed]",
      "text/plain": [
       "<Figure size 432x288 with 2 Axes>"
      ]
     },
     "metadata": {
      "needs_background": "light"
     },
     "output_type": "display_data"
    }
   ],
   "source": [
    "# Creating confusion matrix\n",
    "confusion_matrix =  pd.crosstab(index=y_val, columns=y_pred_best_val, rownames=['Actual'], colnames=['Predicted'])\n",
    "sns.heatmap(confusion_matrix, annot=True, square=False, fmt='', cbar=True)\n",
    "plt.title(\"Confusion Matrix\", fontsize = 15)\n",
    "plt.show()"
   ]
  },
  {
   "cell_type": "code",
   "execution_count": 77,
   "metadata": {},
   "outputs": [
    {
     "name": "stdout",
     "output_type": "stream",
     "text": [
      "              precision    recall  f1-score   support\n",
      "\n",
      "           0       0.81      0.98      0.89      1807\n",
      "           1       0.43      0.06      0.10       437\n",
      "\n",
      "    accuracy                           0.80      2244\n",
      "   macro avg       0.62      0.52      0.50      2244\n",
      "weighted avg       0.74      0.80      0.74      2244\n",
      "\n"
     ]
    }
   ],
   "source": [
    "print(metrics.classification_report(y_val, y_pred_best_val))"
   ]
  },
  {
   "cell_type": "code",
   "execution_count": 78,
   "metadata": {},
   "outputs": [
    {
     "name": "stdout",
     "output_type": "stream",
     "text": [
      "Recall:  0.0595\n",
      "Specificity:  0.9806\n",
      "Precision Score:  0.4262\n",
      "Balanced Accuracy:  0.5201\n",
      "F1 Score:  0.1044\n"
     ]
    }
   ],
   "source": [
    "print(\"Recall: \", round(recall_score(y_val, y_pred_best_val), 4))\n",
    "print(\"Specificity: \", round(1772/(1772+35), 4))\n",
    "print(\"Precision Score: \", round(precision_score(y_val, y_pred_best_val), 4))\n",
    "print(\"Balanced Accuracy: \", round(balanced_accuracy_score(y_val, y_pred_best_val), 4))\n",
    "print(\"F1 Score: \", round(f1_score(y_val, y_pred_best_val), 4))"
   ]
  },
  {
   "cell_type": "markdown",
   "metadata": {},
   "source": [
    "Referring to the results above, it could be seen that its balanced accuracy get increased by almost 2% compared with the default model at the very first. From theory, each adaboost classifier is serially trained with the goal of correctly classifying examples in every round that were incorrectly classified in the previous round. After each iteration, the weights of misclassified instances are increased and the weights of correctly classified instances are decreased.\n",
    "\n",
    "This resulted in the improvement of score and even compared with the previous models. The adaboost seems to outperform decision tree and random forest. It might be due to the fact that their updated weight technique heavily impacts the type of imbalanced classes. This is because the weak learners would get better and better in each iteration in adaboost model."
   ]
  },
  {
   "cell_type": "markdown",
   "metadata": {},
   "source": [
    "# Q7"
   ]
  },
  {
   "cell_type": "markdown",
   "metadata": {},
   "source": [
    "## Gradient Boost model"
   ]
  },
  {
   "cell_type": "markdown",
   "metadata": {},
   "source": [
    "- Initiate the Random Forest classifier from the sklearn library. Keep all parameters with their default values. (No need to specify anything)\n",
    "- Fit the model\n",
    "- Make predictions\n",
    "- Calculate accuracy score. What are the **training** and **testing** accuracies of the model?\n",
    "- Create confusion matrix\n",
    "- Either using the confusion matrix or the methods in `sklearn.metrics` get the following metrics on the testing set:\n",
    "     - Recall (Sensitivity)\n",
    "     - Specificity\n",
    "     - Precision\n",
    "     - Balanced Accuracy\n",
    "     - F1 Score\n",
    "- Using all the training data perform cross-validation:\n",
    "    - Select the `learning_rate` hyper-parameter and apply cross validation to find the best value.  \n",
    "    - Select the `n_estimators` hyper-parameter and apply cross validation to find the best value. \n",
    "    - Perform grid search where you check for combinations of these hyper-parameters.\n",
    "        - https://scikit-learn.org/stable/modules/generated/sklearn.model_selection.GridSearchCV.html\n",
    "- For the best model:\n",
    "    - Either using the confusion matrix or the methods in `sklearn.metrics` get the following metrics on the testing set:\n",
    "         - Recall (Sensitivity)\n",
    "         - Specificity\n",
    "         - Precision\n",
    "         - Balanced Accuracy\n",
    "         - F1 Score\n",
    "    - Compare the results to the model with default paramters. Any change?"
   ]
  },
  {
   "cell_type": "code",
   "execution_count": 79,
   "metadata": {},
   "outputs": [],
   "source": [
    "from sklearn.ensemble import GradientBoostingClassifier"
   ]
  },
  {
   "cell_type": "code",
   "execution_count": 80,
   "metadata": {},
   "outputs": [],
   "source": [
    "# Initiate RGradientBoostingClassifier object\n",
    "gbclf = GradientBoostingClassifier(random_state=2020)\n",
    "# GradientBoostingClassifier\n",
    "gbclf = gbclf.fit(X_train, y_train)"
   ]
  },
  {
   "cell_type": "code",
   "execution_count": 81,
   "metadata": {},
   "outputs": [
    {
     "name": "stdout",
     "output_type": "stream",
     "text": [
      "Train Accuracy: 0.8292\n",
      "Train Balanced Accuracy:  0.5539\n",
      "-------------------------------------\n",
      "Validation Accuracy: 0.8057\n",
      "Validation Balanced Accuracy:  0.515\n",
      "-------------------------------------\n"
     ]
    }
   ],
   "source": [
    "#Predict the response for train dataset\n",
    "y_pred_gbclf_train = gbclf.predict(X_train)\n",
    "print(\"Train Accuracy:\",round(metrics.accuracy_score(y_train, y_pred_gbclf_train), 4))\n",
    "print(\"Train Balanced Accuracy: \", round(balanced_accuracy_score(y_train, y_pred_gbclf_train), 4))\n",
    "print(\"-------------------------------------\")\n",
    "\n",
    "#Predict the response for validation dataset\n",
    "y_pred_gbclf_val = gbclf.predict(X_val)\n",
    "print(\"Validation Accuracy:\",round(metrics.accuracy_score(y_val, y_pred_gbclf_val), 4))\n",
    "print(\"Validation Balanced Accuracy: \", round(balanced_accuracy_score(y_val, y_pred_gbclf_val), 4))\n",
    "print(\"-------------------------------------\")"
   ]
  },
  {
   "cell_type": "code",
   "execution_count": 82,
   "metadata": {},
   "outputs": [
    {
     "data": {
      "image/png": "[encoded data removed]",
      "text/plain": [
       "<Figure size 432x288 with 2 Axes>"
      ]
     },
     "metadata": {
      "needs_background": "light"
     },
     "output_type": "display_data"
    }
   ],
   "source": [
    "# Creating confusion matrix\n",
    "confusion_matrix =  pd.crosstab(index=y_val, columns=y_pred_gbclf_val, rownames=['Actual'], colnames=['Predicted'])\n",
    "sns.heatmap(confusion_matrix, annot=True, square=False, fmt='', cbar=True)\n",
    "plt.title(\"Confusion Matrix\", fontsize = 15)\n",
    "plt.show()"
   ]
  },
  {
   "cell_type": "code",
   "execution_count": 83,
   "metadata": {},
   "outputs": [
    {
     "name": "stdout",
     "output_type": "stream",
     "text": [
      "              precision    recall  f1-score   support\n",
      "\n",
      "           0       0.81      0.99      0.89      1807\n",
      "           1       0.52      0.04      0.07       437\n",
      "\n",
      "    accuracy                           0.81      2244\n",
      "   macro avg       0.66      0.52      0.48      2244\n",
      "weighted avg       0.75      0.81      0.73      2244\n",
      "\n"
     ]
    }
   ],
   "source": [
    "print(metrics.classification_report(y_val, y_pred_gbclf_val))"
   ]
  },
  {
   "cell_type": "code",
   "execution_count": 84,
   "metadata": {},
   "outputs": [
    {
     "name": "stdout",
     "output_type": "stream",
     "text": [
      "Recall:  0.0389\n",
      "Specificity:  0.9911\n",
      "Precision Score:  0.5152\n",
      "Balanced Accuracy:  0.515\n",
      "F1 Score:  0.0723\n"
     ]
    }
   ],
   "source": [
    "print(\"Recall: \", round(recall_score(y_val, y_pred_gbclf_val), 4))\n",
    "print(\"Specificity: \", round(1791/(1791+16), 4))\n",
    "print(\"Precision Score: \", round(precision_score(y_val, y_pred_gbclf_val), 4))\n",
    "print(\"Balanced Accuracy: \", round(balanced_accuracy_score(y_val, y_pred_gbclf_val), 4))\n",
    "print(\"F1 Score: \", round(f1_score(y_val, y_pred_gbclf_val), 4))"
   ]
  },
  {
   "cell_type": "markdown",
   "metadata": {},
   "source": [
    "#### Perform grid search where you check for combinations of these hyper-parameters"
   ]
  },
  {
   "cell_type": "code",
   "execution_count": 85,
   "metadata": {},
   "outputs": [
    {
     "name": "stdout",
     "output_type": "stream",
     "text": [
      "learning_rate:  5\n",
      "Balanced Accuracy:  0.5599796722747346\n"
     ]
    }
   ],
   "source": [
    "# Select the learning_rate hyper-parameter and apply cross validation to find the best value\n",
    "learning_rate = list(range(1, 10, 2))\n",
    "cvScore = []\n",
    "for lr in learning_rate:\n",
    "    ## Initiate classifer object\n",
    "    gbclf = GradientBoostingClassifier(learning_rate = lr,random_state=2020)\n",
    "    # Evaluation of Classifer\n",
    "    cvScore.append(np.mean(cross_val_score(gbclf, X_train, y_train, cv=10, scoring='balanced_accuracy', n_jobs=-1)))\n",
    "\n",
    "index = cvScore.index(max(cvScore))\n",
    "print(\"learning_rate: \", learning_rate[index])\n",
    "print(\"Balanced Accuracy: \", max(cvScore))"
   ]
  },
  {
   "cell_type": "code",
   "execution_count": 86,
   "metadata": {},
   "outputs": [
    {
     "name": "stdout",
     "output_type": "stream",
     "text": [
      "n_estimators:  400\n",
      "Balanced Accuracy:  0.5278399429866713\n"
     ]
    }
   ],
   "source": [
    "# Select the n_estimators hyper-parameter and apply cross validation to find the best value\n",
    "n_estimators = ln_estimators = list(range(100, 500, 100))\n",
    "cvScore = []\n",
    "for ne in n_estimators:\n",
    "    ## Initiate classifer object\n",
    "    gbclf = GradientBoostingClassifier(n_estimators = ne, random_state=2020)\n",
    "    # Evaluation of Classifer\n",
    "    cvScore.append(np.mean(cross_val_score(gbclf, X_train, y_train, cv=10, scoring='balanced_accuracy', n_jobs=-1)))\n",
    "\n",
    "index = cvScore.index(max(cvScore))\n",
    "print(\"n_estimators: \", n_estimators[index])\n",
    "print(\"Balanced Accuracy: \", max(cvScore))"
   ]
  },
  {
   "cell_type": "code",
   "execution_count": 87,
   "metadata": {},
   "outputs": [
    {
     "data": {
      "text/plain": [
       "GridSearchCV(cv=10, estimator=GradientBoostingClassifier(random_state=2020),\n",
       "             n_jobs=-1,\n",
       "             param_grid={'learning_rate': [1, 3, 5, 7, 9],\n",
       "                         'n_estimators': [100, 200, 300, 400]},\n",
       "             scoring='balanced_accuracy')"
      ]
     },
     "execution_count": 87,
     "metadata": {},
     "output_type": "execute_result"
    }
   ],
   "source": [
    "# Create the parameter grid based on the results of random search \n",
    "param_grid = {\n",
    "    'learning_rate': list(range(1, 10, 2)),\n",
    "    'n_estimators': list(range(100, 500, 100))\n",
    "}\n",
    "\n",
    "# Create a based model\n",
    "gbclf = GradientBoostingClassifier(random_state=2020)\n",
    "\n",
    "# Instantiate the grid search model\n",
    "grid_search = GridSearchCV(gbclf, param_grid, cv=10, scoring='balanced_accuracy', n_jobs=-1)\n",
    "\n",
    "# fit the grid with data\n",
    "grid_search.fit(X_train, y_train)"
   ]
  },
  {
   "cell_type": "markdown",
   "metadata": {},
   "source": [
    "#### Train with the best hyperparameters"
   ]
  },
  {
   "cell_type": "code",
   "execution_count": 88,
   "metadata": {},
   "outputs": [
    {
     "name": "stdout",
     "output_type": "stream",
     "text": [
      "Best Balanced Accuracy Score:  0.5599796722747346\n",
      "Best Combined Parameters:  {'learning_rate': 5, 'n_estimators': 100}\n"
     ]
    }
   ],
   "source": [
    "# examine the best model\n",
    "# Single best score achieved across all params\n",
    "print(\"Best Balanced Accuracy Score: \", grid_search.best_score_)\n",
    "\n",
    "# Dictionary containing the parameters used to generate that score\n",
    "print(\"Best Combined Parameters: \", grid_search.best_params_)"
   ]
  },
  {
   "cell_type": "code",
   "execution_count": 89,
   "metadata": {},
   "outputs": [],
   "source": [
    "# Train with best hyperparameters\n",
    "gbclf_best = GradientBoostingClassifier(n_estimators=100, learning_rate=5, random_state=2020)\n",
    "gbclf_best = gbclf_best.fit(X_train, y_train)"
   ]
  },
  {
   "cell_type": "code",
   "execution_count": 90,
   "metadata": {},
   "outputs": [
    {
     "name": "stdout",
     "output_type": "stream",
     "text": [
      "Train balanced accuracy score:  0.5452\n",
      "-------------------------------------------\n",
      "Validation balanced accuracy score:  0.54\n",
      "-------------------------------------------\n"
     ]
    }
   ],
   "source": [
    "#Predict the response for training dataset\n",
    "y_pred_best_train = gbclf_best.predict(X_train)\n",
    "print(\"Train balanced accuracy score: \", round(metrics.balanced_accuracy_score(y_train, y_pred_best_train), 4))\n",
    "print(\"-------------------------------------------\")\n",
    "\n",
    "#Predict the response for validation dataset\n",
    "y_pred_best_val = gbclf_best.predict(X_val)\n",
    "print(\"Validation balanced accuracy score: \", round(metrics.balanced_accuracy_score(y_val, y_pred_best_val), 4))\n",
    "print(\"-------------------------------------------\")"
   ]
  },
  {
   "cell_type": "code",
   "execution_count": 91,
   "metadata": {},
   "outputs": [
    {
     "data": {
      "image/png": "[encoded data removed]",
      "text/plain": [
       "<Figure size 432x288 with 2 Axes>"
      ]
     },
     "metadata": {
      "needs_background": "light"
     },
     "output_type": "display_data"
    }
   ],
   "source": [
    "# Creating confusion matrix\n",
    "confusion_matrix =  pd.crosstab(index=y_val, columns=y_pred_best_val, rownames=['Actual'], colnames=['Predicted'])\n",
    "sns.heatmap(confusion_matrix, annot=True, square=False, fmt='', cbar=True)\n",
    "plt.title(\"Confusion Matrix\", fontsize = 15)\n",
    "plt.show()"
   ]
  },
  {
   "cell_type": "code",
   "execution_count": 92,
   "metadata": {},
   "outputs": [
    {
     "name": "stdout",
     "output_type": "stream",
     "text": [
      "              precision    recall  f1-score   support\n",
      "\n",
      "           0       0.86      0.24      0.38      1807\n",
      "           1       0.21      0.84      0.34       437\n",
      "\n",
      "    accuracy                           0.36      2244\n",
      "   macro avg       0.54      0.54      0.36      2244\n",
      "weighted avg       0.73      0.36      0.37      2244\n",
      "\n"
     ]
    }
   ],
   "source": [
    "print(metrics.classification_report(y_val, y_pred_best_val))"
   ]
  },
  {
   "cell_type": "code",
   "execution_count": 93,
   "metadata": {},
   "outputs": [
    {
     "name": "stdout",
     "output_type": "stream",
     "text": [
      "Recall:  0.8398\n",
      "Specificity:  0.2402\n",
      "Precision Score:  0.2109\n",
      "Balanced Accuracy:  0.54\n",
      "F1 Score:  0.3372\n"
     ]
    }
   ],
   "source": [
    "print(\"Recall: \", round(recall_score(y_val, y_pred_best_val), 4))\n",
    "print(\"Specificity: \", round(434/(434+1373), 4))\n",
    "print(\"Precision Score: \", round(precision_score(y_val, y_pred_best_val), 4))\n",
    "print(\"Balanced Accuracy: \", round(balanced_accuracy_score(y_val, y_pred_best_val), 4))\n",
    "print(\"F1 Score: \", round(f1_score(y_val, y_pred_best_val), 4))"
   ]
  },
  {
   "cell_type": "markdown",
   "metadata": {},
   "source": [
    "From the balanced accuracy of the train and validation sets, it could be said that this model appeared to overcome the overfitting that occured in the decision tree and random forest models. It could be well-tuned in selecting the parameters using grid search with proper range of hyperparameters. In addition, it showed that the gradient boosting classifier produced a 3% increase of balanced accuracy compared to the default model which has the greatest improvement among the rest of classifier.\n",
    "\n",
    "This model internally calculates the loss function, updates the target at every stage and comes up with an improved classifier as compared to the initial classifier. However, if parameters are not tuned correctly it may result in over-fitting."
   ]
  },
  {
   "cell_type": "markdown",
   "metadata": {},
   "source": [
    "# Q8"
   ]
  },
  {
   "cell_type": "markdown",
   "metadata": {},
   "source": [
    "- Using the Decision Tree, Random Forest, Adaboost, and Gradient Boosting classifer models:\n",
    "    - Think of other ways of improving the accuracy and list at least two possibilities.\n",
    "    - Implement both of the methods you proposed. \n",
    "    - Is the model recall increasing? Why do you think this might have helped?\n",
    "    - If both of them did not improve, comment on why this might have been the case.\n",
    "    - Optional: Apply different things and see if the recall is improving"
   ]
  },
  {
   "cell_type": "markdown",
   "metadata": {},
   "source": [
    "#### Two ways to improve accuracy - recall\n",
    "\n",
    "(!) As the main issue that heavily impacts our models is that the dataset consists of unbalanced classes. Therefore, it is essential to balance the data in order to improve the accuracy in each model. This experiment will be applying oversampling method to combate the issue. Oversampling can be defined as adding more copies to the minority class. Oversampling can be a good choice when we don’t have a ton of data to work with like in this project.\n",
    "\n",
    "(2) Feature importance scores can be used to help interpret the data, but they can also be used directly to help rank and select features that are most useful to our predictive models. The SelectFromModel class will be utilized to define both the model I wish to calculate importance scores, RandomForestClassifier in this project, and the number of features to select, 7 for this experiemnt."
   ]
  },
  {
   "cell_type": "code",
   "execution_count": 94,
   "metadata": {},
   "outputs": [],
   "source": [
    "import imblearn\n",
    "from imblearn.over_sampling import RandomOverSampler\n",
    "from collections import Counter"
   ]
  },
  {
   "cell_type": "code",
   "execution_count": 95,
   "metadata": {},
   "outputs": [],
   "source": [
    "# Original Split\n",
    "X = loans.drop('not.fully.paid',axis=1)\n",
    "y = loans['not.fully.paid']\n",
    "X_train, X_val, y_train, y_val = train_test_split(X, y, test_size=0.30, random_state=2020)"
   ]
  },
  {
   "cell_type": "markdown",
   "metadata": {},
   "source": [
    "### (1) Random Oversampling Implementation"
   ]
  },
  {
   "cell_type": "code",
   "execution_count": 96,
   "metadata": {},
   "outputs": [
    {
     "name": "stdout",
     "output_type": "stream",
     "text": [
      "Original dataset shape Counter({0: 6045, 1: 1433})\n",
      "Resample dataset shape Counter({0: 6045, 1: 6045})\n"
     ]
    }
   ],
   "source": [
    "ros = RandomOverSampler(random_state=1414)\n",
    "\n",
    "# fit predictor and target variable \n",
    "X_ros, y_ros = ros.fit_resample(X, y)\n",
    "\n",
    "print('Original dataset shape', Counter(y))\n",
    "print('Resample dataset shape', Counter(y_ros))"
   ]
  },
  {
   "cell_type": "markdown",
   "metadata": {},
   "source": [
    "#### Train-Test Split for a balanced dataset"
   ]
  },
  {
   "cell_type": "code",
   "execution_count": 97,
   "metadata": {},
   "outputs": [],
   "source": [
    "X_ros_train, X_ros_val, y_ros_train, y_ros_val = train_test_split(X_ros, y_ros, test_size=0.30, random_state=2020)"
   ]
  },
  {
   "cell_type": "markdown",
   "metadata": {},
   "source": [
    "#### Evaluate Models after resampling process"
   ]
  },
  {
   "cell_type": "code",
   "execution_count": 98,
   "metadata": {},
   "outputs": [],
   "source": [
    "# Decision Tree\n",
    "clf_ros = DecisionTreeClassifier(random_state=2020)\n",
    "clf_ros = clf_ros.fit(X_ros_train, y_ros_train)\n",
    "#Predict the response for validation dataset\n",
    "y_pred_clf_ros = clf_ros.predict(X_ros_val)"
   ]
  },
  {
   "cell_type": "code",
   "execution_count": 99,
   "metadata": {},
   "outputs": [],
   "source": [
    "# Random Forest\n",
    "rf_ros = RandomForestClassifier(random_state=2020)\n",
    "rf_ros = rf_ros.fit(X_ros_train, y_ros_train)\n",
    "#Predict the response for validation dataset\n",
    "y_pred_rf_ros = rf_ros.predict(X_ros_val)"
   ]
  },
  {
   "cell_type": "code",
   "execution_count": 100,
   "metadata": {},
   "outputs": [],
   "source": [
    "# Adaboost\n",
    "adaboost_ros = AdaBoostClassifier(random_state=2222)\n",
    "adaboost_ros = adaboost_ros.fit(X_ros_train, y_ros_train)\n",
    "#Predict the response for validation dataset\n",
    "y_pred_ada_ros = adaboost_ros.predict(X_ros_val)"
   ]
  },
  {
   "cell_type": "code",
   "execution_count": 101,
   "metadata": {},
   "outputs": [],
   "source": [
    "# Gradient\n",
    "gbclf_ros = GradientBoostingClassifier(random_state=2020)\n",
    "gbclf_ros = gbclf_ros.fit(X_ros_train, y_ros_train)\n",
    "#Predict the response for validation dataset\n",
    "y_pred_gbclf_ros = gbclf_ros.predict(X_ros_val)"
   ]
  },
  {
   "cell_type": "code",
   "execution_count": 102,
   "metadata": {},
   "outputs": [
    {
     "name": "stdout",
     "output_type": "stream",
     "text": [
      "------------------------------------------------------\n",
      "Below is the comparison table for recall score\n",
      "------------------------------------------------------\n",
      "              Model         Before          After\n",
      "0     -------------  -------------  -------------\n",
      "1     Decision Tree          0.254         0.9584\n",
      "2     Random Forest         0.0366         0.9557\n",
      "3          Adaboost         0.0389         0.6056\n",
      "4  GradientBoosting         0.0389         0.6548\n",
      "------------------------------------------------------\n"
     ]
    }
   ],
   "source": [
    "# define\n",
    "a = round(recall_score(y_val, y_pred2), 4)\n",
    "b = round(recall_score(y_ros_val, y_pred_clf_ros), 4)\n",
    "c = round(recall_score(y_val, y_pred_rf2), 4)\n",
    "d = round(recall_score(y_ros_val, y_pred_rf_ros), 4)\n",
    "e = round(recall_score(y_val, y_pred_ada2), 4)\n",
    "f = round(recall_score(y_ros_val, y_pred_ada_ros), 4)\n",
    "g = round(recall_score(y_val, y_pred_gbclf_val), 4)\n",
    "h = round(recall_score(y_ros_val, y_pred_gbclf_ros), 4)\n",
    "\n",
    "data = [['-------------', '-------------', '-------------',],\n",
    "['Decision Tree', a, b],\n",
    "['Random Forest', c, d],\n",
    "['Adaboost', e, f],\n",
    "['GradientBoosting', g, h]]\n",
    "headers=[\"Model\", \"Before\", \"After\"]\n",
    "\n",
    "print('------------------------------------------------------')\n",
    "print(\"Below is the comparison table for recall score\")\n",
    "print('------------------------------------------------------')\n",
    "print(pd.DataFrame(data=data, index=None, columns=headers))\n",
    "print('------------------------------------------------------')"
   ]
  },
  {
   "cell_type": "markdown",
   "metadata": {},
   "source": [
    "### (2) Feature Selection Implementation\n",
    "In this experiemnt, in addition to performing the resampling of my data I have utilized the feature selection in order to strengthen the accuracy, in fact the recall as requested  "
   ]
  },
  {
   "cell_type": "code",
   "execution_count": 103,
   "metadata": {},
   "outputs": [],
   "source": [
    "from sklearn.feature_selection import SelectFromModel\n",
    "from matplotlib import pyplot"
   ]
  },
  {
   "cell_type": "code",
   "execution_count": 104,
   "metadata": {},
   "outputs": [
    {
     "name": "stdout",
     "output_type": "stream",
     "text": [
      "Feature: 0, Score: 0.02360\n",
      "Feature: 1, Score: 0.11596\n",
      "Feature: 2, Score: 0.10957\n",
      "Feature: 3, Score: 0.10897\n",
      "Feature: 4, Score: 0.10487\n",
      "Feature: 5, Score: 0.08154\n",
      "Feature: 6, Score: 0.10742\n",
      "Feature: 7, Score: 0.10275\n",
      "Feature: 8, Score: 0.10902\n",
      "Feature: 9, Score: 0.05325\n",
      "Feature: 10, Score: 0.01412\n",
      "Feature: 11, Score: 0.00791\n",
      "Feature: 12, Score: 0.01191\n",
      "Feature: 13, Score: 0.00967\n",
      "Feature: 14, Score: 0.01304\n",
      "Feature: 15, Score: 0.00516\n",
      "Feature: 16, Score: 0.00646\n",
      "Feature: 17, Score: 0.00529\n",
      "Feature: 18, Score: 0.00950\n"
     ]
    },
    {
     "data": {
      "image/png": "[encoded data removed]",
      "text/plain": [
       "<Figure size 432x288 with 1 Axes>"
      ]
     },
     "metadata": {
      "needs_background": "light"
     },
     "output_type": "display_data"
    }
   ],
   "source": [
    "# Feature importance using decision tree as base\n",
    "clf_ros = DecisionTreeClassifier(random_state=2020)\n",
    "# fit the model\n",
    "clf_ros = clf_ros.fit(X_ros_train, y_ros_train)\n",
    "\n",
    "# get importance\n",
    "importance = rf_ros.feature_importances_\n",
    "\n",
    "# summarize feature importance\n",
    "for i,v in enumerate(importance):\n",
    "    print('Feature: %0d, Score: %.5f' % (i,v))\n",
    "# plot feature importance\n",
    "pyplot.bar([x for x in range(len(importance))], importance)\n",
    "pyplot.show()"
   ]
  },
  {
   "cell_type": "markdown",
   "metadata": {},
   "source": [
    "#### As plot above, 7 features will be selected in the feature selection process."
   ]
  },
  {
   "cell_type": "code",
   "execution_count": 105,
   "metadata": {},
   "outputs": [],
   "source": [
    "# feature selection function\n",
    "def select_features(X_train, y_train, X_test):\n",
    "    # configure to select a subset of features\n",
    "    fs = SelectFromModel(RandomForestClassifier(n_estimators=1000), max_features=7)\n",
    "    # learn relationship from training data\n",
    "    fs.fit(X_train, y_train)\n",
    "    # transform train input data\n",
    "    X_train_fs = fs.transform(X_train)\n",
    "    # transform test input data\n",
    "    X_test_fs = fs.transform(X_test)\n",
    "    return X_train_fs, X_test_fs, fs"
   ]
  },
  {
   "cell_type": "code",
   "execution_count": 106,
   "metadata": {},
   "outputs": [],
   "source": [
    "# split into train and test sets\n",
    "\n",
    "# fit predictor and target variable \n",
    "# X_ros, y_ros = ros.fit_resample(X, y)\n",
    "\n",
    "# split the balanced dataset\n",
    "X_ros_train, X_ros_val, y_ros_train, y_ros_val = train_test_split(X_ros, y_ros, test_size=0.30, random_state=2020)\n",
    "\n",
    "# feature selection\n",
    "X_train_fs, X_val_fs, fs = select_features(X_ros_train, y_ros_train, X_ros_val)"
   ]
  },
  {
   "cell_type": "code",
   "execution_count": 107,
   "metadata": {},
   "outputs": [],
   "source": [
    "# fit the model\n",
    "clf_fs = DecisionTreeClassifier(random_state=2020)\n",
    "clf_fs = clf_fs.fit(X_train_fs, y_ros_train)\n",
    "#Predict the response for validation dataset\n",
    "y_pred_fs = clf_fs.predict(X_val_fs)\n",
    "# evaluate predictions\n",
    "i = round(recall_score(y_ros_val, y_pred_fs), 4)"
   ]
  },
  {
   "cell_type": "code",
   "execution_count": 108,
   "metadata": {},
   "outputs": [],
   "source": [
    "# Random Forest\n",
    "rf_fs = RandomForestClassifier(random_state=2020)\n",
    "rf_fs = rf_fs.fit(X_train_fs, y_ros_train)\n",
    "#Predict the response for validation dataset\n",
    "y_pred_rf_fs = rf_fs.predict(X_val_fs)\n",
    "# evaluate predictions\n",
    "j = round(recall_score(y_ros_val, y_pred_rf_fs), 4)"
   ]
  },
  {
   "cell_type": "code",
   "execution_count": 109,
   "metadata": {},
   "outputs": [],
   "source": [
    "# Adaboost\n",
    "adaboost_fs = AdaBoostClassifier(random_state=2222)\n",
    "adaboost_fs = adaboost_fs.fit(X_train_fs, y_ros_train)\n",
    "#Predict the response for validation dataset\n",
    "y_pred_ada_fs = adaboost_fs.predict(X_val_fs)\n",
    "# evaluate predictions\n",
    "k = round(recall_score(y_ros_val, y_pred_ada_fs), 4)"
   ]
  },
  {
   "cell_type": "code",
   "execution_count": 110,
   "metadata": {},
   "outputs": [],
   "source": [
    "# Gradient\n",
    "gbclf_fs = GradientBoostingClassifier(random_state=2020)\n",
    "gbclf_fs = gbclf_fs.fit(X_train_fs, y_ros_train)\n",
    "#Predict the response for validation dataset\n",
    "y_pred_gbclf_fs = gbclf_fs.predict(X_val_fs)\n",
    "# evaluate predictions\n",
    "l = round(recall_score(y_ros_val, y_pred_gbclf_fs), 4)"
   ]
  },
  {
   "cell_type": "code",
   "execution_count": 111,
   "metadata": {},
   "outputs": [
    {
     "name": "stdout",
     "output_type": "stream",
     "text": [
      "------------------------------------------------------------------\n",
      "         Below is the comparison table for recall score           \n",
      "------------------------------------------------------------------\n",
      "              Model           Base     Resampling  Resampling+FS\n",
      "0     -------------  -------------  -------------  -------------\n",
      "1     Decision Tree          0.254         0.9584         0.9595\n",
      "2     Random Forest         0.0366         0.9557         0.9541\n",
      "3          Adaboost         0.0389         0.6056          0.618\n",
      "4  GradientBoosting         0.0389         0.6548         0.6861\n",
      "------------------------------------------------------------------\n"
     ]
    }
   ],
   "source": [
    "# define\n",
    "a = round(recall_score(y_val, y_pred2), 4)\n",
    "b = round(recall_score(y_ros_val, y_pred_clf_ros), 4)\n",
    "c = round(recall_score(y_val, y_pred_rf2), 4)\n",
    "d = round(recall_score(y_ros_val, y_pred_rf_ros), 4)\n",
    "e = round(recall_score(y_val, y_pred_ada2), 4)\n",
    "f = round(recall_score(y_ros_val, y_pred_ada_ros), 4)\n",
    "g = round(recall_score(y_val, y_pred_gbclf_val), 4)\n",
    "h = round(recall_score(y_ros_val, y_pred_gbclf_ros), 4)\n",
    "\n",
    "data = [['-------------', '-------------', '-------------', '-------------'],\n",
    "['Decision Tree', a, b, i],\n",
    "['Random Forest', c, d, j],\n",
    "['Adaboost', e, f, k],\n",
    "['GradientBoosting', g, h, l]]\n",
    "headers=[\"Model\", \"Base\", \"Resampling\", \"Resampling+FS\"]\n",
    "\n",
    "print('------------------------------------------------------------------')\n",
    "print(\"         Below is the comparison table for recall score           \")\n",
    "print('------------------------------------------------------------------')\n",
    "print(pd.DataFrame(data=data, index=None, columns=headers))\n",
    "print('------------------------------------------------------------------')"
   ]
  },
  {
   "cell_type": "markdown",
   "metadata": {},
   "source": [
    "As the results show above, fortunately both methods seem to be working very well and added efficiency to each other in order to prepare data and enhance capability of the selected classifiers in this project. The recall metric is determined here. It is the measure of our model correctly identifying True Positives. Thus, for all the person who actually did not fully pay loans back, recall tells us how many we correctly identified person as not having potential for lending money business. \n",
    "\n",
    "As illustrated above, the resampling technique showed significant improvement on the score. That makes the classifier become more accurate in predicting the cases. The decision tree model get roughly 70% betterment and it display about 90% improvement for the random forest classifier. This also implied that these models might be very sensitive to imbalanced classes. Hence, it get better when they got resampling in place. Whereas, the adaboost and gradient boosting models also showed more than 50% improvement after resampling the data.\n",
    "\n",
    "In addition to the resampling technique, I implemented them further by applying the feature selection technique. The last column on the table above demonstrated that most of classifiers benefited from feature selection with approximately 2 % increase of the recall score. Our models are having more confident in predicting the positive cases."
   ]
  },
  {
   "cell_type": "markdown",
   "metadata": {},
   "source": [
    "# Q9"
   ]
  },
  {
   "cell_type": "markdown",
   "metadata": {},
   "source": [
    "- Choose the best fitted model for each of teh classifiers (1 model for each of Decision Tree, Random Forest, Adaboost, and Gradient Boosting)\n",
    "- Create a table summarizing results on the test set:\n",
    "    - Create confusion matrix for each model\n",
    "    - Either using the confusion matrix or the methods in `sklearn.metrics` get the following metrics on the testing set:\n",
    "        - Recall (Sensitivity)\n",
    "        - Specificity\n",
    "        - Precision\n",
    "        - Balanced Accuracy\n",
    "        - F1 Score"
   ]
  },
  {
   "cell_type": "markdown",
   "metadata": {},
   "source": [
    "### The best fitted model for each classifiers"
   ]
  },
  {
   "cell_type": "markdown",
   "metadata": {},
   "source": [
    "In this question, I will be utilizing the fitted model from the best hyperpameters that produced from my gridsearch together with the full implementation of improved method found in the Q8."
   ]
  },
  {
   "cell_type": "code",
   "execution_count": 112,
   "metadata": {},
   "outputs": [],
   "source": [
    "# (1) Resampling the dataset\n",
    "ros = RandomOverSampler(random_state=1414)\n",
    "# fit predictor and target variable \n",
    "X_ros, y_ros = ros.fit_resample(X, y)\n",
    "# split into train and test sets\n",
    "X_ros_train, X_ros_val, y_ros_train, y_ros_val = train_test_split(X_ros, y_ros, test_size=0.30, random_state=2020)\n",
    "\n",
    "# (2) Feature selection\n",
    "X_train_fs, X_val_fs, fs = select_features(X_ros_train, y_ros_train, X_ros_val)"
   ]
  },
  {
   "cell_type": "code",
   "execution_count": 113,
   "metadata": {},
   "outputs": [
    {
     "name": "stdout",
     "output_type": "stream",
     "text": [
      "GridSearch balanced accuracy:  0.5264\n",
      "Final DT Model balanced accuracy:  0.7344\n"
     ]
    }
   ],
   "source": [
    "# Decision Tree with GridSearch best hyperparameters and improved ways\n",
    "clf_best_full = DecisionTreeClassifier(min_samples_split=20, max_depth=16, random_state=2020)\n",
    "clf_best_full = clf_best_full.fit(X_train_fs, y_ros_train)\n",
    "#Predict the response for validation dataset\n",
    "y_pred_best_dt = clf_best_full.predict(X_val_fs)\n",
    "print(\"GridSearch balanced accuracy: \", round(metrics.balanced_accuracy_score(y_val, y_pred_best), 4))\n",
    "print(\"Final DT Model balanced accuracy: \", round(metrics.balanced_accuracy_score(y_ros_val, y_pred_best_dt), 4))"
   ]
  },
  {
   "cell_type": "code",
   "execution_count": 114,
   "metadata": {},
   "outputs": [
    {
     "name": "stdout",
     "output_type": "stream",
     "text": [
      "GridSearch balanced accuracy:  0.54\n",
      "Final RF Model balanced accuracy:  0.8832\n"
     ]
    }
   ],
   "source": [
    "# Random forest with GridSearch best hyperparameters and improved ways\n",
    "rf_best_full = RandomForestClassifier(min_samples_split=10, max_depth=16, n_estimators=200, random_state=2020)\n",
    "rf_best_full = rf_best_full.fit(X_train_fs, y_ros_train)\n",
    "#Predict the response for validation dataset\n",
    "y_pred_best_rf = rf_best_full.predict(X_val_fs)\n",
    "print(\"GridSearch balanced accuracy: \", round(metrics.balanced_accuracy_score(y_val, y_pred_best_val), 4))\n",
    "print(\"Final RF Model balanced accuracy: \", round(metrics.balanced_accuracy_score(y_ros_val, y_pred_best_rf), 4))"
   ]
  },
  {
   "cell_type": "code",
   "execution_count": 115,
   "metadata": {},
   "outputs": [
    {
     "name": "stdout",
     "output_type": "stream",
     "text": [
      "GridSearch balanced accuracy:  0.54\n",
      "Final Adaboost Model balanced accuracy:  0.6241\n"
     ]
    }
   ],
   "source": [
    "# Adaboost with GridSearch best hyperparameters and improved ways\n",
    "ada_best_full = AdaBoostClassifier(learning_rate=1, n_estimators=350, random_state=2222)\n",
    "ada_best_full = ada_best_full.fit(X_train_fs, y_ros_train)\n",
    "#Predict the response for validation dataset\n",
    "y_pred_best_ada = ada_best_full.predict(X_val_fs)\n",
    "print(\"GridSearch balanced accuracy: \", round(metrics.balanced_accuracy_score(y_val, y_pred_best_val), 4))\n",
    "print(\"Final Adaboost Model balanced accuracy: \", round(metrics.balanced_accuracy_score(y_ros_val, y_pred_best_ada), 4))"
   ]
  },
  {
   "cell_type": "code",
   "execution_count": 116,
   "metadata": {},
   "outputs": [
    {
     "name": "stdout",
     "output_type": "stream",
     "text": [
      "GridSearch balanced accuracy score:  0.54\n",
      "Final GradientBoosting Model balanced accuracy:  0.5294\n"
     ]
    }
   ],
   "source": [
    "# GradientBoosting with GridSearch best hyperparameters and improved ways\n",
    "gbclf_best_full = GradientBoostingClassifier(n_estimators=100, learning_rate=5, random_state=1111)\n",
    "gbclf_best_full = gbclf_best_full.fit(X_train_fs, y_ros_train)\n",
    "#Predict the response for validation dataset\n",
    "y_pred_best_gbclf = gbclf_best_full.predict(X_val_fs)\n",
    "print(\"GridSearch balanced accuracy score: \", round(metrics.balanced_accuracy_score(y_val, y_pred_best_val), 4))\n",
    "print(\"Final GradientBoosting Model balanced accuracy: \", round(metrics.balanced_accuracy_score(y_ros_val, y_pred_best_gbclf), 4))"
   ]
  },
  {
   "cell_type": "markdown",
   "metadata": {},
   "source": [
    "### The table summarizing results on the test set"
   ]
  },
  {
   "cell_type": "markdown",
   "metadata": {},
   "source": [
    "#### Confusion Matrix for each model"
   ]
  },
  {
   "cell_type": "code",
   "execution_count": 117,
   "metadata": {},
   "outputs": [
    {
     "data": {
      "image/png": "[encoded data removed]",
      "text/plain": [
       "<Figure size 1000x600 with 8 Axes>"
      ]
     },
     "metadata": {
      "needs_background": "light"
     },
     "output_type": "display_data"
    }
   ],
   "source": [
    "# plot with various axes scales\n",
    "plt.figure(figsize=(10,6), dpi=100)\n",
    "\n",
    "# Decision Tree\n",
    "plt.subplot(221)\n",
    "confusion_matrix =  pd.crosstab(index=y_ros_val, columns=y_pred_best_dt, rownames=['Actual'], colnames=['Predicted'])\n",
    "sns.heatmap(confusion_matrix, annot=True, square=False, fmt='', cbar=True)\n",
    "plt.title(\"Decision Tree\", fontsize = 12)\n",
    "\n",
    "# Random Forest\n",
    "plt.subplot(222)\n",
    "confusion_matrix =  pd.crosstab(index=y_ros_val, columns=y_pred_best_rf, rownames=['Actual'], colnames=['Predicted'])\n",
    "sns.heatmap(confusion_matrix, annot=True, square=False, fmt='', cbar=True)\n",
    "plt.title(\"Random Forest\", fontsize = 12)\n",
    "\n",
    "# Adaboost\n",
    "plt.subplot(223)\n",
    "confusion_matrix =  pd.crosstab(index=y_ros_val, columns=y_pred_best_ada, rownames=['Actual'], colnames=['Predicted'])\n",
    "sns.heatmap(confusion_matrix, annot=True, square=False, fmt='', cbar=True)\n",
    "plt.title(\"Adaboost\", fontsize = 12)\n",
    "\n",
    "# Gradient Boosting\n",
    "plt.subplot(224)\n",
    "confusion_matrix =  pd.crosstab(index=y_ros_val, columns=y_pred_best_gbclf, rownames=['Actual'], colnames=['Predicted'])\n",
    "sns.heatmap(confusion_matrix, annot=True, square=False, fmt='', cbar=True)\n",
    "plt.title(\"Gradient Boosting\", fontsize = 12)\n",
    "\n",
    "plt.subplots_adjust(top=0.92, bottom=0.08, left=0.10, right=0.95, hspace=0.5,\n",
    "                    wspace=0.5)\n",
    "plt.show()"
   ]
  },
  {
   "cell_type": "code",
   "execution_count": 118,
   "metadata": {},
   "outputs": [],
   "source": [
    "a_1 = round(recall_score(y_ros_val, y_pred_best_dt), 4)*100\n",
    "a_2 = round(1200/(1200+576), 4)*100\n",
    "a_3 = round(precision_score(y_ros_val, y_pred_best_dt), 4)*100\n",
    "a_4 = round(balanced_accuracy_score(y_ros_val, y_pred_best_dt), 4)*100\n",
    "a_5 = round(f1_score(y_ros_val, y_pred_best_dt), 4)*100\n",
    "a_6 = round(accuracy_score(y_ros_val, y_pred_best_dt), 4)*100\n",
    "\n",
    "b_1 = round(recall_score(y_ros_val, y_pred_best_rf), 4)*100\n",
    "b_2 = round(1509/(1509+267), 4)*100\n",
    "b_3 = round(precision_score(y_ros_val, y_pred_best_rf), 4)*100\n",
    "b_4 = round(balanced_accuracy_score(y_ros_val, y_pred_best_rf), 4)*100\n",
    "b_5 = round(f1_score(y_ros_val, y_pred_best_rf), 4)*100\n",
    "b_6 = round(accuracy_score(y_ros_val, y_pred_best_rf), 4)*100\n",
    "\n",
    "c_1 = round(recall_score(y_ros_val, y_pred_best_ada), 4)*100\n",
    "c_2 = round(1095/(1095+681), 4)*100\n",
    "c_3 = round(precision_score(y_ros_val, y_pred_best_ada), 4)*100\n",
    "c_4 = round(balanced_accuracy_score(y_ros_val, y_pred_best_ada), 4)*100\n",
    "c_5 = round(f1_score(y_ros_val, y_pred_best_ada), 4)*100\n",
    "c_6 = round(accuracy_score(y_ros_val, y_pred_best_ada), 4)*100\n",
    "\n",
    "d_1 = round(recall_score(y_ros_val, y_pred_best_gbclf), 4)*100\n",
    "d_2 = round(402/(1374+402), 4)*100\n",
    "d_3 = round(precision_score(y_ros_val, y_pred_best_gbclf), 4)*100\n",
    "d_4 = round(balanced_accuracy_score(y_ros_val, y_pred_best_gbclf), 4)*100\n",
    "d_5 = round(f1_score(y_ros_val, y_pred_best_gbclf), 4)*100\n",
    "d_6 = round(accuracy_score(y_ros_val, y_pred_best_gbclf), 4)*100"
   ]
  },
  {
   "cell_type": "code",
   "execution_count": 119,
   "metadata": {},
   "outputs": [
    {
     "name": "stdout",
     "output_type": "stream",
     "text": [
      "           Below is the score summarized table for all models               \n",
      "_____________________________________________________________________________\n",
      "                   Decision Tree  Random Forest       Adaboost       Gradient\n",
      "                   -------------  -------------  -------------  -------------\n",
      "Recall                     79.31          91.68          63.16          83.25\n",
      "Specificity                67.57          84.97          61.66          22.64\n",
      "Precision                  71.82          86.41          63.19          52.86\n",
      "Balanced Accuracy          73.44          88.32          62.41          52.94\n",
      "F1 Score                   75.38          88.96          63.17          64.67\n",
      "Accuracy                   73.56          88.39          62.42          53.57\n",
      "_____________________________________________________________________________\n"
     ]
    }
   ],
   "source": [
    "data = [['-------------', '-------------', '-------------', '-------------'],\n",
    "[a_1, b_1, c_1, d_1],\n",
    "[a_2, b_2, c_2, d_2],\n",
    "[a_3, b_3, c_3, d_3],\n",
    "[a_4, b_4, c_4, d_4],\n",
    "[a_5, b_5, c_5, d_5],\n",
    "[a_6, b_6, c_6, d_6]]\n",
    "headers=[\"Decision Tree\", \"Random Forest\", \"Adaboost\", \"Gradient\"]\n",
    "indexheaders=[\"\", \"Recall\", \"Specificity\", \"Precision\", \"Balanced Accuracy\", \"F1 Score\", \"Accuracy\"]\n",
    "\n",
    "print(\"           Below is the score summarized table for all models               \")\n",
    "print('_____________________________________________________________________________')\n",
    "print(pd.DataFrame(data=data, index=indexheaders, columns=headers))\n",
    "print('_____________________________________________________________________________')"
   ]
  },
  {
   "cell_type": "markdown",
   "metadata": {},
   "source": [
    "From the summarized table above, it showed that Random forest appeared to be the model that outperformed the rest of classifiers with respect to this dataset. It illustarted that the model has 88.32% of balacnded accuracy and 88.39% of accuracy, both matrics could be measured in this resampled dataset. Additionally, random forest also showed the highest recall score, roughly 92%. This means that the model has 0.92 chance of predicting yes when it is actually yes case. The percentage of model performance could be further enhanced by extending the range of parameters on the grid search operation, since this results only accounted for some range that allowed to complete project within provided timeframe."
   ]
  },
  {
   "cell_type": "markdown",
   "metadata": {},
   "source": [
    "# Q10"
   ]
  },
  {
   "cell_type": "markdown",
   "metadata": {},
   "source": [
    "- Choose a winner model.\n",
    "- Make predictions on the hold-out set whose outcome variables are not known (data we imported as: `loans_outcome_not_known`).\n",
    "- Write the code below to make predictions with this model. At the end it should output the prediction of the labels.\n",
    "- Save the predictions in a csv file\n",
    "- There should be a single column in the csv file.\n",
    "- The column header should be 'predictions'\n",
    "- Your prediction performance will be calculated and a ranking will be performed "
   ]
  },
  {
   "cell_type": "code",
   "execution_count": 120,
   "metadata": {},
   "outputs": [
    {
     "data": {
      "text/html": [
       "<div>\n",
       "<style scoped>\n",
       "    .dataframe tbody tr th:only-of-type {\n",
       "        vertical-align: middle;\n",
       "    }\n",
       "\n",
       "    .dataframe tbody tr th {\n",
       "        vertical-align: top;\n",
       "    }\n",
       "\n",
       "    .dataframe thead th {\n",
       "        text-align: right;\n",
       "    }\n",
       "</style>\n",
       "<table border=\"1\" class=\"dataframe\">\n",
       "  <thead>\n",
       "    <tr style=\"text-align: right;\">\n",
       "      <th></th>\n",
       "      <th>credit.policy</th>\n",
       "      <th>int.rate</th>\n",
       "      <th>installment</th>\n",
       "      <th>log.annual.inc</th>\n",
       "      <th>dti</th>\n",
       "      <th>fico</th>\n",
       "      <th>days.with.cr.line</th>\n",
       "      <th>revol.bal</th>\n",
       "      <th>revol.util</th>\n",
       "      <th>inq.last.6mths</th>\n",
       "      <th>delinq.2yrs</th>\n",
       "      <th>pub.rec</th>\n",
       "      <th>purpose_all_other</th>\n",
       "      <th>purpose_credit_card</th>\n",
       "      <th>purpose_debt_consolidation</th>\n",
       "      <th>purpose_educational</th>\n",
       "      <th>purpose_home_improvement</th>\n",
       "      <th>purpose_major_purchase</th>\n",
       "      <th>purpose_small_business</th>\n",
       "    </tr>\n",
       "  </thead>\n",
       "  <tbody>\n",
       "    <tr>\n",
       "      <th>0</th>\n",
       "      <td>1</td>\n",
       "      <td>0.1324</td>\n",
       "      <td>540.96</td>\n",
       "      <td>10.596635</td>\n",
       "      <td>11.73</td>\n",
       "      <td>672</td>\n",
       "      <td>3210.000000</td>\n",
       "      <td>5671</td>\n",
       "      <td>55.1</td>\n",
       "      <td>0</td>\n",
       "      <td>0</td>\n",
       "      <td>0</td>\n",
       "      <td>0</td>\n",
       "      <td>0</td>\n",
       "      <td>1</td>\n",
       "      <td>0</td>\n",
       "      <td>0</td>\n",
       "      <td>0</td>\n",
       "      <td>0</td>\n",
       "    </tr>\n",
       "    <tr>\n",
       "      <th>1</th>\n",
       "      <td>0</td>\n",
       "      <td>0.1221</td>\n",
       "      <td>333.15</td>\n",
       "      <td>11.156193</td>\n",
       "      <td>15.82</td>\n",
       "      <td>707</td>\n",
       "      <td>5314.000000</td>\n",
       "      <td>107643</td>\n",
       "      <td>81.0</td>\n",
       "      <td>3</td>\n",
       "      <td>0</td>\n",
       "      <td>0</td>\n",
       "      <td>0</td>\n",
       "      <td>0</td>\n",
       "      <td>0</td>\n",
       "      <td>1</td>\n",
       "      <td>0</td>\n",
       "      <td>0</td>\n",
       "      <td>0</td>\n",
       "    </tr>\n",
       "    <tr>\n",
       "      <th>2</th>\n",
       "      <td>1</td>\n",
       "      <td>0.1218</td>\n",
       "      <td>166.50</td>\n",
       "      <td>10.753836</td>\n",
       "      <td>6.38</td>\n",
       "      <td>772</td>\n",
       "      <td>1440.000000</td>\n",
       "      <td>233</td>\n",
       "      <td>6.7</td>\n",
       "      <td>0</td>\n",
       "      <td>0</td>\n",
       "      <td>0</td>\n",
       "      <td>0</td>\n",
       "      <td>0</td>\n",
       "      <td>1</td>\n",
       "      <td>0</td>\n",
       "      <td>0</td>\n",
       "      <td>0</td>\n",
       "      <td>0</td>\n",
       "    </tr>\n",
       "    <tr>\n",
       "      <th>3</th>\n",
       "      <td>0</td>\n",
       "      <td>0.1461</td>\n",
       "      <td>124.12</td>\n",
       "      <td>10.239960</td>\n",
       "      <td>0.00</td>\n",
       "      <td>692</td>\n",
       "      <td>1530.041667</td>\n",
       "      <td>0</td>\n",
       "      <td>0.0</td>\n",
       "      <td>6</td>\n",
       "      <td>0</td>\n",
       "      <td>0</td>\n",
       "      <td>0</td>\n",
       "      <td>0</td>\n",
       "      <td>0</td>\n",
       "      <td>0</td>\n",
       "      <td>0</td>\n",
       "      <td>1</td>\n",
       "      <td>0</td>\n",
       "    </tr>\n",
       "    <tr>\n",
       "      <th>4</th>\n",
       "      <td>1</td>\n",
       "      <td>0.0800</td>\n",
       "      <td>156.69</td>\n",
       "      <td>10.434116</td>\n",
       "      <td>15.85</td>\n",
       "      <td>767</td>\n",
       "      <td>10170.000000</td>\n",
       "      <td>5748</td>\n",
       "      <td>12.3</td>\n",
       "      <td>0</td>\n",
       "      <td>1</td>\n",
       "      <td>0</td>\n",
       "      <td>0</td>\n",
       "      <td>1</td>\n",
       "      <td>0</td>\n",
       "      <td>0</td>\n",
       "      <td>0</td>\n",
       "      <td>0</td>\n",
       "      <td>0</td>\n",
       "    </tr>\n",
       "  </tbody>\n",
       "</table>\n",
       "</div>"
      ],
      "text/plain": [
       "   credit.policy  int.rate  installment  log.annual.inc    dti  fico  \\\n",
       "0              1    0.1324       540.96       10.596635  11.73   672   \n",
       "1              0    0.1221       333.15       11.156193  15.82   707   \n",
       "2              1    0.1218       166.50       10.753836   6.38   772   \n",
       "3              0    0.1461       124.12       10.239960   0.00   692   \n",
       "4              1    0.0800       156.69       10.434116  15.85   767   \n",
       "\n",
       "   days.with.cr.line  revol.bal  revol.util  inq.last.6mths  delinq.2yrs  \\\n",
       "0        3210.000000       5671        55.1               0            0   \n",
       "1        5314.000000     107643        81.0               3            0   \n",
       "2        1440.000000        233         6.7               0            0   \n",
       "3        1530.041667          0         0.0               6            0   \n",
       "4       10170.000000       5748        12.3               0            1   \n",
       "\n",
       "   pub.rec  purpose_all_other  purpose_credit_card  \\\n",
       "0        0                  0                    0   \n",
       "1        0                  0                    0   \n",
       "2        0                  0                    0   \n",
       "3        0                  0                    0   \n",
       "4        0                  0                    1   \n",
       "\n",
       "   purpose_debt_consolidation  purpose_educational  purpose_home_improvement  \\\n",
       "0                           1                    0                         0   \n",
       "1                           0                    1                         0   \n",
       "2                           1                    0                         0   \n",
       "3                           0                    0                         0   \n",
       "4                           0                    0                         0   \n",
       "\n",
       "   purpose_major_purchase  purpose_small_business  \n",
       "0                       0                       0  \n",
       "1                       0                       0  \n",
       "2                       0                       0  \n",
       "3                       1                       0  \n",
       "4                       0                       0  "
      ]
     },
     "execution_count": 120,
     "metadata": {},
     "output_type": "execute_result"
    }
   ],
   "source": [
    "loans_outcome_not_known.head()"
   ]
  },
  {
   "cell_type": "code",
   "execution_count": 127,
   "metadata": {},
   "outputs": [],
   "source": [
    "# define X_test\n",
    "X_test = loans_outcome_not_known\n",
    "# Feature selection for new test set\n",
    "X_train_fs, X_test_fs, fs = select_features(X_ros_train, y_ros_train, X_test)"
   ]
  },
  {
   "cell_type": "code",
   "execution_count": 128,
   "metadata": {},
   "outputs": [],
   "source": [
    "# Random forest with GridSearch best hyperparameters and resampling technqiue\n",
    "rf_best_full = RandomForestClassifier(min_samples_split=10, max_depth=16, n_estimators=200, random_state=2020)\n",
    "rf_best_full = rf_best_full.fit(X_train_fs, y_ros_train)"
   ]
  },
  {
   "cell_type": "code",
   "execution_count": 129,
   "metadata": {},
   "outputs": [],
   "source": [
    "#Predict the response for test dataset\n",
    "y_pred_best_rf = rf_best_full.predict(X_test_fs)"
   ]
  },
  {
   "cell_type": "code",
   "execution_count": 130,
   "metadata": {},
   "outputs": [
    {
     "name": "stdout",
     "output_type": "stream",
     "text": [
      "      predictions\n",
      "0               0\n",
      "1               1\n",
      "2               0\n",
      "3               1\n",
      "4               0\n",
      "...           ...\n",
      "2095            0\n",
      "2096            0\n",
      "2097            0\n",
      "2098            0\n",
      "2099            0\n",
      "\n",
      "[2100 rows x 1 columns]\n"
     ]
    }
   ],
   "source": [
    "# convert to pandas dataframe and rename column to predictions\n",
    "df = pd.DataFrame(y_pred_best_rf, columns=['predictions'])\n",
    "print(df)"
   ]
  },
  {
   "cell_type": "code",
   "execution_count": 131,
   "metadata": {},
   "outputs": [],
   "source": [
    "# save to csv file\n",
    "df.to_csv('DSC540_Project2_Predictions_Natapong.csv', index = False)"
   ]
  },
  {
   "cell_type": "markdown",
   "metadata": {},
   "source": [
    "# Great Job !"
   ]
  }
 ],
 "metadata": {
  "kernelspec": {
   "display_name": "Python 3",
   "language": "python",
   "name": "python3"
  },
  "language_info": {
   "codemirror_mode": {
    "name": "ipython",
    "version": 3
   },
   "file_extension": ".py",
   "mimetype": "text/x-python",
   "name": "python",
   "nbconvert_exporter": "python",
   "pygments_lexer": "ipython3",
   "version": "3.7.4"
  },
  "toc": {
   "base_numbering": 1,
   "nav_menu": {},
   "number_sections": false,
   "sideBar": false,
   "skip_h1_title": false,
   "title_cell": "Table of Contents",
   "title_sidebar": "Contents",
   "toc_cell": false,
   "toc_position": {},
   "toc_section_display": false,
   "toc_window_display": false
  }
 },
 "nbformat": 4,
 "nbformat_minor": 1
}
